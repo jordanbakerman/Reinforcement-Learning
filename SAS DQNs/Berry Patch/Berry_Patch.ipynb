{
 "cells": [
  {
   "cell_type": "markdown",
   "metadata": {},
   "source": [
    "# Berry Patch"
   ]
  },
  {
   "cell_type": "markdown",
   "metadata": {},
   "source": [
    "![title](berry_patch_pic.png)"
   ]
  },
  {
   "cell_type": "markdown",
   "metadata": {},
   "source": [
    "# Load Packages"
   ]
  },
  {
   "cell_type": "code",
   "execution_count": 1,
   "metadata": {},
   "outputs": [],
   "source": [
    "import swat\n",
    "import numpy as np\n",
    "import matplotlib.pyplot as plt\n",
    "import subprocess\n",
    "import gym\n",
    "import gym_berrypatch"
   ]
  },
  {
   "cell_type": "markdown",
   "metadata": {},
   "source": [
    "# Connect to CAS"
   ]
  },
  {
   "cell_type": "code",
   "execution_count": 2,
   "metadata": {},
   "outputs": [],
   "source": [
    "conn = swat.CAS(\"server\", 30571, \"student\", \"Metadata0\")"
   ]
  },
  {
   "cell_type": "markdown",
   "metadata": {},
   "source": [
    "# Make Environment"
   ]
  },
  {
   "cell_type": "code",
   "execution_count": 3,
   "metadata": {},
   "outputs": [
    {
     "name": "stdout",
     "output_type": "stream",
     "text": [
      "[[ -1. -10.  -1.  -1.]\n",
      " [ -1.  -1.  -1.  -1.]\n",
      " [-10. -10. -10.  -1.]\n",
      " [ -1.  -1.  -1.  50.]]\n"
     ]
    }
   ],
   "source": [
    "env = gym.make('berrypatch-v0')"
   ]
  },
  {
   "cell_type": "code",
   "execution_count": 4,
   "metadata": {},
   "outputs": [
    {
     "data": {
      "text/plain": [
       "Discrete(4)"
      ]
     },
     "execution_count": 4,
     "metadata": {},
     "output_type": "execute_result"
    }
   ],
   "source": [
    "# Env Actions\n",
    "directions = {\"Up\":0,\"Down\":1,\"Left\":2,\"Right\":3}\n",
    "env.action_space"
   ]
  },
  {
   "cell_type": "code",
   "execution_count": 5,
   "metadata": {},
   "outputs": [
    {
     "data": {
      "text/plain": [
       "Box(0.0, 1.0, (16,), float32)"
      ]
     },
     "execution_count": 5,
     "metadata": {},
     "output_type": "execute_result"
    }
   ],
   "source": [
    "# Env Grid\n",
    "env.observation_space"
   ]
  },
  {
   "cell_type": "code",
   "execution_count": 6,
   "metadata": {},
   "outputs": [
    {
     "name": "stdout",
     "output_type": "stream",
     "text": [
      "New episode\n"
     ]
    },
    {
     "data": {
      "text/plain": [
       "array([1., 0., 0., 0., 0., 0., 0., 0., 0., 0., 0., 0., 0., 0., 0., 0.])"
      ]
     },
     "execution_count": 6,
     "metadata": {},
     "output_type": "execute_result"
    }
   ],
   "source": [
    "# Env Start\n",
    "env.reset()"
   ]
  },
  {
   "cell_type": "code",
   "execution_count": 7,
   "metadata": {},
   "outputs": [
    {
     "name": "stdout",
     "output_type": "stream",
     "text": [
      "DOWN\n"
     ]
    },
    {
     "data": {
      "text/plain": [
       "(array([0., 0., 0., 0., 1., 0., 0., 0., 0., 0., 0., 0., 0., 0., 0., 0.]),\n",
       " -1.0,\n",
       " False,\n",
       " {})"
      ]
     },
     "execution_count": 7,
     "metadata": {},
     "output_type": "execute_result"
    }
   ],
   "source": [
    "# Take a Step\n",
    "env.step(1)"
   ]
  },
  {
   "cell_type": "markdown",
   "metadata": {},
   "source": [
    "# Create SAS RL Environment URL"
   ]
  },
  {
   "cell_type": "code",
   "execution_count": 8,
   "metadata": {},
   "outputs": [],
   "source": [
    "cmd_data = subprocess.check_output(['ipconfig','/all']).decode('utf-8').split('\\n')\n",
    "ip_data = [item for item in cmd_data if \"IPv4 Address\" in item]\n",
    "computer_id = ip_data[0].split(\": \")[1].split(\"(\")[0]\n",
    "sasrl_env_port = \"10200\"\n",
    "sasrl_env_url = computer_id + \":\" + sasrl_env_port"
   ]
  },
  {
   "cell_type": "markdown",
   "metadata": {},
   "source": [
    "# Load the RL Action Set"
   ]
  },
  {
   "cell_type": "code",
   "execution_count": 9,
   "metadata": {},
   "outputs": [
    {
     "name": "stdout",
     "output_type": "stream",
     "text": [
      "NOTE: Added action set 'reinforcementLearn'.\n"
     ]
    },
    {
     "data": {
      "text/html": [
       "<div class=\"cas-results-key\"><b>&#167; actionset</b></div>\n",
       "<div class=\"cas-results-body\">\n",
       "<div>reinforcementLearn</div>\n",
       "</div>\n",
       "<div class=\"cas-output-area\"></div>\n",
       "<p class=\"cas-results-performance\"><small><span class=\"cas-elapsed\">elapsed 0.848s</span> &#183; <span class=\"cas-user\">user 0.747s</span> &#183; <span class=\"cas-sys\">sys 1.15s</span> &#183; <span class=\"cas-memory\">mem 0.22MB</span></small></p>"
      ],
      "text/plain": [
       "[actionset]\n",
       "\n",
       " 'reinforcementLearn'\n",
       "\n",
       "+ Elapsed: 0.848s, user: 0.747s, sys: 1.15s, mem: 0.22mb"
      ]
     },
     "execution_count": 9,
     "metadata": {},
     "output_type": "execute_result"
    }
   ],
   "source": [
    "conn.loadactionset('reinforcementLearn')"
   ]
  },
  {
   "cell_type": "markdown",
   "metadata": {},
   "source": [
    "# Train the Agent - Deep Q Networks"
   ]
  },
  {
   "cell_type": "code",
   "execution_count": 10,
   "metadata": {},
   "outputs": [
    {
     "name": "stdout",
     "output_type": "stream",
     "text": [
      "WARNING: The minReplayMemory size is smaller than the batch size.\n",
      "WARNING: Small test interval might result in slow training.\n",
      "         Episode=        0 AvgQValue=-0.766 AvgTarget=-2.795 AvgLoss=17.225 TestReward=  -200\n",
      "         Episode=       10 AvgQValue=-2.989 AvgTarget=-2.199 AvgLoss=57.891 TestReward=    45\n",
      "         Episode=       20 AvgQValue= -2.54 AvgTarget=-0.367 AvgLoss=111.54 TestReward=    45\n",
      "         Episode=       30 AvgQValue=-1.048 AvgTarget=0.1586 AvgLoss= 51.21 TestReward=    36\n",
      "         Episode=       40 AvgQValue=1.9227 AvgTarget=3.1593 AvgLoss= 37.46 TestReward=    45\n",
      "         Episode=       50 AvgQValue=7.2565 AvgTarget=9.8564 AvgLoss=35.001 TestReward=    45\n",
      "         Episode=       60 AvgQValue=10.457 AvgTarget=10.852 AvgLoss=8.1364 TestReward=    45\n",
      "         Episode=       70 AvgQValue=20.271 AvgTarget=20.376 AvgLoss=7.6552 TestReward=    45\n",
      "         Episode=       80 AvgQValue=23.251 AvgTarget=27.896 AvgLoss=33.933 TestReward=    45\n",
      "         Episode=       90 AvgQValue=29.534 AvgTarget=29.519 AvgLoss=5.6575 TestReward=    45\n",
      "         Episode=      100 AvgQValue=34.133 AvgTarget=34.935 AvgLoss=14.803 TestReward=    45\n",
      "NOTE: Reinforcement learning rlTrainDqn action complete.\n"
     ]
    }
   ],
   "source": [
    "results = conn.reinforcementLearn.rlTrainDqn(\n",
    "    \n",
    "    # RL Arguments\n",
    "    environment=dict(type='remote', url=sasrl_env_url, name='berrypatch-v0', render=False, seed=802),\n",
    "    exploration = dict(type=\"linear\", initialEpsilon=0.25, minEpsilon=0.05),\n",
    "    gamma = 0.99,\n",
    "    numEpisodes = 100,\n",
    "    \n",
    "    # NN Arguments\n",
    "    QModel=[{'type':'FC', 'n':100, 'act':'RELU'}],\n",
    "    optimizer=dict(method='ADAM', beta1=0.9, beta2=0.999, learningRate=0.001, miniBatchSize=128),\n",
    "    minReplayMemory = 10,\n",
    "    maxReplayMemory = 1000,\n",
    "    targetUpdateInterval = 100,\n",
    "    \n",
    "    # Test Arguments\n",
    "    testInterval = 10,\n",
    "    numTestEpisodes = 10,\n",
    "    \n",
    "    # Other Arguments\n",
    "    modelOut=dict(name='dqn_weights', replace=True),\n",
    "    seed = 919\n",
    "    \n",
    ")"
   ]
  },
  {
   "cell_type": "code",
   "execution_count": 11,
   "metadata": {},
   "outputs": [
    {
     "data": {
      "text/html": [
       "<div>\n",
       "<style scoped>\n",
       "    .dataframe tbody tr th:only-of-type {\n",
       "        vertical-align: middle;\n",
       "    }\n",
       "\n",
       "    .dataframe tbody tr th {\n",
       "        vertical-align: top;\n",
       "    }\n",
       "\n",
       "    .dataframe thead th {\n",
       "        text-align: right;\n",
       "    }\n",
       "</style>\n",
       "<table border=\"1\" class=\"dataframe\">\n",
       "  <thead>\n",
       "    <tr style=\"text-align: right;\">\n",
       "      <th title=\"\"></th>\n",
       "      <th title=\"Description\">Description</th>\n",
       "      <th title=\"Value\">Value</th>\n",
       "    </tr>\n",
       "  </thead>\n",
       "  <tbody>\n",
       "    <tr>\n",
       "      <td>0</td>\n",
       "      <td>Average QValue</td>\n",
       "      <td>34.133293</td>\n",
       "    </tr>\n",
       "    <tr>\n",
       "      <td>1</td>\n",
       "      <td>Average Target Value</td>\n",
       "      <td>34.935025</td>\n",
       "    </tr>\n",
       "    <tr>\n",
       "      <td>2</td>\n",
       "      <td>Test Reward</td>\n",
       "      <td>45.000000</td>\n",
       "    </tr>\n",
       "  </tbody>\n",
       "</table>\n",
       "</div>"
      ],
      "text/plain": [
       "            Description      Value\n",
       "0        Average QValue  34.133293\n",
       "1  Average Target Value  34.935025\n",
       "2           Test Reward  45.000000"
      ]
     },
     "execution_count": 11,
     "metadata": {},
     "output_type": "execute_result"
    }
   ],
   "source": [
    "results['FinalResult']"
   ]
  },
  {
   "cell_type": "code",
   "execution_count": 12,
   "metadata": {},
   "outputs": [
    {
     "data": {
      "text/html": [
       "<div>\n",
       "<style scoped>\n",
       "    .dataframe tbody tr th:only-of-type {\n",
       "        vertical-align: middle;\n",
       "    }\n",
       "\n",
       "    .dataframe tbody tr th {\n",
       "        vertical-align: top;\n",
       "    }\n",
       "\n",
       "    .dataframe thead th {\n",
       "        text-align: right;\n",
       "    }\n",
       "</style>\n",
       "<table border=\"1\" class=\"dataframe\">\n",
       "  <thead>\n",
       "    <tr style=\"text-align: right;\">\n",
       "      <th title=\"\"></th>\n",
       "      <th title=\"Property\">Property</th>\n",
       "      <th title=\"Value\">Value</th>\n",
       "    </tr>\n",
       "  </thead>\n",
       "  <tbody>\n",
       "    <tr>\n",
       "      <td>0</td>\n",
       "      <td>Number of State Variables</td>\n",
       "      <td>16</td>\n",
       "    </tr>\n",
       "    <tr>\n",
       "      <td>1</td>\n",
       "      <td>Number of Actions</td>\n",
       "      <td>4</td>\n",
       "    </tr>\n",
       "    <tr>\n",
       "      <td>2</td>\n",
       "      <td>Algorithm</td>\n",
       "      <td>DQN</td>\n",
       "    </tr>\n",
       "    <tr>\n",
       "      <td>3</td>\n",
       "      <td>Optimizer</td>\n",
       "      <td>ADAM</td>\n",
       "    </tr>\n",
       "  </tbody>\n",
       "</table>\n",
       "</div>"
      ],
      "text/plain": [
       "                    Property Value\n",
       "0  Number of State Variables    16\n",
       "1          Number of Actions     4\n",
       "2                  Algorithm   DQN\n",
       "3                  Optimizer  ADAM"
      ]
     },
     "execution_count": 12,
     "metadata": {},
     "output_type": "execute_result"
    }
   ],
   "source": [
    "results['ModelInfo']"
   ]
  },
  {
   "cell_type": "code",
   "execution_count": 13,
   "metadata": {},
   "outputs": [
    {
     "data": {
      "text/html": [
       "<div>\n",
       "<style scoped>\n",
       "    .dataframe tbody tr th:only-of-type {\n",
       "        vertical-align: middle;\n",
       "    }\n",
       "\n",
       "    .dataframe tbody tr th {\n",
       "        vertical-align: top;\n",
       "    }\n",
       "\n",
       "    .dataframe thead th {\n",
       "        text-align: right;\n",
       "    }\n",
       "</style>\n",
       "<table border=\"1\" class=\"dataframe\"><caption>Iteration History</caption>\n",
       "  <thead>\n",
       "    <tr style=\"text-align: right;\">\n",
       "      <th title=\"\"></th>\n",
       "      <th title=\"Iteration\">Iteration</th>\n",
       "      <th title=\"Average Q Value\">AvgQValue</th>\n",
       "      <th title=\"Average Target\">AvgTarget</th>\n",
       "      <th title=\"Average Loss\">AvgLoss</th>\n",
       "      <th title=\"Test Reward\">Test Reward</th>\n",
       "    </tr>\n",
       "  </thead>\n",
       "  <tbody>\n",
       "    <tr>\n",
       "      <td>0</td>\n",
       "      <td>0</td>\n",
       "      <td>-0.765684</td>\n",
       "      <td>-2.795022</td>\n",
       "      <td>17.224714</td>\n",
       "      <td>-200.0</td>\n",
       "    </tr>\n",
       "    <tr>\n",
       "      <td>1</td>\n",
       "      <td>10</td>\n",
       "      <td>-2.989429</td>\n",
       "      <td>-2.198808</td>\n",
       "      <td>57.891330</td>\n",
       "      <td>45.0</td>\n",
       "    </tr>\n",
       "    <tr>\n",
       "      <td>2</td>\n",
       "      <td>20</td>\n",
       "      <td>-2.539705</td>\n",
       "      <td>-0.367366</td>\n",
       "      <td>111.542025</td>\n",
       "      <td>45.0</td>\n",
       "    </tr>\n",
       "    <tr>\n",
       "      <td>3</td>\n",
       "      <td>30</td>\n",
       "      <td>-1.048128</td>\n",
       "      <td>0.158629</td>\n",
       "      <td>51.210463</td>\n",
       "      <td>36.0</td>\n",
       "    </tr>\n",
       "    <tr>\n",
       "      <td>4</td>\n",
       "      <td>40</td>\n",
       "      <td>1.922652</td>\n",
       "      <td>3.159277</td>\n",
       "      <td>37.460004</td>\n",
       "      <td>45.0</td>\n",
       "    </tr>\n",
       "    <tr>\n",
       "      <td>5</td>\n",
       "      <td>50</td>\n",
       "      <td>7.256482</td>\n",
       "      <td>9.856369</td>\n",
       "      <td>35.000915</td>\n",
       "      <td>45.0</td>\n",
       "    </tr>\n",
       "    <tr>\n",
       "      <td>6</td>\n",
       "      <td>60</td>\n",
       "      <td>10.457106</td>\n",
       "      <td>10.852317</td>\n",
       "      <td>8.136368</td>\n",
       "      <td>45.0</td>\n",
       "    </tr>\n",
       "    <tr>\n",
       "      <td>7</td>\n",
       "      <td>70</td>\n",
       "      <td>20.271482</td>\n",
       "      <td>20.376158</td>\n",
       "      <td>7.655221</td>\n",
       "      <td>45.0</td>\n",
       "    </tr>\n",
       "    <tr>\n",
       "      <td>8</td>\n",
       "      <td>80</td>\n",
       "      <td>23.250587</td>\n",
       "      <td>27.896207</td>\n",
       "      <td>33.932748</td>\n",
       "      <td>45.0</td>\n",
       "    </tr>\n",
       "    <tr>\n",
       "      <td>9</td>\n",
       "      <td>90</td>\n",
       "      <td>29.534424</td>\n",
       "      <td>29.518835</td>\n",
       "      <td>5.657462</td>\n",
       "      <td>45.0</td>\n",
       "    </tr>\n",
       "    <tr>\n",
       "      <td>10</td>\n",
       "      <td>100</td>\n",
       "      <td>34.133293</td>\n",
       "      <td>34.935025</td>\n",
       "      <td>14.802797</td>\n",
       "      <td>45.0</td>\n",
       "    </tr>\n",
       "  </tbody>\n",
       "</table>\n",
       "</div>"
      ],
      "text/plain": [
       "Iteration History\n",
       "\n",
       "    Iteration  AvgQValue  AvgTarget     AvgLoss  Test Reward\n",
       "0           0  -0.765684  -2.795022   17.224714       -200.0\n",
       "1          10  -2.989429  -2.198808   57.891330         45.0\n",
       "2          20  -2.539705  -0.367366  111.542025         45.0\n",
       "3          30  -1.048128   0.158629   51.210463         36.0\n",
       "4          40   1.922652   3.159277   37.460004         45.0\n",
       "5          50   7.256482   9.856369   35.000915         45.0\n",
       "6          60  10.457106  10.852317    8.136368         45.0\n",
       "7          70  20.271482  20.376158    7.655221         45.0\n",
       "8          80  23.250587  27.896207   33.932748         45.0\n",
       "9          90  29.534424  29.518835    5.657462         45.0\n",
       "10        100  34.133293  34.935025   14.802797         45.0"
      ]
     },
     "execution_count": 13,
     "metadata": {},
     "output_type": "execute_result"
    }
   ],
   "source": [
    "results['OptIterHistory']"
   ]
  },
  {
   "cell_type": "code",
   "execution_count": 14,
   "metadata": {},
   "outputs": [
    {
     "data": {
      "image/png": "[encoded data removed]",
      "text/plain": [
       "<Figure size 432x288 with 1 Axes>"
      ]
     },
     "metadata": {
      "needs_background": "light"
     },
     "output_type": "display_data"
    }
   ],
   "source": [
    "plt.plot(results['OptIterHistory']['Iteration'],results['OptIterHistory']['AvgQValue'], color=\"blue\")\n",
    "plt.xlabel(\"Iteration\", fontsize=15)\n",
    "plt.ylabel(\"Average Q Value\", fontsize=15)\n",
    "plt.show()"
   ]
  },
  {
   "cell_type": "code",
   "execution_count": 15,
   "metadata": {},
   "outputs": [
    {
     "data": {
      "image/png": "[encoded data removed]",
      "text/plain": [
       "<Figure size 432x288 with 1 Axes>"
      ]
     },
     "metadata": {
      "needs_background": "light"
     },
     "output_type": "display_data"
    }
   ],
   "source": [
    "plt.plot(results['OptIterHistory']['Iteration'],results['OptIterHistory']['AvgLoss'], color=\"blue\")\n",
    "plt.xlabel(\"Iteration\", fontsize=15)\n",
    "plt.ylabel(\"Average Loss\", fontsize=15)\n",
    "plt.show()"
   ]
  },
  {
   "cell_type": "code",
   "execution_count": 16,
   "metadata": {},
   "outputs": [
    {
     "data": {
      "image/png": "[encoded data removed]",
      "text/plain": [
       "<Figure size 432x288 with 1 Axes>"
      ]
     },
     "metadata": {
      "needs_background": "light"
     },
     "output_type": "display_data"
    }
   ],
   "source": [
    "plt.plot(results['OptIterHistory']['Iteration'],results['OptIterHistory']['Test Reward'], color=\"blue\")\n",
    "plt.xlabel(\"Iteration\", fontsize=15)\n",
    "plt.ylabel(\"Test Reward\", fontsize=15)\n",
    "plt.show()"
   ]
  },
  {
   "cell_type": "markdown",
   "metadata": {},
   "source": [
    "# Score the Model"
   ]
  },
  {
   "cell_type": "code",
   "execution_count": 17,
   "metadata": {},
   "outputs": [
    {
     "name": "stdout",
     "output_type": "stream",
     "text": [
      "         Episode=        1 Step=        1 LastReward=     0 AverageReward=    -1\n",
      "         Episode=        1 Step=        2 LastReward=     0 AverageReward=    -2\n",
      "         Episode=        1 Step=        3 LastReward=     0 AverageReward=    -3\n",
      "         Episode=        1 Step=        4 LastReward=     0 AverageReward=    -4\n",
      "         Episode=        1 Step=        5 LastReward=     0 AverageReward=    -5\n",
      "         Episode=        1 Step=        6 LastReward=     0 AverageReward=    45\n",
      "NOTE: Reinforcement learning rlScore action complete.\n"
     ]
    },
    {
     "data": {
      "text/html": [
       "<div class=\"cas-results-key\"><b>&#167; ScoreInfo</b></div>\n",
       "<div class=\"cas-results-body\">\n",
       "<div>\n",
       "<style scoped>\n",
       "    .dataframe tbody tr th:only-of-type {\n",
       "        vertical-align: middle;\n",
       "    }\n",
       "\n",
       "    .dataframe tbody tr th {\n",
       "        vertical-align: top;\n",
       "    }\n",
       "\n",
       "    .dataframe thead th {\n",
       "        text-align: right;\n",
       "    }\n",
       "</style>\n",
       "<table border=\"1\" class=\"dataframe\">\n",
       "  <thead>\n",
       "    <tr style=\"text-align: right;\">\n",
       "      <th title=\"\"></th>\n",
       "      <th title=\"Property\">Property</th>\n",
       "      <th title=\"Value\">Value</th>\n",
       "    </tr>\n",
       "  </thead>\n",
       "  <tbody>\n",
       "    <tr>\n",
       "      <td>0</td>\n",
       "      <td>Number of State Variables</td>\n",
       "      <td>16</td>\n",
       "    </tr>\n",
       "    <tr>\n",
       "      <td>1</td>\n",
       "      <td>Number of Actions</td>\n",
       "      <td>4</td>\n",
       "    </tr>\n",
       "    <tr>\n",
       "      <td>2</td>\n",
       "      <td>Algorithm</td>\n",
       "      <td>DQN</td>\n",
       "    </tr>\n",
       "    <tr>\n",
       "      <td>3</td>\n",
       "      <td>Optimizer</td>\n",
       "      <td>ADAM</td>\n",
       "    </tr>\n",
       "  </tbody>\n",
       "</table>\n",
       "</div>\n",
       "</div>\n",
       "<div class=\"cas-output-area\"></div>\n",
       "<p class=\"cas-results-performance\"><small><span class=\"cas-elapsed\">elapsed 4.04s</span> &#183; <span class=\"cas-user\">user 0.0165s</span> &#183; <span class=\"cas-sys\">sys 0.00344s</span> &#183; <span class=\"cas-memory\">mem 17.4MB</span></small></p>"
      ],
      "text/plain": [
       "[ScoreInfo]\n",
       "\n",
       "                     Property Value\n",
       " 0  Number of State Variables    16\n",
       " 1          Number of Actions     4\n",
       " 2                  Algorithm   DQN\n",
       " 3                  Optimizer  ADAM\n",
       "\n",
       "+ Elapsed: 4.04s, user: 0.0165s, sys: 0.00344s, mem: 17.4mb"
      ]
     },
     "execution_count": 17,
     "metadata": {},
     "output_type": "execute_result"
    }
   ],
   "source": [
    "conn.reinforcementLearn.rlScore(\n",
    "    environment=dict(type='remote', url=sasrl_env_url, name='berrypatch-v0', render=False),\n",
    "    model='dqn_weights',\n",
    "    numEpisodes=1,\n",
    "    logFreq=1,\n",
    "    casout=dict(name='scored_table', replace=True)\n",
    ")"
   ]
  },
  {
   "cell_type": "markdown",
   "metadata": {},
   "source": [
    "# Download Final Test"
   ]
  },
  {
   "cell_type": "code",
   "execution_count": 18,
   "metadata": {},
   "outputs": [
    {
     "data": {
      "text/html": [
       "<div>\n",
       "<style scoped>\n",
       "    .dataframe tbody tr th:only-of-type {\n",
       "        vertical-align: middle;\n",
       "    }\n",
       "\n",
       "    .dataframe tbody tr th {\n",
       "        vertical-align: top;\n",
       "    }\n",
       "\n",
       "    .dataframe thead th {\n",
       "        text-align: right;\n",
       "    }\n",
       "</style>\n",
       "<table border=\"1\" class=\"dataframe\"><caption>Selected Rows from Table SCORED_TABLE</caption>\n",
       "  <thead>\n",
       "    <tr style=\"text-align: right;\">\n",
       "      <th title=\"\"></th>\n",
       "      <th title=\"_Step_\">_Step_</th>\n",
       "      <th title=\"_Episode_\">_Episode_</th>\n",
       "      <th title=\"_State_0\">_State_0</th>\n",
       "      <th title=\"_State_1\">_State_1</th>\n",
       "      <th title=\"_State_2\">_State_2</th>\n",
       "      <th title=\"_State_3\">_State_3</th>\n",
       "      <th title=\"_State_4\">_State_4</th>\n",
       "      <th title=\"_State_5\">_State_5</th>\n",
       "      <th title=\"_State_6\">_State_6</th>\n",
       "      <th title=\"_State_7\">_State_7</th>\n",
       "      <th title=\"...\">...</th>\n",
       "      <th title=\"_State_9\">_State_9</th>\n",
       "      <th title=\"_State_10\">_State_10</th>\n",
       "      <th title=\"_State_11\">_State_11</th>\n",
       "      <th title=\"_State_12\">_State_12</th>\n",
       "      <th title=\"_State_13\">_State_13</th>\n",
       "      <th title=\"_State_14\">_State_14</th>\n",
       "      <th title=\"_State_15\">_State_15</th>\n",
       "      <th title=\"_Action_\">_Action_</th>\n",
       "      <th title=\"_Reward_\">_Reward_</th>\n",
       "      <th title=\"_Done_\">_Done_</th>\n",
       "    </tr>\n",
       "  </thead>\n",
       "  <tbody>\n",
       "    <tr>\n",
       "      <td>0</td>\n",
       "      <td>0.0</td>\n",
       "      <td>1.0</td>\n",
       "      <td>1.0</td>\n",
       "      <td>0.0</td>\n",
       "      <td>0.0</td>\n",
       "      <td>0.0</td>\n",
       "      <td>0.0</td>\n",
       "      <td>0.0</td>\n",
       "      <td>0.0</td>\n",
       "      <td>0.0</td>\n",
       "      <td>...</td>\n",
       "      <td>0.0</td>\n",
       "      <td>0.0</td>\n",
       "      <td>0.0</td>\n",
       "      <td>0.0</td>\n",
       "      <td>0.0</td>\n",
       "      <td>0.0</td>\n",
       "      <td>0.0</td>\n",
       "      <td>1.0</td>\n",
       "      <td>-1.0</td>\n",
       "      <td>0.0</td>\n",
       "    </tr>\n",
       "    <tr>\n",
       "      <td>1</td>\n",
       "      <td>1.0</td>\n",
       "      <td>1.0</td>\n",
       "      <td>0.0</td>\n",
       "      <td>0.0</td>\n",
       "      <td>0.0</td>\n",
       "      <td>0.0</td>\n",
       "      <td>1.0</td>\n",
       "      <td>0.0</td>\n",
       "      <td>0.0</td>\n",
       "      <td>0.0</td>\n",
       "      <td>...</td>\n",
       "      <td>0.0</td>\n",
       "      <td>0.0</td>\n",
       "      <td>0.0</td>\n",
       "      <td>0.0</td>\n",
       "      <td>0.0</td>\n",
       "      <td>0.0</td>\n",
       "      <td>0.0</td>\n",
       "      <td>3.0</td>\n",
       "      <td>-1.0</td>\n",
       "      <td>0.0</td>\n",
       "    </tr>\n",
       "    <tr>\n",
       "      <td>2</td>\n",
       "      <td>2.0</td>\n",
       "      <td>1.0</td>\n",
       "      <td>0.0</td>\n",
       "      <td>0.0</td>\n",
       "      <td>0.0</td>\n",
       "      <td>0.0</td>\n",
       "      <td>0.0</td>\n",
       "      <td>1.0</td>\n",
       "      <td>0.0</td>\n",
       "      <td>0.0</td>\n",
       "      <td>...</td>\n",
       "      <td>0.0</td>\n",
       "      <td>0.0</td>\n",
       "      <td>0.0</td>\n",
       "      <td>0.0</td>\n",
       "      <td>0.0</td>\n",
       "      <td>0.0</td>\n",
       "      <td>0.0</td>\n",
       "      <td>3.0</td>\n",
       "      <td>-1.0</td>\n",
       "      <td>0.0</td>\n",
       "    </tr>\n",
       "    <tr>\n",
       "      <td>3</td>\n",
       "      <td>3.0</td>\n",
       "      <td>1.0</td>\n",
       "      <td>0.0</td>\n",
       "      <td>0.0</td>\n",
       "      <td>0.0</td>\n",
       "      <td>0.0</td>\n",
       "      <td>0.0</td>\n",
       "      <td>0.0</td>\n",
       "      <td>1.0</td>\n",
       "      <td>0.0</td>\n",
       "      <td>...</td>\n",
       "      <td>0.0</td>\n",
       "      <td>0.0</td>\n",
       "      <td>0.0</td>\n",
       "      <td>0.0</td>\n",
       "      <td>0.0</td>\n",
       "      <td>0.0</td>\n",
       "      <td>0.0</td>\n",
       "      <td>3.0</td>\n",
       "      <td>-1.0</td>\n",
       "      <td>0.0</td>\n",
       "    </tr>\n",
       "    <tr>\n",
       "      <td>4</td>\n",
       "      <td>4.0</td>\n",
       "      <td>1.0</td>\n",
       "      <td>0.0</td>\n",
       "      <td>0.0</td>\n",
       "      <td>0.0</td>\n",
       "      <td>0.0</td>\n",
       "      <td>0.0</td>\n",
       "      <td>0.0</td>\n",
       "      <td>0.0</td>\n",
       "      <td>1.0</td>\n",
       "      <td>...</td>\n",
       "      <td>0.0</td>\n",
       "      <td>0.0</td>\n",
       "      <td>0.0</td>\n",
       "      <td>0.0</td>\n",
       "      <td>0.0</td>\n",
       "      <td>0.0</td>\n",
       "      <td>0.0</td>\n",
       "      <td>1.0</td>\n",
       "      <td>-1.0</td>\n",
       "      <td>0.0</td>\n",
       "    </tr>\n",
       "    <tr>\n",
       "      <td>5</td>\n",
       "      <td>5.0</td>\n",
       "      <td>1.0</td>\n",
       "      <td>0.0</td>\n",
       "      <td>0.0</td>\n",
       "      <td>0.0</td>\n",
       "      <td>0.0</td>\n",
       "      <td>0.0</td>\n",
       "      <td>0.0</td>\n",
       "      <td>0.0</td>\n",
       "      <td>0.0</td>\n",
       "      <td>...</td>\n",
       "      <td>0.0</td>\n",
       "      <td>0.0</td>\n",
       "      <td>1.0</td>\n",
       "      <td>0.0</td>\n",
       "      <td>0.0</td>\n",
       "      <td>0.0</td>\n",
       "      <td>0.0</td>\n",
       "      <td>1.0</td>\n",
       "      <td>50.0</td>\n",
       "      <td>1.0</td>\n",
       "    </tr>\n",
       "  </tbody>\n",
       "</table>\n",
       "<p>6 rows × 21 columns</p>\n",
       "</div>"
      ],
      "text/plain": [
       "Selected Rows from Table SCORED_TABLE\n",
       "\n",
       "   _Step_  _Episode_  _State_0  _State_1  _State_2  _State_3  _State_4  _State_5  _State_6  _State_7  _State_8  _State_9  _State_10  _State_11  _State_12  _State_13  _State_14  _State_15  _Action_  _Reward_  _Done_\n",
       "0     0.0        1.0       1.0       0.0       0.0       0.0       0.0       0.0       0.0       0.0       0.0       0.0        0.0        0.0        0.0        0.0        0.0        0.0       1.0      -1.0     0.0\n",
       "1     1.0        1.0       0.0       0.0       0.0       0.0       1.0       0.0       0.0       0.0       0.0       0.0        0.0        0.0        0.0        0.0        0.0        0.0       3.0      -1.0     0.0\n",
       "2     2.0        1.0       0.0       0.0       0.0       0.0       0.0       1.0       0.0       0.0       0.0       0.0        0.0        0.0        0.0        0.0        0.0        0.0       3.0      -1.0     0.0\n",
       "3     3.0        1.0       0.0       0.0       0.0       0.0       0.0       0.0       1.0       0.0       0.0       0.0        0.0        0.0        0.0        0.0        0.0        0.0       3.0      -1.0     0.0\n",
       "4     4.0        1.0       0.0       0.0       0.0       0.0       0.0       0.0       0.0       1.0       0.0       0.0        0.0        0.0        0.0        0.0        0.0        0.0       1.0      -1.0     0.0\n",
       "5     5.0        1.0       0.0       0.0       0.0       0.0       0.0       0.0       0.0       0.0       0.0       0.0        0.0        1.0        0.0        0.0        0.0        0.0       1.0      50.0     1.0"
      ]
     },
     "execution_count": 18,
     "metadata": {},
     "output_type": "execute_result"
    }
   ],
   "source": [
    "scored_table = conn.CASTable(name = \"scored_table\")\n",
    "df = scored_table.to_frame()\n",
    "df"
   ]
  },
  {
   "cell_type": "markdown",
   "metadata": {},
   "source": [
    "# Find Optimal Path"
   ]
  },
  {
   "cell_type": "code",
   "execution_count": 19,
   "metadata": {},
   "outputs": [
    {
     "name": "stdout",
     "output_type": "stream",
     "text": [
      "[['A' 'S' '-' '-']\n",
      " ['A' 'A' 'A' 'A']\n",
      " ['S' 'S' 'S' 'A']\n",
      " ['-' '-' '-' 'G']]\n"
     ]
    }
   ],
   "source": [
    "# Set Grid Array\n",
    "states = np.array(df.iloc[:,2:18])\n",
    "\n",
    "#Initialize Grid\n",
    "grid = np.full((4, 4), \"-\")\n",
    "grid[0,0] = \"A\"\n",
    "grid[3,3] = \"G\"\n",
    "grid[0,1] = \"S\"\n",
    "grid[2,0] = \"S\"\n",
    "grid[2,1] = \"S\"\n",
    "grid[2,2] = \"S\"\n",
    "grid.shape=(16)\n",
    "\n",
    "# Mark the Agent's Path\n",
    "for i in range(states.shape[0]-1):\n",
    "    grid[np.argmax(states[i+1,:])] = \"A\"\n",
    "\n",
    "# Print Optimal Path\n",
    "grid.shape = (4,4)\n",
    "print(grid)"
   ]
  },
  {
   "cell_type": "markdown",
   "metadata": {},
   "source": [
    "# End the Session"
   ]
  },
  {
   "cell_type": "code",
   "execution_count": 20,
   "metadata": {},
   "outputs": [
    {
     "data": {
      "text/html": [
       "<div class=\"cas-output-area\"></div>\n",
       "<p class=\"cas-results-performance\"><small><span class=\"cas-elapsed\">elapsed 0.000539s</span> &#183; <span class=\"cas-user\">user 0.00037s</span> &#183; <span class=\"cas-sys\">sys 0.000126s</span> &#183; <span class=\"cas-memory\">mem 0.203MB</span></small></p>"
      ],
      "text/plain": [
       "+ Elapsed: 0.000539s, user: 0.00037s, sys: 0.000126s, mem: 0.203mb"
      ]
     },
     "execution_count": 20,
     "metadata": {},
     "output_type": "execute_result"
    }
   ],
   "source": [
    "conn.session.endSession()"
   ]
  }
 ],
 "metadata": {
  "kernelspec": {
   "display_name": "Python 3",
   "language": "python",
   "name": "python3"
  },
  "language_info": {
   "codemirror_mode": {
    "name": "ipython",
    "version": 3
   },
   "file_extension": ".py",
   "mimetype": "text/x-python",
   "name": "python",
   "nbconvert_exporter": "python",
   "pygments_lexer": "ipython3",
   "version": "3.8.5"
  }
 },
 "nbformat": 4,
 "nbformat_minor": 4
}
