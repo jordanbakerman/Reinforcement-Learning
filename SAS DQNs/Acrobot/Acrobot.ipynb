{
 "cells": [
  {
   "cell_type": "markdown",
   "metadata": {},
   "source": [
    "# Acrobot"
   ]
  },
  {
   "cell_type": "markdown",
   "metadata": {},
   "source": [
    "![title](acrobat_pic.png)"
   ]
  },
  {
   "cell_type": "markdown",
   "metadata": {},
   "source": [
    "The acrobot system includes two joints and two links, where the joint between the two links is actuated. Initially, the links are hanging downwards, and the goal is to swing the end of the lower link up to a given height."
   ]
  },
  {
   "cell_type": "markdown",
   "metadata": {},
   "source": [
    "# Load Packages"
   ]
  },
  {
   "cell_type": "code",
   "execution_count": 1,
   "metadata": {},
   "outputs": [],
   "source": [
    "import swat\n",
    "import numpy as np\n",
    "import matplotlib.pyplot as plt\n",
    "import subprocess\n",
    "import time\n",
    "import gym"
   ]
  },
  {
   "cell_type": "markdown",
   "metadata": {},
   "source": [
    "# Make Environment"
   ]
  },
  {
   "cell_type": "code",
   "execution_count": 2,
   "metadata": {},
   "outputs": [],
   "source": [
    "env = gym.make('Acrobot-v1')"
   ]
  },
  {
   "cell_type": "code",
   "execution_count": 3,
   "metadata": {},
   "outputs": [],
   "source": [
    "#DocString\n",
    "?env.env"
   ]
  },
  {
   "cell_type": "code",
   "execution_count": 4,
   "metadata": {},
   "outputs": [
    {
     "data": {
      "text/plain": [
       "Discrete(3)"
      ]
     },
     "execution_count": 4,
     "metadata": {},
     "output_type": "execute_result"
    }
   ],
   "source": [
    "# Env Actions\n",
    "#The action is either applying +1, 0 or -1 torque on the joint between the two pendulum links\n",
    "env.action_space"
   ]
  },
  {
   "cell_type": "code",
   "execution_count": 5,
   "metadata": {},
   "outputs": [
    {
     "data": {
      "text/plain": [
       "Box(-28.274333953857422, 28.274333953857422, (6,), float32)"
      ]
     },
     "execution_count": 5,
     "metadata": {},
     "output_type": "execute_result"
    }
   ],
   "source": [
    "# Env Observation\n",
    "# The state consists of the sin() and cos() of the two rotational joint angles and the joint angular velocities :\n",
    "# [cos(theta1) sin(theta1) cos(theta2) sin(theta2) thetaDot1 thetaDot2]\n",
    "env.observation_space"
   ]
  },
  {
   "cell_type": "code",
   "execution_count": 6,
   "metadata": {},
   "outputs": [],
   "source": [
    "# Random Torque Policy\n",
    "env.reset()\n",
    "for i in range(300):\n",
    "    action = env.action_space.sample()\n",
    "    env.step(action)\n",
    "    env.render()\n",
    "    time.sleep(0.01)\n",
    "    \n",
    "env.close()"
   ]
  },
  {
   "cell_type": "markdown",
   "metadata": {},
   "source": [
    "# Connect to CAS"
   ]
  },
  {
   "cell_type": "code",
   "execution_count": 7,
   "metadata": {},
   "outputs": [],
   "source": [
    "conn = swat.CAS(\"server\", 30571, \"student\", \"Metadata0\")"
   ]
  },
  {
   "cell_type": "markdown",
   "metadata": {},
   "source": [
    "# Create SAS RL Environment URL"
   ]
  },
  {
   "cell_type": "code",
   "execution_count": 8,
   "metadata": {},
   "outputs": [],
   "source": [
    "cmd_data = subprocess.check_output(['ipconfig','/all']).decode('utf-8').split('\\n')\n",
    "ip_data = [item for item in cmd_data if \"IPv4 Address\" in item]\n",
    "computer_id = ip_data[0].split(\": \")[1].split(\"(\")[0]\n",
    "sasrl_env_port = \"10200\"\n",
    "sasrl_env_url = computer_id + \":\" + sasrl_env_port"
   ]
  },
  {
   "cell_type": "markdown",
   "metadata": {},
   "source": [
    "# Load the RL Action Set"
   ]
  },
  {
   "cell_type": "code",
   "execution_count": 9,
   "metadata": {},
   "outputs": [
    {
     "name": "stdout",
     "output_type": "stream",
     "text": [
      "NOTE: Added action set 'reinforcementLearn'.\n"
     ]
    },
    {
     "data": {
      "text/html": [
       "<div class=\"cas-results-key\"><b>&#167; actionset</b></div>\n",
       "<div class=\"cas-results-body\">\n",
       "<div>reinforcementLearn</div>\n",
       "</div>\n",
       "<div class=\"cas-output-area\"></div>\n",
       "<p class=\"cas-results-performance\"><small><span class=\"cas-elapsed\">elapsed 0.32s</span> &#183; <span class=\"cas-user\">user 0.615s</span> &#183; <span class=\"cas-sys\">sys 0.899s</span> &#183; <span class=\"cas-memory\">mem 0.255MB</span></small></p>"
      ],
      "text/plain": [
       "[actionset]\n",
       "\n",
       " 'reinforcementLearn'\n",
       "\n",
       "+ Elapsed: 0.32s, user: 0.615s, sys: 0.899s, mem: 0.255mb"
      ]
     },
     "execution_count": 9,
     "metadata": {},
     "output_type": "execute_result"
    }
   ],
   "source": [
    "conn.loadactionset('reinforcementLearn')"
   ]
  },
  {
   "cell_type": "markdown",
   "metadata": {},
   "source": [
    "# Train the Agent - Deep Q Networks"
   ]
  },
  {
   "cell_type": "code",
   "execution_count": 10,
   "metadata": {},
   "outputs": [
    {
     "name": "stdout",
     "output_type": "stream",
     "text": [
      "WARNING: The minReplayMemory size is smaller than the batch size.\n",
      "WARNING: Small test interval might result in slow training.\n",
      "         Episode=        0 AvgQValue=-3.361 AvgTarget=-4.259 AvgLoss= 0.831 TestReward=  -500\n",
      "         Episode=       10 AvgQValue=-34.15 AvgTarget=-34.62 AvgLoss=0.5785 TestReward=  -500\n",
      "         Episode=       20 AvgQValue=-39.54 AvgTarget=-39.56 AvgLoss=1.4331 TestReward=-342.6\n",
      "         Episode=       30 AvgQValue=-37.56 AvgTarget=-37.54 AvgLoss=2.4579 TestReward=  -500\n",
      "         Episode=       40 AvgQValue=-38.72 AvgTarget= -38.6 AvgLoss=1.0522 TestReward= -99.2\n",
      "         Episode=       50 AvgQValue=-32.47 AvgTarget=-32.37 AvgLoss=1.6478 TestReward= -94.4\n",
      "         Episode=       60 AvgQValue=-36.02 AvgTarget=-35.61 AvgLoss=7.0362 TestReward=   -90\n",
      "         Episode=       70 AvgQValue=-36.19 AvgTarget=-36.36 AvgLoss=1.2689 TestReward= -94.8\n",
      "         Episode=       80 AvgQValue=-27.69 AvgTarget=-27.66 AvgLoss=2.2579 TestReward= -82.8\n",
      "         Episode=       90 AvgQValue=-32.25 AvgTarget=-32.49 AvgLoss=1.2431 TestReward=   -87\n",
      "         Episode=      100 AvgQValue=-31.31 AvgTarget=-31.23 AvgLoss=1.0372 TestReward= -91.2\n",
      "         Episode=      110 AvgQValue=-33.88 AvgTarget=-33.73 AvgLoss=1.8639 TestReward=-120.2\n",
      "         Episode=      120 AvgQValue=-32.88 AvgTarget=-32.81 AvgLoss=1.0171 TestReward= -89.4\n",
      "         Episode=      130 AvgQValue=-28.67 AvgTarget=-28.74 AvgLoss=1.3233 TestReward=-102.8\n",
      "         Episode=      140 AvgQValue=-28.16 AvgTarget=-27.97 AvgLoss=1.0987 TestReward= -96.8\n",
      "         Episode=      150 AvgQValue=-25.34 AvgTarget=-25.27 AvgLoss=3.8211 TestReward=-104.2\n",
      "         Episode=      160 AvgQValue=-29.94 AvgTarget=-30.04 AvgLoss=1.0438 TestReward=-102.2\n",
      "         Episode=      170 AvgQValue=-27.79 AvgTarget=-27.83 AvgLoss=2.4722 TestReward=-108.6\n",
      "         Episode=      180 AvgQValue=-31.56 AvgTarget=-31.64 AvgLoss=2.0504 TestReward= -74.6\n",
      "         Episode=      190 AvgQValue=-28.76 AvgTarget=-28.66 AvgLoss=1.5867 TestReward= -89.8\n",
      "         Episode=      200 AvgQValue=-23.87 AvgTarget=-23.76 AvgLoss=1.3239 TestReward= -95.4\n",
      "NOTE: Reinforcement learning rlTrainDqn action complete.\n"
     ]
    }
   ],
   "source": [
    "results = conn.reinforcementLearn.rlTrainDqn(\n",
    "    \n",
    "    # RL Arguments\n",
    "    environment=dict(type='remote', url=sasrl_env_url, name='Acrobot-v1', render=False, seed=802),\n",
    "    exploration = dict(type=\"linear\", initialEpsilon=0.99, minEpsilon=0.05),\n",
    "    gamma = 0.99,\n",
    "    numEpisodes = 200,\n",
    "    \n",
    "    # NN Arguments\n",
    "    QModel=[{'type':'FC', 'n':64, 'act':'RELU'}],\n",
    "    optimizer=dict(method='ADAM', beta1=0.9, beta2=0.999, learningRate=0.001, miniBatchSize=128),\n",
    "    minReplayMemory = 100,\n",
    "    maxReplayMemory = 1000,\n",
    "    targetUpdateInterval = 100,\n",
    "    \n",
    "    # Test Arguments\n",
    "    testInterval = 10,\n",
    "    numTestEpisodes = 5,\n",
    "    \n",
    "    # Other Arguments\n",
    "    modelOut=dict(name='dqn_weights', replace=True),\n",
    "    seed = 919\n",
    "    \n",
    ")"
   ]
  },
  {
   "cell_type": "code",
   "execution_count": 11,
   "metadata": {},
   "outputs": [
    {
     "data": {
      "text/html": [
       "<div>\n",
       "<style scoped>\n",
       "    .dataframe tbody tr th:only-of-type {\n",
       "        vertical-align: middle;\n",
       "    }\n",
       "\n",
       "    .dataframe tbody tr th {\n",
       "        vertical-align: top;\n",
       "    }\n",
       "\n",
       "    .dataframe thead th {\n",
       "        text-align: right;\n",
       "    }\n",
       "</style>\n",
       "<table border=\"1\" class=\"dataframe\">\n",
       "  <thead>\n",
       "    <tr style=\"text-align: right;\">\n",
       "      <th title=\"\"></th>\n",
       "      <th title=\"Description\">Description</th>\n",
       "      <th title=\"Value\">Value</th>\n",
       "    </tr>\n",
       "  </thead>\n",
       "  <tbody>\n",
       "    <tr>\n",
       "      <td>0</td>\n",
       "      <td>Average QValue</td>\n",
       "      <td>-23.871671</td>\n",
       "    </tr>\n",
       "    <tr>\n",
       "      <td>1</td>\n",
       "      <td>Average Target Value</td>\n",
       "      <td>-23.757871</td>\n",
       "    </tr>\n",
       "    <tr>\n",
       "      <td>2</td>\n",
       "      <td>Test Reward</td>\n",
       "      <td>-95.400000</td>\n",
       "    </tr>\n",
       "  </tbody>\n",
       "</table>\n",
       "</div>"
      ],
      "text/plain": [
       "            Description      Value\n",
       "0        Average QValue -23.871671\n",
       "1  Average Target Value -23.757871\n",
       "2           Test Reward -95.400000"
      ]
     },
     "execution_count": 11,
     "metadata": {},
     "output_type": "execute_result"
    }
   ],
   "source": [
    "results['FinalResult']"
   ]
  },
  {
   "cell_type": "code",
   "execution_count": 12,
   "metadata": {},
   "outputs": [
    {
     "data": {
      "text/html": [
       "<div>\n",
       "<style scoped>\n",
       "    .dataframe tbody tr th:only-of-type {\n",
       "        vertical-align: middle;\n",
       "    }\n",
       "\n",
       "    .dataframe tbody tr th {\n",
       "        vertical-align: top;\n",
       "    }\n",
       "\n",
       "    .dataframe thead th {\n",
       "        text-align: right;\n",
       "    }\n",
       "</style>\n",
       "<table border=\"1\" class=\"dataframe\">\n",
       "  <thead>\n",
       "    <tr style=\"text-align: right;\">\n",
       "      <th title=\"\"></th>\n",
       "      <th title=\"Property\">Property</th>\n",
       "      <th title=\"Value\">Value</th>\n",
       "    </tr>\n",
       "  </thead>\n",
       "  <tbody>\n",
       "    <tr>\n",
       "      <td>0</td>\n",
       "      <td>Number of State Variables</td>\n",
       "      <td>6</td>\n",
       "    </tr>\n",
       "    <tr>\n",
       "      <td>1</td>\n",
       "      <td>Number of Actions</td>\n",
       "      <td>3</td>\n",
       "    </tr>\n",
       "    <tr>\n",
       "      <td>2</td>\n",
       "      <td>Algorithm</td>\n",
       "      <td>DQN</td>\n",
       "    </tr>\n",
       "    <tr>\n",
       "      <td>3</td>\n",
       "      <td>Optimizer</td>\n",
       "      <td>ADAM</td>\n",
       "    </tr>\n",
       "  </tbody>\n",
       "</table>\n",
       "</div>"
      ],
      "text/plain": [
       "                    Property Value\n",
       "0  Number of State Variables     6\n",
       "1          Number of Actions     3\n",
       "2                  Algorithm   DQN\n",
       "3                  Optimizer  ADAM"
      ]
     },
     "execution_count": 12,
     "metadata": {},
     "output_type": "execute_result"
    }
   ],
   "source": [
    "results['ModelInfo']"
   ]
  },
  {
   "cell_type": "code",
   "execution_count": 13,
   "metadata": {},
   "outputs": [
    {
     "data": {
      "text/html": [
       "<div>\n",
       "<style scoped>\n",
       "    .dataframe tbody tr th:only-of-type {\n",
       "        vertical-align: middle;\n",
       "    }\n",
       "\n",
       "    .dataframe tbody tr th {\n",
       "        vertical-align: top;\n",
       "    }\n",
       "\n",
       "    .dataframe thead th {\n",
       "        text-align: right;\n",
       "    }\n",
       "</style>\n",
       "<table border=\"1\" class=\"dataframe\"><caption>Iteration History</caption>\n",
       "  <thead>\n",
       "    <tr style=\"text-align: right;\">\n",
       "      <th title=\"\"></th>\n",
       "      <th title=\"Iteration\">Iteration</th>\n",
       "      <th title=\"Average Q Value\">AvgQValue</th>\n",
       "      <th title=\"Average Target\">AvgTarget</th>\n",
       "      <th title=\"Average Loss\">AvgLoss</th>\n",
       "      <th title=\"Test Reward\">Test Reward</th>\n",
       "    </tr>\n",
       "  </thead>\n",
       "  <tbody>\n",
       "    <tr>\n",
       "      <td>0</td>\n",
       "      <td>0</td>\n",
       "      <td>-3.361442</td>\n",
       "      <td>-4.259153</td>\n",
       "      <td>0.830971</td>\n",
       "      <td>-500.0</td>\n",
       "    </tr>\n",
       "    <tr>\n",
       "      <td>1</td>\n",
       "      <td>10</td>\n",
       "      <td>-34.154163</td>\n",
       "      <td>-34.621089</td>\n",
       "      <td>0.578458</td>\n",
       "      <td>-500.0</td>\n",
       "    </tr>\n",
       "    <tr>\n",
       "      <td>2</td>\n",
       "      <td>20</td>\n",
       "      <td>-39.542554</td>\n",
       "      <td>-39.561314</td>\n",
       "      <td>1.433075</td>\n",
       "      <td>-342.6</td>\n",
       "    </tr>\n",
       "    <tr>\n",
       "      <td>3</td>\n",
       "      <td>30</td>\n",
       "      <td>-37.561484</td>\n",
       "      <td>-37.541616</td>\n",
       "      <td>2.457869</td>\n",
       "      <td>-500.0</td>\n",
       "    </tr>\n",
       "    <tr>\n",
       "      <td>4</td>\n",
       "      <td>40</td>\n",
       "      <td>-38.716264</td>\n",
       "      <td>-38.603473</td>\n",
       "      <td>1.052196</td>\n",
       "      <td>-99.2</td>\n",
       "    </tr>\n",
       "    <tr>\n",
       "      <td>5</td>\n",
       "      <td>50</td>\n",
       "      <td>-32.472944</td>\n",
       "      <td>-32.372946</td>\n",
       "      <td>1.647808</td>\n",
       "      <td>-94.4</td>\n",
       "    </tr>\n",
       "    <tr>\n",
       "      <td>6</td>\n",
       "      <td>60</td>\n",
       "      <td>-36.022883</td>\n",
       "      <td>-35.614051</td>\n",
       "      <td>7.036220</td>\n",
       "      <td>-90.0</td>\n",
       "    </tr>\n",
       "    <tr>\n",
       "      <td>7</td>\n",
       "      <td>70</td>\n",
       "      <td>-36.190047</td>\n",
       "      <td>-36.357839</td>\n",
       "      <td>1.268901</td>\n",
       "      <td>-94.8</td>\n",
       "    </tr>\n",
       "    <tr>\n",
       "      <td>8</td>\n",
       "      <td>80</td>\n",
       "      <td>-27.691460</td>\n",
       "      <td>-27.655374</td>\n",
       "      <td>2.257946</td>\n",
       "      <td>-82.8</td>\n",
       "    </tr>\n",
       "    <tr>\n",
       "      <td>9</td>\n",
       "      <td>90</td>\n",
       "      <td>-32.252912</td>\n",
       "      <td>-32.485673</td>\n",
       "      <td>1.243068</td>\n",
       "      <td>-87.0</td>\n",
       "    </tr>\n",
       "    <tr>\n",
       "      <td>10</td>\n",
       "      <td>100</td>\n",
       "      <td>-31.314090</td>\n",
       "      <td>-31.233397</td>\n",
       "      <td>1.037229</td>\n",
       "      <td>-91.2</td>\n",
       "    </tr>\n",
       "    <tr>\n",
       "      <td>11</td>\n",
       "      <td>110</td>\n",
       "      <td>-33.883929</td>\n",
       "      <td>-33.734342</td>\n",
       "      <td>1.863856</td>\n",
       "      <td>-120.2</td>\n",
       "    </tr>\n",
       "    <tr>\n",
       "      <td>12</td>\n",
       "      <td>120</td>\n",
       "      <td>-32.878508</td>\n",
       "      <td>-32.814039</td>\n",
       "      <td>1.017112</td>\n",
       "      <td>-89.4</td>\n",
       "    </tr>\n",
       "    <tr>\n",
       "      <td>13</td>\n",
       "      <td>130</td>\n",
       "      <td>-28.667140</td>\n",
       "      <td>-28.738261</td>\n",
       "      <td>1.323341</td>\n",
       "      <td>-102.8</td>\n",
       "    </tr>\n",
       "    <tr>\n",
       "      <td>14</td>\n",
       "      <td>140</td>\n",
       "      <td>-28.158660</td>\n",
       "      <td>-27.973636</td>\n",
       "      <td>1.098747</td>\n",
       "      <td>-96.8</td>\n",
       "    </tr>\n",
       "    <tr>\n",
       "      <td>15</td>\n",
       "      <td>150</td>\n",
       "      <td>-25.342805</td>\n",
       "      <td>-25.268475</td>\n",
       "      <td>3.821079</td>\n",
       "      <td>-104.2</td>\n",
       "    </tr>\n",
       "    <tr>\n",
       "      <td>16</td>\n",
       "      <td>160</td>\n",
       "      <td>-29.941823</td>\n",
       "      <td>-30.036829</td>\n",
       "      <td>1.043759</td>\n",
       "      <td>-102.2</td>\n",
       "    </tr>\n",
       "    <tr>\n",
       "      <td>17</td>\n",
       "      <td>170</td>\n",
       "      <td>-27.790724</td>\n",
       "      <td>-27.832775</td>\n",
       "      <td>2.472180</td>\n",
       "      <td>-108.6</td>\n",
       "    </tr>\n",
       "    <tr>\n",
       "      <td>18</td>\n",
       "      <td>180</td>\n",
       "      <td>-31.557650</td>\n",
       "      <td>-31.643673</td>\n",
       "      <td>2.050426</td>\n",
       "      <td>-74.6</td>\n",
       "    </tr>\n",
       "    <tr>\n",
       "      <td>19</td>\n",
       "      <td>190</td>\n",
       "      <td>-28.763974</td>\n",
       "      <td>-28.656208</td>\n",
       "      <td>1.586659</td>\n",
       "      <td>-89.8</td>\n",
       "    </tr>\n",
       "    <tr>\n",
       "      <td>20</td>\n",
       "      <td>200</td>\n",
       "      <td>-23.871671</td>\n",
       "      <td>-23.757871</td>\n",
       "      <td>1.323888</td>\n",
       "      <td>-95.4</td>\n",
       "    </tr>\n",
       "  </tbody>\n",
       "</table>\n",
       "</div>"
      ],
      "text/plain": [
       "Iteration History\n",
       "\n",
       "    Iteration  AvgQValue  AvgTarget   AvgLoss  Test Reward\n",
       "0           0  -3.361442  -4.259153  0.830971       -500.0\n",
       "1          10 -34.154163 -34.621089  0.578458       -500.0\n",
       "2          20 -39.542554 -39.561314  1.433075       -342.6\n",
       "3          30 -37.561484 -37.541616  2.457869       -500.0\n",
       "4          40 -38.716264 -38.603473  1.052196        -99.2\n",
       "5          50 -32.472944 -32.372946  1.647808        -94.4\n",
       "6          60 -36.022883 -35.614051  7.036220        -90.0\n",
       "7          70 -36.190047 -36.357839  1.268901        -94.8\n",
       "8          80 -27.691460 -27.655374  2.257946        -82.8\n",
       "9          90 -32.252912 -32.485673  1.243068        -87.0\n",
       "10        100 -31.314090 -31.233397  1.037229        -91.2\n",
       "11        110 -33.883929 -33.734342  1.863856       -120.2\n",
       "12        120 -32.878508 -32.814039  1.017112        -89.4\n",
       "13        130 -28.667140 -28.738261  1.323341       -102.8\n",
       "14        140 -28.158660 -27.973636  1.098747        -96.8\n",
       "15        150 -25.342805 -25.268475  3.821079       -104.2\n",
       "16        160 -29.941823 -30.036829  1.043759       -102.2\n",
       "17        170 -27.790724 -27.832775  2.472180       -108.6\n",
       "18        180 -31.557650 -31.643673  2.050426        -74.6\n",
       "19        190 -28.763974 -28.656208  1.586659        -89.8\n",
       "20        200 -23.871671 -23.757871  1.323888        -95.4"
      ]
     },
     "execution_count": 13,
     "metadata": {},
     "output_type": "execute_result"
    }
   ],
   "source": [
    "results['OptIterHistory']"
   ]
  },
  {
   "cell_type": "code",
   "execution_count": 14,
   "metadata": {},
   "outputs": [
    {
     "data": {
      "image/png": "[encoded data removed]",
      "text/plain": [
       "<Figure size 432x288 with 1 Axes>"
      ]
     },
     "metadata": {
      "needs_background": "light"
     },
     "output_type": "display_data"
    }
   ],
   "source": [
    "plt.plot(results['OptIterHistory']['Iteration'],results['OptIterHistory']['AvgQValue'], color=\"blue\")\n",
    "plt.xlabel(\"Iteration\", fontsize=15)\n",
    "plt.ylabel(\"Average Q Value\", fontsize=15)\n",
    "plt.show()"
   ]
  },
  {
   "cell_type": "code",
   "execution_count": 15,
   "metadata": {},
   "outputs": [
    {
     "data": {
      "image/png": "[encoded data removed]",
      "text/plain": [
       "<Figure size 432x288 with 1 Axes>"
      ]
     },
     "metadata": {
      "needs_background": "light"
     },
     "output_type": "display_data"
    }
   ],
   "source": [
    "plt.plot(results['OptIterHistory']['Iteration'],results['OptIterHistory']['AvgLoss'], color=\"blue\")\n",
    "plt.xlabel(\"Iteration\", fontsize=15)\n",
    "plt.ylabel(\"Average Loss\", fontsize=15)\n",
    "plt.show()"
   ]
  },
  {
   "cell_type": "code",
   "execution_count": 16,
   "metadata": {},
   "outputs": [
    {
     "data": {
      "image/png": "[encoded data removed]",
      "text/plain": [
       "<Figure size 432x288 with 1 Axes>"
      ]
     },
     "metadata": {
      "needs_background": "light"
     },
     "output_type": "display_data"
    }
   ],
   "source": [
    "plt.plot(results['OptIterHistory']['Iteration'],results['OptIterHistory']['Test Reward'], color=\"blue\")\n",
    "plt.xlabel(\"Iteration\", fontsize=15)\n",
    "plt.ylabel(\"Test Reward\", fontsize=15)\n",
    "plt.show()"
   ]
  },
  {
   "cell_type": "markdown",
   "metadata": {},
   "source": [
    "# Score the Model"
   ]
  },
  {
   "cell_type": "code",
   "execution_count": 17,
   "metadata": {},
   "outputs": [
    {
     "name": "stdout",
     "output_type": "stream",
     "text": [
      "         Episode=        1 Step=        1 LastReward=     0 AverageReward=    -1\n",
      "         Episode=        1 Step=        2 LastReward=     0 AverageReward=    -2\n",
      "         Episode=        1 Step=        3 LastReward=     0 AverageReward=    -3\n",
      "         Episode=        1 Step=        4 LastReward=     0 AverageReward=    -4\n",
      "         Episode=        1 Step=        5 LastReward=     0 AverageReward=    -5\n",
      "         Episode=        1 Step=        6 LastReward=     0 AverageReward=    -6\n",
      "         Episode=        1 Step=        7 LastReward=     0 AverageReward=    -7\n",
      "         Episode=        1 Step=        8 LastReward=     0 AverageReward=    -8\n",
      "         Episode=        1 Step=        9 LastReward=     0 AverageReward=    -9\n",
      "         Episode=        1 Step=       10 LastReward=     0 AverageReward=   -10\n",
      "         Episode=        1 Step=       11 LastReward=     0 AverageReward=   -11\n",
      "         Episode=        1 Step=       12 LastReward=     0 AverageReward=   -12\n",
      "         Episode=        1 Step=       13 LastReward=     0 AverageReward=   -13\n",
      "         Episode=        1 Step=       14 LastReward=     0 AverageReward=   -14\n",
      "         Episode=        1 Step=       15 LastReward=     0 AverageReward=   -15\n",
      "         Episode=        1 Step=       16 LastReward=     0 AverageReward=   -16\n",
      "         Episode=        1 Step=       17 LastReward=     0 AverageReward=   -17\n",
      "         Episode=        1 Step=       18 LastReward=     0 AverageReward=   -18\n",
      "         Episode=        1 Step=       19 LastReward=     0 AverageReward=   -19\n",
      "         Episode=        1 Step=       20 LastReward=     0 AverageReward=   -20\n",
      "         Episode=        1 Step=       21 LastReward=     0 AverageReward=   -21\n",
      "         Episode=        1 Step=       22 LastReward=     0 AverageReward=   -22\n",
      "         Episode=        1 Step=       23 LastReward=     0 AverageReward=   -23\n",
      "         Episode=        1 Step=       24 LastReward=     0 AverageReward=   -24\n",
      "         Episode=        1 Step=       25 LastReward=     0 AverageReward=   -25\n",
      "         Episode=        1 Step=       26 LastReward=     0 AverageReward=   -26\n",
      "         Episode=        1 Step=       27 LastReward=     0 AverageReward=   -27\n",
      "         Episode=        1 Step=       28 LastReward=     0 AverageReward=   -28\n",
      "         Episode=        1 Step=       29 LastReward=     0 AverageReward=   -29\n",
      "         Episode=        1 Step=       30 LastReward=     0 AverageReward=   -30\n",
      "         Episode=        1 Step=       31 LastReward=     0 AverageReward=   -31\n",
      "         Episode=        1 Step=       32 LastReward=     0 AverageReward=   -32\n",
      "         Episode=        1 Step=       33 LastReward=     0 AverageReward=   -33\n",
      "         Episode=        1 Step=       34 LastReward=     0 AverageReward=   -34\n",
      "         Episode=        1 Step=       35 LastReward=     0 AverageReward=   -35\n",
      "         Episode=        1 Step=       36 LastReward=     0 AverageReward=   -36\n",
      "         Episode=        1 Step=       37 LastReward=     0 AverageReward=   -37\n",
      "         Episode=        1 Step=       38 LastReward=     0 AverageReward=   -38\n",
      "         Episode=        1 Step=       39 LastReward=     0 AverageReward=   -39\n",
      "         Episode=        1 Step=       40 LastReward=     0 AverageReward=   -40\n",
      "         Episode=        1 Step=       41 LastReward=     0 AverageReward=   -41\n",
      "         Episode=        1 Step=       42 LastReward=     0 AverageReward=   -42\n",
      "         Episode=        1 Step=       43 LastReward=     0 AverageReward=   -43\n",
      "         Episode=        1 Step=       44 LastReward=     0 AverageReward=   -44\n",
      "         Episode=        1 Step=       45 LastReward=     0 AverageReward=   -45\n",
      "         Episode=        1 Step=       46 LastReward=     0 AverageReward=   -46\n",
      "         Episode=        1 Step=       47 LastReward=     0 AverageReward=   -47\n",
      "         Episode=        1 Step=       48 LastReward=     0 AverageReward=   -48\n",
      "         Episode=        1 Step=       49 LastReward=     0 AverageReward=   -49\n",
      "         Episode=        1 Step=       50 LastReward=     0 AverageReward=   -50\n",
      "         Episode=        1 Step=       51 LastReward=     0 AverageReward=   -51\n",
      "         Episode=        1 Step=       52 LastReward=     0 AverageReward=   -52\n",
      "         Episode=        1 Step=       53 LastReward=     0 AverageReward=   -53\n",
      "         Episode=        1 Step=       54 LastReward=     0 AverageReward=   -54\n",
      "         Episode=        1 Step=       55 LastReward=     0 AverageReward=   -55\n",
      "         Episode=        1 Step=       56 LastReward=     0 AverageReward=   -56\n",
      "         Episode=        1 Step=       57 LastReward=     0 AverageReward=   -57\n",
      "         Episode=        1 Step=       58 LastReward=     0 AverageReward=   -58\n",
      "         Episode=        1 Step=       59 LastReward=     0 AverageReward=   -59\n",
      "         Episode=        1 Step=       60 LastReward=     0 AverageReward=   -60\n",
      "         Episode=        1 Step=       61 LastReward=     0 AverageReward=   -61\n",
      "         Episode=        1 Step=       62 LastReward=     0 AverageReward=   -62\n",
      "         Episode=        1 Step=       63 LastReward=     0 AverageReward=   -63\n",
      "         Episode=        1 Step=       64 LastReward=     0 AverageReward=   -64\n",
      "         Episode=        1 Step=       65 LastReward=     0 AverageReward=   -65\n",
      "         Episode=        1 Step=       66 LastReward=     0 AverageReward=   -66\n",
      "         Episode=        1 Step=       67 LastReward=     0 AverageReward=   -67\n",
      "         Episode=        1 Step=       68 LastReward=     0 AverageReward=   -68\n",
      "         Episode=        1 Step=       69 LastReward=     0 AverageReward=   -69\n",
      "         Episode=        1 Step=       70 LastReward=     0 AverageReward=   -70\n",
      "         Episode=        1 Step=       71 LastReward=     0 AverageReward=   -71\n",
      "         Episode=        1 Step=       72 LastReward=     0 AverageReward=   -72\n",
      "         Episode=        1 Step=       73 LastReward=     0 AverageReward=   -73\n",
      "         Episode=        1 Step=       74 LastReward=     0 AverageReward=   -74\n",
      "         Episode=        1 Step=       75 LastReward=     0 AverageReward=   -75\n",
      "         Episode=        1 Step=       76 LastReward=     0 AverageReward=   -76\n",
      "         Episode=        1 Step=       77 LastReward=     0 AverageReward=   -77\n",
      "         Episode=        1 Step=       78 LastReward=     0 AverageReward=   -78\n",
      "         Episode=        1 Step=       79 LastReward=     0 AverageReward=   -79\n",
      "         Episode=        1 Step=       80 LastReward=     0 AverageReward=   -80\n",
      "         Episode=        1 Step=       81 LastReward=     0 AverageReward=   -81\n",
      "         Episode=        1 Step=       82 LastReward=     0 AverageReward=   -82\n",
      "         Episode=        1 Step=       83 LastReward=     0 AverageReward=   -83\n",
      "         Episode=        1 Step=       84 LastReward=     0 AverageReward=   -84\n",
      "         Episode=        1 Step=       85 LastReward=     0 AverageReward=   -85\n",
      "         Episode=        1 Step=       86 LastReward=     0 AverageReward=   -86\n",
      "         Episode=        1 Step=       87 LastReward=     0 AverageReward=   -87\n",
      "         Episode=        1 Step=       88 LastReward=     0 AverageReward=   -88\n",
      "         Episode=        1 Step=       89 LastReward=     0 AverageReward=   -89\n",
      "         Episode=        1 Step=       90 LastReward=     0 AverageReward=   -90\n",
      "         Episode=        1 Step=       91 LastReward=     0 AverageReward=   -91\n",
      "         Episode=        1 Step=       92 LastReward=     0 AverageReward=   -92\n",
      "         Episode=        1 Step=       93 LastReward=     0 AverageReward=   -93\n",
      "         Episode=        1 Step=       94 LastReward=     0 AverageReward=   -94\n",
      "         Episode=        1 Step=       95 LastReward=     0 AverageReward=   -95\n",
      "         Episode=        1 Step=       96 LastReward=     0 AverageReward=   -96\n",
      "         Episode=        1 Step=       97 LastReward=     0 AverageReward=   -97\n",
      "         Episode=        1 Step=       98 LastReward=     0 AverageReward=   -98\n",
      "         Episode=        1 Step=       99 LastReward=     0 AverageReward=   -99\n",
      "         Episode=        1 Step=      100 LastReward=     0 AverageReward=  -100\n",
      "         Episode=        1 Step=      101 LastReward=     0 AverageReward=  -101\n",
      "         Episode=        1 Step=      102 LastReward=     0 AverageReward=  -102\n",
      "         Episode=        1 Step=      103 LastReward=     0 AverageReward=  -103\n",
      "         Episode=        1 Step=      104 LastReward=     0 AverageReward=  -104\n",
      "         Episode=        1 Step=      105 LastReward=     0 AverageReward=  -105\n",
      "         Episode=        1 Step=      106 LastReward=     0 AverageReward=  -106\n",
      "         Episode=        1 Step=      107 LastReward=     0 AverageReward=  -107\n",
      "         Episode=        1 Step=      108 LastReward=     0 AverageReward=  -108\n",
      "         Episode=        1 Step=      109 LastReward=     0 AverageReward=  -108\n",
      "NOTE: Reinforcement learning rlScore action complete.\n"
     ]
    },
    {
     "data": {
      "text/html": [
       "<div class=\"cas-results-key\"><b>&#167; ScoreInfo</b></div>\n",
       "<div class=\"cas-results-body\">\n",
       "<div>\n",
       "<style scoped>\n",
       "    .dataframe tbody tr th:only-of-type {\n",
       "        vertical-align: middle;\n",
       "    }\n",
       "\n",
       "    .dataframe tbody tr th {\n",
       "        vertical-align: top;\n",
       "    }\n",
       "\n",
       "    .dataframe thead th {\n",
       "        text-align: right;\n",
       "    }\n",
       "</style>\n",
       "<table border=\"1\" class=\"dataframe\">\n",
       "  <thead>\n",
       "    <tr style=\"text-align: right;\">\n",
       "      <th title=\"\"></th>\n",
       "      <th title=\"Property\">Property</th>\n",
       "      <th title=\"Value\">Value</th>\n",
       "    </tr>\n",
       "  </thead>\n",
       "  <tbody>\n",
       "    <tr>\n",
       "      <td>0</td>\n",
       "      <td>Number of State Variables</td>\n",
       "      <td>6</td>\n",
       "    </tr>\n",
       "    <tr>\n",
       "      <td>1</td>\n",
       "      <td>Number of Actions</td>\n",
       "      <td>3</td>\n",
       "    </tr>\n",
       "    <tr>\n",
       "      <td>2</td>\n",
       "      <td>Algorithm</td>\n",
       "      <td>DQN</td>\n",
       "    </tr>\n",
       "    <tr>\n",
       "      <td>3</td>\n",
       "      <td>Optimizer</td>\n",
       "      <td>ADAM</td>\n",
       "    </tr>\n",
       "  </tbody>\n",
       "</table>\n",
       "</div>\n",
       "</div>\n",
       "<div class=\"cas-output-area\"></div>\n",
       "<p class=\"cas-results-performance\"><small><span class=\"cas-elapsed\">elapsed 7.62s</span> &#183; <span class=\"cas-user\">user 0.183s</span> &#183; <span class=\"cas-sys\">sys 0.0471s</span> &#183; <span class=\"cas-memory\">mem 17.4MB</span></small></p>"
      ],
      "text/plain": [
       "[ScoreInfo]\n",
       "\n",
       "                     Property Value\n",
       " 0  Number of State Variables     6\n",
       " 1          Number of Actions     3\n",
       " 2                  Algorithm   DQN\n",
       " 3                  Optimizer  ADAM\n",
       "\n",
       "+ Elapsed: 7.62s, user: 0.183s, sys: 0.0471s, mem: 17.4mb"
      ]
     },
     "execution_count": 17,
     "metadata": {},
     "output_type": "execute_result"
    }
   ],
   "source": [
    "conn.reinforcementLearn.rlScore(\n",
    "    environment=dict(type='remote', url=sasrl_env_url, name='Acrobot-v1', \n",
    "                     render=True, renderFreq=10, renderSleep=0.02, seed=802),\n",
    "    model='dqn_weights',\n",
    "    numEpisodes=1,\n",
    "    logFreq=1,\n",
    "    casout=dict(name='scored_table', replace=True)\n",
    ")"
   ]
  },
  {
   "cell_type": "markdown",
   "metadata": {},
   "source": [
    "# Download Final Test"
   ]
  },
  {
   "cell_type": "code",
   "execution_count": 18,
   "metadata": {},
   "outputs": [
    {
     "data": {
      "text/html": [
       "<div>\n",
       "<style scoped>\n",
       "    .dataframe tbody tr th:only-of-type {\n",
       "        vertical-align: middle;\n",
       "    }\n",
       "\n",
       "    .dataframe tbody tr th {\n",
       "        vertical-align: top;\n",
       "    }\n",
       "\n",
       "    .dataframe thead th {\n",
       "        text-align: right;\n",
       "    }\n",
       "</style>\n",
       "<table border=\"1\" class=\"dataframe\"><caption>Selected Rows from Table SCORED_TABLE</caption>\n",
       "  <thead>\n",
       "    <tr style=\"text-align: right;\">\n",
       "      <th title=\"\"></th>\n",
       "      <th title=\"_Step_\">_Step_</th>\n",
       "      <th title=\"_Episode_\">_Episode_</th>\n",
       "      <th title=\"_State_0\">_State_0</th>\n",
       "      <th title=\"_State_1\">_State_1</th>\n",
       "      <th title=\"_State_2\">_State_2</th>\n",
       "      <th title=\"_State_3\">_State_3</th>\n",
       "      <th title=\"_State_4\">_State_4</th>\n",
       "      <th title=\"_State_5\">_State_5</th>\n",
       "      <th title=\"_Action_\">_Action_</th>\n",
       "      <th title=\"_Reward_\">_Reward_</th>\n",
       "      <th title=\"_Done_\">_Done_</th>\n",
       "    </tr>\n",
       "  </thead>\n",
       "  <tbody>\n",
       "    <tr>\n",
       "      <td>0</td>\n",
       "      <td>0.0</td>\n",
       "      <td>1.0</td>\n",
       "      <td>0.998835</td>\n",
       "      <td>-0.048255</td>\n",
       "      <td>0.997496</td>\n",
       "      <td>-0.070729</td>\n",
       "      <td>-0.027052</td>\n",
       "      <td>0.020859</td>\n",
       "      <td>2.0</td>\n",
       "      <td>-1.0</td>\n",
       "      <td>0.0</td>\n",
       "    </tr>\n",
       "    <tr>\n",
       "      <td>1</td>\n",
       "      <td>1.0</td>\n",
       "      <td>1.0</td>\n",
       "      <td>0.998071</td>\n",
       "      <td>-0.062085</td>\n",
       "      <td>0.999555</td>\n",
       "      <td>-0.029830</td>\n",
       "      <td>-0.107286</td>\n",
       "      <td>0.379262</td>\n",
       "      <td>2.0</td>\n",
       "      <td>-1.0</td>\n",
       "      <td>0.0</td>\n",
       "    </tr>\n",
       "    <tr>\n",
       "      <td>2</td>\n",
       "      <td>2.0</td>\n",
       "      <td>1.0</td>\n",
       "      <td>0.996088</td>\n",
       "      <td>-0.088365</td>\n",
       "      <td>0.997240</td>\n",
       "      <td>0.074251</td>\n",
       "      <td>-0.147451</td>\n",
       "      <td>0.639837</td>\n",
       "      <td>2.0</td>\n",
       "      <td>-1.0</td>\n",
       "      <td>0.0</td>\n",
       "    </tr>\n",
       "    <tr>\n",
       "      <td>3</td>\n",
       "      <td>3.0</td>\n",
       "      <td>1.0</td>\n",
       "      <td>0.993174</td>\n",
       "      <td>-0.116641</td>\n",
       "      <td>0.976957</td>\n",
       "      <td>0.213436</td>\n",
       "      <td>-0.126249</td>\n",
       "      <td>0.738671</td>\n",
       "      <td>2.0</td>\n",
       "      <td>-1.0</td>\n",
       "      <td>0.0</td>\n",
       "    </tr>\n",
       "    <tr>\n",
       "      <td>4</td>\n",
       "      <td>4.0</td>\n",
       "      <td>1.0</td>\n",
       "      <td>0.990920</td>\n",
       "      <td>-0.134451</td>\n",
       "      <td>0.936685</td>\n",
       "      <td>0.350173</td>\n",
       "      <td>-0.045292</td>\n",
       "      <td>0.661347</td>\n",
       "      <td>2.0</td>\n",
       "      <td>-1.0</td>\n",
       "      <td>0.0</td>\n",
       "    </tr>\n",
       "    <tr>\n",
       "      <td>...</td>\n",
       "      <td>...</td>\n",
       "      <td>...</td>\n",
       "      <td>...</td>\n",
       "      <td>...</td>\n",
       "      <td>...</td>\n",
       "      <td>...</td>\n",
       "      <td>...</td>\n",
       "      <td>...</td>\n",
       "      <td>...</td>\n",
       "      <td>...</td>\n",
       "      <td>...</td>\n",
       "    </tr>\n",
       "    <tr>\n",
       "      <td>104</td>\n",
       "      <td>104.0</td>\n",
       "      <td>1.0</td>\n",
       "      <td>0.270541</td>\n",
       "      <td>0.962709</td>\n",
       "      <td>-0.960314</td>\n",
       "      <td>-0.278920</td>\n",
       "      <td>4.655179</td>\n",
       "      <td>-1.393171</td>\n",
       "      <td>2.0</td>\n",
       "      <td>-1.0</td>\n",
       "      <td>0.0</td>\n",
       "    </tr>\n",
       "    <tr>\n",
       "      <td>105</td>\n",
       "      <td>105.0</td>\n",
       "      <td>1.0</td>\n",
       "      <td>-0.500214</td>\n",
       "      <td>0.865902</td>\n",
       "      <td>-0.978154</td>\n",
       "      <td>-0.207879</td>\n",
       "      <td>3.325800</td>\n",
       "      <td>0.571691</td>\n",
       "      <td>2.0</td>\n",
       "      <td>-1.0</td>\n",
       "      <td>0.0</td>\n",
       "    </tr>\n",
       "    <tr>\n",
       "      <td>106</td>\n",
       "      <td>106.0</td>\n",
       "      <td>1.0</td>\n",
       "      <td>-0.877340</td>\n",
       "      <td>0.479869</td>\n",
       "      <td>-0.890348</td>\n",
       "      <td>-0.455281</td>\n",
       "      <td>2.175297</td>\n",
       "      <td>1.947776</td>\n",
       "      <td>2.0</td>\n",
       "      <td>-1.0</td>\n",
       "      <td>0.0</td>\n",
       "    </tr>\n",
       "    <tr>\n",
       "      <td>107</td>\n",
       "      <td>107.0</td>\n",
       "      <td>1.0</td>\n",
       "      <td>-0.985973</td>\n",
       "      <td>0.166907</td>\n",
       "      <td>-0.586795</td>\n",
       "      <td>-0.809736</td>\n",
       "      <td>1.181821</td>\n",
       "      <td>2.652052</td>\n",
       "      <td>1.0</td>\n",
       "      <td>-1.0</td>\n",
       "      <td>0.0</td>\n",
       "    </tr>\n",
       "    <tr>\n",
       "      <td>108</td>\n",
       "      <td>108.0</td>\n",
       "      <td>1.0</td>\n",
       "      <td>-0.999996</td>\n",
       "      <td>0.002705</td>\n",
       "      <td>-0.097280</td>\n",
       "      <td>-0.995257</td>\n",
       "      <td>0.534475</td>\n",
       "      <td>2.557447</td>\n",
       "      <td>1.0</td>\n",
       "      <td>0.0</td>\n",
       "      <td>1.0</td>\n",
       "    </tr>\n",
       "  </tbody>\n",
       "</table>\n",
       "<p>109 rows × 11 columns</p>\n",
       "</div>"
      ],
      "text/plain": [
       "Selected Rows from Table SCORED_TABLE\n",
       "\n",
       "     _Step_  _Episode_  _State_0  _State_1  _State_2  _State_3  _State_4  _State_5  _Action_  _Reward_  _Done_\n",
       "0       0.0        1.0  0.998835 -0.048255  0.997496 -0.070729 -0.027052  0.020859       2.0      -1.0     0.0\n",
       "1       1.0        1.0  0.998071 -0.062085  0.999555 -0.029830 -0.107286  0.379262       2.0      -1.0     0.0\n",
       "2       2.0        1.0  0.996088 -0.088365  0.997240  0.074251 -0.147451  0.639837       2.0      -1.0     0.0\n",
       "3       3.0        1.0  0.993174 -0.116641  0.976957  0.213436 -0.126249  0.738671       2.0      -1.0     0.0\n",
       "4       4.0        1.0  0.990920 -0.134451  0.936685  0.350173 -0.045292  0.661347       2.0      -1.0     0.0\n",
       "5       5.0        1.0  0.991203 -0.132348  0.891412  0.453194  0.068596  0.447840       2.0      -1.0     0.0\n",
       "6       6.0        1.0  0.994193 -0.107614  0.861585  0.507613  0.176221  0.168333       0.0      -1.0     0.0\n",
       "7       7.0        1.0  0.999194 -0.040146  0.890256  0.455460  0.485628 -0.746105       0.0      -1.0     0.0\n",
       "8       8.0        1.0  0.996960  0.077913  0.969638  0.244544  0.668236 -1.462272       0.0      -1.0     0.0\n",
       "9       9.0        1.0  0.977387  0.211460  0.996444 -0.084263  0.643455 -1.770876       0.0      -1.0     0.0\n",
       "10     10.0        1.0  0.949565  0.313571  0.910505 -0.413497  0.381489 -1.572459       0.0      -1.0     0.0\n",
       "11     11.0        1.0  0.937483  0.348032  0.772146 -0.635445 -0.028353 -1.010401       2.0      -1.0     0.0\n",
       "12     12.0        1.0  0.959892  0.280371  0.725411 -0.688316 -0.666412  0.299736       2.0      -1.0     0.0\n",
       "13     13.0        1.0  0.994996  0.099912  0.838312 -0.545192 -1.137813  1.485974       2.0      -1.0     0.0\n",
       "14     14.0        1.0  0.988479 -0.151356  0.981711 -0.190379 -1.324106  2.266134       2.0      -1.0     0.0\n",
       "15     15.0        1.0  0.920411 -0.390952  0.961557  0.274605 -1.104818  2.300596       2.0      -1.0     0.0\n",
       "16     16.0        1.0  0.842138 -0.539261  0.775862  0.630903 -0.533431  1.668288       2.0      -1.0     0.0\n",
       "17     17.0        1.0  0.822232 -0.569153  0.600657  0.799507  0.180675  0.744954       2.0      -1.0     0.0\n",
       "18     18.0        1.0  0.877510 -0.479558  0.560234  0.828335  0.852198 -0.247381       1.0      -1.0     0.0\n",
       "19     19.0        1.0  0.964693 -0.263378  0.694550  0.719445  1.439867 -1.451721       0.0      -1.0     0.0\n",
       "20     20.0        1.0  0.997857  0.065435  0.925905  0.377755  1.812169 -2.606727       0.0      -1.0     0.0\n",
       "21     21.0        1.0  0.911619  0.411035  0.984076 -0.177747  1.674997 -2.876292       0.0      -1.0     0.0\n",
       "22     22.0        1.0  0.764982  0.644052  0.767244 -0.641356  1.024454 -2.190961       0.0      -1.0     0.0\n",
       "23     23.0        1.0  0.683887  0.729588  0.513724 -0.857955  0.137368 -1.132227       2.0      -1.0     0.0\n",
       "24     24.0        1.0  0.743077  0.669206  0.465459 -0.885069 -0.965772  0.582190       2.0      -1.0     0.0\n",
       "25     25.0        1.0  0.903497  0.428595  0.698834 -0.715284 -1.894156  2.298407       2.0      -1.0     0.0\n",
       "26     26.0        1.0  1.000000  0.000780  0.981342 -0.192273 -2.431606  3.578959       2.0      -1.0     0.0\n",
       "27     27.0        1.0  0.888547 -0.458785  0.861929  0.507029 -2.212430  3.419741       2.0      -1.0     0.0\n",
       "28     28.0        1.0  0.664564 -0.747231  0.449650  0.893205 -1.402815  2.239179       2.0      -1.0     0.0\n",
       "29     29.0        1.0  0.519171 -0.854670  0.147429  0.989073 -0.391478  0.951032       1.0      -1.0     0.0\n",
       "30     30.0        1.0  0.549284 -0.835636  0.109621  0.993973  0.741074 -0.573852       1.0      -1.0     0.0\n",
       "31     31.0        1.0  0.741846 -0.670570  0.374513  0.927222  1.775254 -2.183670       0.0      -1.0     0.0\n",
       "32     32.0        1.0  0.959904 -0.280330  0.848547  0.529121  2.670708 -4.047697       0.0      -1.0     0.0\n",
       "33     33.0        1.0  0.959592  0.281396  0.941361 -0.337400  2.853110 -4.613720       0.0      -1.0     0.0\n",
       "34     34.0        1.0  0.702752  0.711435  0.405114 -0.914266  2.115965 -3.331191       0.0      -1.0     0.0\n",
       "35     35.0        1.0  0.441918  0.897056 -0.097201 -0.995265  1.075026 -1.838148       2.0      -1.0     0.0\n",
       "36     36.0        1.0  0.362402  0.932022 -0.278720 -0.960373 -0.206745 -0.031804       2.0      -1.0     0.0\n",
       "37     37.0        1.0  0.512481  0.858698 -0.107553 -0.994199 -1.452261  1.806976       2.0      -1.0     0.0\n",
       "38     38.0        1.0  0.809815  0.586685  0.443305 -0.896371 -2.579895  3.910031       2.0      -1.0     0.0\n",
       "39     39.0        1.0  0.999777  0.021131  0.992219 -0.124504 -3.346226  5.701329       2.0      -1.0     0.0\n",
       "40     40.0        1.0  0.813455 -0.581628  0.566859  0.823815 -2.885902  4.833092       2.0      -1.0     0.0\n",
       "41     41.0        1.0  0.456263 -0.889845 -0.183242  0.983068 -1.844253  3.063459       2.0      -1.0     0.0\n",
       "42     42.0        1.0  0.218130 -0.975920 -0.601450  0.798911 -0.682626  1.588649       2.0      -1.0     0.0\n",
       "43     43.0        1.0  0.201373 -0.979515 -0.736525  0.676410  0.509037  0.239664       2.0      -1.0     0.0\n",
       "44     44.0        1.0  0.407221 -0.913329 -0.671935  0.740610  1.635555 -1.171184       0.0      -1.0     0.0\n",
       "45     45.0        1.0  0.754722 -0.656045 -0.299623  0.954058  2.671478 -3.202024       0.0      -1.0     0.0\n",
       "46     46.0        1.0  0.994613 -0.103658  0.535861  0.844306  3.401169 -5.511315       0.0      -1.0     0.0\n",
       "47     47.0        1.0  0.822832  0.568285  0.968109 -0.250530  3.456013 -6.553461       0.0      -1.0     0.0\n",
       "48     48.0        1.0  0.380820  0.924649  0.170068 -0.985432  2.198198 -4.748886       0.0      -1.0     0.0\n",
       "49     49.0        1.0  0.093042  0.995662 -0.569534 -0.821968  0.781046 -3.094162       0.0      -1.0     0.0\n",
       "50     50.0        1.0  0.073863  0.997268 -0.882985 -0.469401 -0.571626 -1.677665       0.0      -1.0     0.0\n",
       "51     51.0        1.0  0.308656  0.951174 -0.956854 -0.290570 -1.802941 -0.259811       0.0      -1.0     0.0\n",
       "52     52.0        1.0  0.703761  0.710437 -0.928283 -0.371875 -2.804512  1.101243       2.0      -1.0     0.0\n",
       "53     53.0        1.0  0.986675  0.162703 -0.722660 -0.691204 -3.329357  2.684118       2.0      -1.0     0.0\n",
       "54     54.0        1.0  0.884514 -0.466514 -0.136304 -0.990667 -3.056710  3.954686       1.0      -1.0     0.0\n",
       "55     55.0        1.0  0.517603 -0.855621  0.651524 -0.758628 -2.318954  4.377879       2.0      -1.0     0.0\n",
       "56     56.0        1.0  0.163012 -0.986624  0.999894  0.014589 -1.425226  4.230817       2.0      -1.0     0.0\n",
       "57     57.0        1.0  0.002521 -0.999997  0.712881  0.701285 -0.123231  3.298411       2.0      -1.0     0.0\n",
       "58     58.0        1.0  0.135228 -0.990815  0.267004  0.963695  1.487388  1.838239       2.0      -1.0     0.0\n",
       "59     59.0        1.0  0.561788 -0.827281  0.102231  0.994761  3.068187 -0.259819       2.0      -1.0     0.0\n",
       "60     60.0        1.0  0.968471 -0.249126  0.386445  0.922312  4.008302 -2.647388       0.0      -1.0     0.0\n",
       "61     61.0        1.0  0.834905  0.550394  0.915542  0.402222  4.166623 -4.643528       0.0      -1.0     0.0\n",
       "62     62.0        1.0  0.227317  0.973821  0.876036 -0.482246  3.282426 -4.177008       0.0      -1.0     0.0\n",
       "63     63.0        1.0 -0.298678  0.954354  0.355472 -0.934687  2.051558 -2.917114       0.0      -1.0     0.0\n",
       "64     64.0        1.0 -0.565142  0.824993 -0.136538 -0.990635  0.939611 -2.161246       2.0      -1.0     0.0\n",
       "65     65.0        1.0 -0.618295  0.785946 -0.452811 -0.891607 -0.276529 -1.174952       2.0      -1.0     0.0\n",
       "66     66.0        1.0 -0.467654  0.883912 -0.559083 -0.829112 -1.538854  0.010196       2.0      -1.0     0.0\n",
       "67     67.0        1.0 -0.044003  0.999031 -0.413291 -0.910599 -2.895807  1.793455       2.0      -1.0     0.0\n",
       "68     68.0        1.0  0.618822  0.785531  0.185704 -0.982606 -4.190731  4.500168       2.0      -1.0     0.0\n",
       "69     69.0        1.0  0.999071 -0.043102  0.985676 -0.168651 -5.114818  7.275496       2.0      -1.0     0.0\n",
       "70     70.0        1.0  0.530771 -0.847515  0.386466  0.922304 -4.330827  5.562933       2.0      -1.0     0.0\n",
       "71     71.0        1.0 -0.185500 -0.982644 -0.454060  0.890971 -3.142543  3.296150       2.0      -1.0     0.0\n",
       "72     72.0        1.0 -0.649653 -0.760231 -0.837670  0.546177 -2.101098  2.060653       1.0      -1.0     0.0\n",
       "73     73.0        1.0 -0.862478 -0.506095 -0.967472  0.252980 -1.282897  1.229275       1.0      -1.0     0.0\n",
       "74     74.0        1.0 -0.945569 -0.325421 -0.997709  0.067651 -0.751742  0.684967       1.0      -1.0     0.0\n",
       "75     75.0        1.0 -0.976561 -0.215241 -0.999619 -0.027604 -0.420005  0.287316       1.0      -1.0     0.0\n",
       "76     76.0        1.0 -0.987849 -0.155417 -0.998594 -0.053006 -0.202688 -0.020231       1.0      -1.0     0.0\n",
       "77     77.0        1.0 -0.991216 -0.132254 -0.999719 -0.023690 -0.035568 -0.263876       1.0      -1.0     0.0\n",
       "78     78.0        1.0 -0.989941 -0.141480 -0.998774  0.049502  0.132872 -0.462580       1.0      -1.0     0.0\n",
       "79     79.0        1.0 -0.982157 -0.188065 -0.987224  0.159337  0.352603 -0.642606       1.0      -1.0     0.0\n",
       "80     80.0        1.0 -0.958177 -0.286178 -0.952834  0.303491  0.682069 -0.851984       0.0      -1.0     0.0\n",
       "81     81.0        1.0 -0.886821 -0.462114 -0.863582  0.504209  1.259079 -1.383093       0.0      -1.0     0.0\n",
       "82     82.0        1.0 -0.687570 -0.726118 -0.635094  0.772435  2.116933 -2.242872       0.0      -1.0     0.0\n",
       "83     83.0        1.0 -0.219808 -0.975543 -0.094980  0.995479  3.305106 -3.871748       0.0      -1.0     0.0\n",
       "84     84.0        1.0  0.554418 -0.832239  0.814551  0.580092  4.817969 -6.724083       0.0      -1.0     0.0\n",
       "85     85.0        1.0  0.997549  0.069966  0.665858 -0.746079  5.398821 -6.987012       0.0      -1.0     0.0\n",
       "86     86.0        1.0  0.463667  0.886009 -0.354850 -0.934923  4.697977 -3.887519       2.0      -1.0     0.0\n",
       "87     87.0        1.0 -0.327737  0.944769 -0.750619 -0.660735  3.421388 -1.182539       2.0      -1.0     0.0\n",
       "88     88.0        1.0 -0.777440  0.628957 -0.788794 -0.614657  2.189933  0.423360       2.0      -1.0     0.0\n",
       "89     89.0        1.0 -0.942711  0.333610 -0.669902 -0.742449  1.264556  1.204980       2.0      -1.0     0.0\n",
       "90     90.0        1.0 -0.987934  0.154875 -0.449303 -0.893379  0.627552  1.394376       1.0      -1.0     0.0\n",
       "91     91.0        1.0 -0.997904  0.064717 -0.222378 -0.974961  0.320646  0.969858       1.0      -1.0     0.0\n",
       "92     92.0        1.0 -0.999896  0.014403 -0.093245 -0.995643  0.208175  0.310782       1.0      -1.0     0.0\n",
       "93     93.0        1.0 -0.999684 -0.025146 -0.106786 -0.994282  0.197392 -0.456917       1.0      -1.0     0.0\n",
       "94     94.0        1.0 -0.997839 -0.065704 -0.273463 -0.961883  0.205781 -1.237928       1.0      -1.0     0.0\n",
       "95     95.0        1.0 -0.994562 -0.104145 -0.562202 -0.827000  0.169685 -1.942313       1.0      -1.0     0.0\n",
       "96     96.0        1.0 -0.991485 -0.130222 -0.864013 -0.503470  0.094962 -2.487021       0.0      -1.0     0.0\n",
       "97     97.0        1.0 -0.987798 -0.155740 -0.999651  0.026424  0.205988 -3.016903       0.0      -1.0     0.0\n",
       "98     98.0        1.0 -0.971809 -0.235771 -0.786062  0.618148  0.675875 -3.365044       0.0      -1.0     0.0\n",
       "99     99.0        1.0 -0.901507 -0.432765 -0.196272  0.980550  1.459638 -3.741191       0.0      -1.0     0.0\n",
       "100   100.0        1.0 -0.668614 -0.743610  0.585289  0.810825  2.505687 -4.620903       0.0      -1.0     0.0\n",
       "101   101.0        1.0 -0.096405 -0.995342  0.991368 -0.131109  3.863025 -6.101932       0.0      -1.0     0.0\n",
       "102   102.0        1.0  0.708003 -0.706209  0.204976 -0.978767  4.894750 -5.813287       0.0      -1.0     0.0\n",
       "103   103.0        1.0  0.964816  0.262925 -0.698114 -0.715987  5.461574 -3.837861       2.0      -1.0     0.0\n",
       "104   104.0        1.0  0.270541  0.962709 -0.960314 -0.278920  4.655179 -1.393171       2.0      -1.0     0.0\n",
       "105   105.0        1.0 -0.500214  0.865902 -0.978154 -0.207879  3.325800  0.571691       2.0      -1.0     0.0\n",
       "106   106.0        1.0 -0.877340  0.479869 -0.890348 -0.455281  2.175297  1.947776       2.0      -1.0     0.0\n",
       "107   107.0        1.0 -0.985973  0.166907 -0.586795 -0.809736  1.181821  2.652052       1.0      -1.0     0.0\n",
       "108   108.0        1.0 -0.999996  0.002705 -0.097280 -0.995257  0.534475  2.557447       1.0       0.0     1.0"
      ]
     },
     "execution_count": 18,
     "metadata": {},
     "output_type": "execute_result"
    }
   ],
   "source": [
    "scored_table = conn.CASTable(name = \"scored_table\")\n",
    "df = scored_table.to_frame()\n",
    "df"
   ]
  },
  {
   "cell_type": "code",
   "execution_count": 19,
   "metadata": {},
   "outputs": [
    {
     "data": {
      "image/png": "[encoded data removed]",
      "text/plain": [
       "<Figure size 432x288 with 1 Axes>"
      ]
     },
     "metadata": {
      "needs_background": "light"
     },
     "output_type": "display_data"
    }
   ],
   "source": [
    "plt.plot(df[\"_Action_\"][:50], color=\"blue\")\n",
    "plt.title(\"Acrobot Action\", fontsize=20)\n",
    "plt.xlabel(\"Step\", fontsize=15)\n",
    "plt.ylabel(\"Action\", fontsize=15)\n",
    "plt.ylim(-0.1,2.2)\n",
    "plt.text(0,0,\"Left\", color=\"red\", fontsize=12)\n",
    "plt.text(0,1,\"Null\", color=\"red\", fontsize=12)\n",
    "plt.text(0,2.1,\"Right\", color=\"red\", fontsize=12)\n",
    "plt.show()"
   ]
  },
  {
   "cell_type": "code",
   "execution_count": 20,
   "metadata": {},
   "outputs": [
    {
     "data": {
      "image/png": "[encoded data removed]",
      "text/plain": [
       "<Figure size 432x288 with 1 Axes>"
      ]
     },
     "metadata": {
      "needs_background": "light"
     },
     "output_type": "display_data"
    }
   ],
   "source": [
    "plt.plot(df[\"_State_1\"], color=\"blue\")\n",
    "plt.title(\"Acrobot Joint 1\", fontsize=20)\n",
    "plt.xlabel(\"Step\", fontsize=15)\n",
    "plt.ylabel(\"Angle\", fontsize=15)\n",
    "plt.show()"
   ]
  },
  {
   "cell_type": "code",
   "execution_count": 21,
   "metadata": {},
   "outputs": [
    {
     "data": {
      "image/png": "[encoded data removed]",
      "text/plain": [
       "<Figure size 432x288 with 1 Axes>"
      ]
     },
     "metadata": {
      "needs_background": "light"
     },
     "output_type": "display_data"
    }
   ],
   "source": [
    "plt.plot(df[\"_State_3\"], color=\"blue\")\n",
    "plt.title(\"Acrobot Joint 2\", fontsize=20)\n",
    "plt.xlabel(\"Step\", fontsize=15)\n",
    "plt.ylabel(\"Angle\", fontsize=15)\n",
    "plt.show()"
   ]
  },
  {
   "cell_type": "code",
   "execution_count": 22,
   "metadata": {},
   "outputs": [
    {
     "data": {
      "image/png": "[encoded data removed]",
      "text/plain": [
       "<Figure size 432x288 with 1 Axes>"
      ]
     },
     "metadata": {
      "needs_background": "light"
     },
     "output_type": "display_data"
    }
   ],
   "source": [
    "plt.plot(df[\"_State_4\"], color=\"blue\")\n",
    "plt.title(\"Acrobot Joint 1 Velocity\", fontsize=20)\n",
    "plt.xlabel(\"Step\", fontsize=15)\n",
    "plt.ylabel(\"Velocity\", fontsize=15)\n",
    "plt.show()"
   ]
  },
  {
   "cell_type": "code",
   "execution_count": 23,
   "metadata": {},
   "outputs": [
    {
     "data": {
      "image/png": "[encoded data removed]",
      "text/plain": [
       "<Figure size 432x288 with 1 Axes>"
      ]
     },
     "metadata": {
      "needs_background": "light"
     },
     "output_type": "display_data"
    }
   ],
   "source": [
    "plt.plot(df[\"_State_5\"], color=\"blue\")\n",
    "plt.title(\"Acrobot Joint 2 Velocity\", fontsize=20)\n",
    "plt.xlabel(\"Step\", fontsize=15)\n",
    "plt.ylabel(\"Velocity\", fontsize=15)\n",
    "plt.show()"
   ]
  },
  {
   "cell_type": "markdown",
   "metadata": {},
   "source": [
    "# End the Session"
   ]
  },
  {
   "cell_type": "code",
   "execution_count": 24,
   "metadata": {},
   "outputs": [
    {
     "data": {
      "text/html": [
       "<div class=\"cas-output-area\"></div>\n",
       "<p class=\"cas-results-performance\"><small><span class=\"cas-elapsed\">elapsed 0.00053s</span> &#183; <span class=\"cas-user\">user 0.000453s</span> &#183; <span class=\"cas-memory\">mem 0.203MB</span></small></p>"
      ],
      "text/plain": [
       "+ Elapsed: 0.00053s, user: 0.000453s, mem: 0.203mb"
      ]
     },
     "execution_count": 24,
     "metadata": {},
     "output_type": "execute_result"
    }
   ],
   "source": [
    "conn.session.endSession()"
   ]
  }
 ],
 "metadata": {
  "kernelspec": {
   "display_name": "Python 3",
   "language": "python",
   "name": "python3"
  },
  "language_info": {
   "codemirror_mode": {
    "name": "ipython",
    "version": 3
   },
   "file_extension": ".py",
   "mimetype": "text/x-python",
   "name": "python",
   "nbconvert_exporter": "python",
   "pygments_lexer": "ipython3",
   "version": "3.8.5"
  }
 },
 "nbformat": 4,
 "nbformat_minor": 4
}
