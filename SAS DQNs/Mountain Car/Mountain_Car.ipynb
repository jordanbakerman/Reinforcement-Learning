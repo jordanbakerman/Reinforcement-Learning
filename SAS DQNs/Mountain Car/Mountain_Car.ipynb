{
 "cells": [
  {
   "cell_type": "markdown",
   "metadata": {},
   "source": [
    "# Mountain Car"
   ]
  },
  {
   "cell_type": "markdown",
   "metadata": {},
   "source": [
    "![title](mountain_car_pic.png)"
   ]
  },
  {
   "cell_type": "markdown",
   "metadata": {},
   "source": [
    "A car is on a one-dimensional track, positioned between two \"mountains\". The goal is to drive up the mountain on the right; however, the car's engine is not strong enough to scale the mountain in a single pass. Therefore, the only way to succeed is to drive back and forth to build up momentum."
   ]
  },
  {
   "cell_type": "markdown",
   "metadata": {},
   "source": [
    "# Load Packages"
   ]
  },
  {
   "cell_type": "code",
   "execution_count": 1,
   "metadata": {},
   "outputs": [],
   "source": [
    "import swat\n",
    "import numpy as np\n",
    "import pandas as pd\n",
    "import matplotlib.pyplot as plt\n",
    "import subprocess\n",
    "import time\n",
    "import gym"
   ]
  },
  {
   "cell_type": "markdown",
   "metadata": {},
   "source": [
    "# Make Environment"
   ]
  },
  {
   "cell_type": "code",
   "execution_count": 2,
   "metadata": {},
   "outputs": [],
   "source": [
    "env = gym.make('MountainCar-v0')"
   ]
  },
  {
   "cell_type": "code",
   "execution_count": 3,
   "metadata": {},
   "outputs": [],
   "source": [
    "#DocString\n",
    "?env.env"
   ]
  },
  {
   "cell_type": "code",
   "execution_count": 4,
   "metadata": {},
   "outputs": [
    {
     "data": {
      "text/plain": [
       "Discrete(3)"
      ]
     },
     "execution_count": 4,
     "metadata": {},
     "output_type": "execute_result"
    }
   ],
   "source": [
    "# Env Actions\n",
    "directions = {\"Left\":0,\"Null\":1,\"Right\":2}\n",
    "env.action_space"
   ]
  },
  {
   "cell_type": "code",
   "execution_count": 5,
   "metadata": {},
   "outputs": [
    {
     "data": {
      "text/plain": [
       "Box(-1.2000000476837158, 0.6000000238418579, (2,), float32)"
      ]
     },
     "execution_count": 5,
     "metadata": {},
     "output_type": "execute_result"
    }
   ],
   "source": [
    "# Env Observation\n",
    "obs = {\"CarPosition\":0,\"CartVelocity\":1}\n",
    "env.observation_space"
   ]
  },
  {
   "cell_type": "code",
   "execution_count": 6,
   "metadata": {},
   "outputs": [
    {
     "data": {
      "text/plain": [
       "array([-0.45632541,  0.        ])"
      ]
     },
     "execution_count": 6,
     "metadata": {},
     "output_type": "execute_result"
    }
   ],
   "source": [
    "# Env Start\n",
    "# The position of the car is assigned a uniform random value in [-0.6 , -0.4] \n",
    "env.reset()"
   ]
  },
  {
   "cell_type": "code",
   "execution_count": 7,
   "metadata": {},
   "outputs": [],
   "source": [
    "# Accelerate Right Policy\n",
    "env.reset()\n",
    "for i in range(300):\n",
    "    env.step(2)\n",
    "    env.render()\n",
    "    time.sleep(0.01)\n",
    "    \n",
    "env.close()"
   ]
  },
  {
   "cell_type": "code",
   "execution_count": 8,
   "metadata": {},
   "outputs": [],
   "source": [
    "# Random Acceleration Policy\n",
    "env.reset()\n",
    "for i in range(200):\n",
    "    action = env.action_space.sample()\n",
    "    env.step(action)\n",
    "    env.render()\n",
    "    time.sleep(0.01)\n",
    "    \n",
    "env.close()"
   ]
  },
  {
   "cell_type": "markdown",
   "metadata": {},
   "source": [
    "# Connect to CAS"
   ]
  },
  {
   "cell_type": "code",
   "execution_count": 9,
   "metadata": {},
   "outputs": [],
   "source": [
    "conn = swat.CAS(\"server\", 30571, \"student\", \"Metadata0\")"
   ]
  },
  {
   "cell_type": "markdown",
   "metadata": {},
   "source": [
    "# Create SAS RL Environment URL"
   ]
  },
  {
   "cell_type": "code",
   "execution_count": 10,
   "metadata": {},
   "outputs": [],
   "source": [
    "cmd_data = subprocess.check_output(['ipconfig','/all']).decode('utf-8').split('\\n')\n",
    "ip_data = [item for item in cmd_data if \"IPv4 Address\" in item]\n",
    "computer_id = ip_data[0].split(\": \")[1].split(\"(\")[0]\n",
    "sasrl_env_port = \"10200\"\n",
    "sasrl_env_url = computer_id + \":\" + sasrl_env_port"
   ]
  },
  {
   "cell_type": "markdown",
   "metadata": {},
   "source": [
    "# Load the RL Action Set"
   ]
  },
  {
   "cell_type": "code",
   "execution_count": 11,
   "metadata": {},
   "outputs": [
    {
     "name": "stdout",
     "output_type": "stream",
     "text": [
      "NOTE: Added action set 'reinforcementLearn'.\n"
     ]
    },
    {
     "data": {
      "text/html": [
       "<div class=\"cas-results-key\"><b>&#167; actionset</b></div>\n",
       "<div class=\"cas-results-body\">\n",
       "<div>reinforcementLearn</div>\n",
       "</div>\n",
       "<div class=\"cas-output-area\"></div>\n",
       "<p class=\"cas-results-performance\"><small><span class=\"cas-elapsed\">elapsed 0.325s</span> &#183; <span class=\"cas-user\">user 0.678s</span> &#183; <span class=\"cas-sys\">sys 0.956s</span> &#183; <span class=\"cas-memory\">mem 0.255MB</span></small></p>"
      ],
      "text/plain": [
       "[actionset]\n",
       "\n",
       " 'reinforcementLearn'\n",
       "\n",
       "+ Elapsed: 0.325s, user: 0.678s, sys: 0.956s, mem: 0.255mb"
      ]
     },
     "execution_count": 11,
     "metadata": {},
     "output_type": "execute_result"
    }
   ],
   "source": [
    "conn.loadactionset('reinforcementLearn')"
   ]
  },
  {
   "cell_type": "markdown",
   "metadata": {},
   "source": [
    "# Change timeout"
   ]
  },
  {
   "cell_type": "code",
   "execution_count": 12,
   "metadata": {},
   "outputs": [
    {
     "data": {
      "text/html": [
       "<div class=\"cas-results-key\"><b>&#167; ActionStatus</b></div>\n",
       "<div class=\"cas-results-body\">\n",
       "<div>Action is active</div>\n",
       "</div>\n",
       "<div class=\"cas-results-key\"><hr/><b>&#167; Authenticated</b></div>\n",
       "<div class=\"cas-results-body\">\n",
       "<div>Yes</div>\n",
       "</div>\n",
       "<div class=\"cas-results-key\"><hr/><b>&#167; Timeout</b></div>\n",
       "<div class=\"cas-results-body\">\n",
       "<div>172800</div>\n",
       "</div>\n",
       "<div class=\"cas-results-key\"><hr/><b>&#167; locale</b></div>\n",
       "<div class=\"cas-results-body\">\n",
       "<div>en_US</div>\n",
       "</div>\n",
       "<div class=\"cas-results-key\"><hr/><b>&#167; number of Connections</b></div>\n",
       "<div class=\"cas-results-body\">\n",
       "<div>1</div>\n",
       "</div>\n",
       "<div class=\"cas-results-key\"><hr/><b>&#167; state</b></div>\n",
       "<div class=\"cas-results-body\">\n",
       "<div>Connected</div>\n",
       "</div>\n",
       "<div class=\"cas-output-area\"></div>\n",
       "<p class=\"cas-results-performance\"><small><span class=\"cas-elapsed\">elapsed 0.000764s</span> &#183; <span class=\"cas-user\">user 0.00072s</span> &#183; <span class=\"cas-memory\">mem 0.203MB</span></small></p>"
      ],
      "text/plain": [
       "[ActionStatus]\n",
       "\n",
       " 'Action is active'\n",
       "\n",
       "[Authenticated]\n",
       "\n",
       " 'Yes'\n",
       "\n",
       "[Timeout]\n",
       "\n",
       " 172800\n",
       "\n",
       "[locale]\n",
       "\n",
       " 'en_US'\n",
       "\n",
       "[number of Connections]\n",
       "\n",
       " 1\n",
       "\n",
       "[state]\n",
       "\n",
       " 'Connected'\n",
       "\n",
       "+ Elapsed: 0.000764s, user: 0.00072s, mem: 0.203mb"
      ]
     },
     "execution_count": 12,
     "metadata": {},
     "output_type": "execute_result"
    }
   ],
   "source": [
    "mytime = 60*60*24*2\n",
    "conn.session.timeout(time=mytime)\n",
    "conn.session.sessionStatus()"
   ]
  },
  {
   "cell_type": "markdown",
   "metadata": {},
   "source": [
    "# Train the Agent - Deep Q Networks"
   ]
  },
  {
   "cell_type": "code",
   "execution_count": 13,
   "metadata": {},
   "outputs": [],
   "source": [
    "# results = conn.reinforcementLearn.rlTrainDqn(\n",
    "    \n",
    "#     # RL Arguments\n",
    "#     environment=dict(type='remote', url=sasrl_env_url, name='MountainCar-v0', render=False, seed=802),\n",
    "#     exploration = dict(type=\"linear\", initialEpsilon=0.99, minEpsilon=0.05),\n",
    "#     gamma = 0.99,\n",
    "#     numEpisodes = 25000,\n",
    "    \n",
    "#     # NN Arguments\n",
    "#     QModel=[{'type':'FC', 'n':64, 'act':'RELU'},\n",
    "#             {'type':'FC', 'n':128, 'act':'RELU'}],\n",
    "#     optimizer=dict(method='ADAM', beta1=0.9, beta2=0.999, learningRate=0.001, miniBatchSize=128),\n",
    "#     minReplayMemory = 10,\n",
    "#     maxReplayMemory = 1000,\n",
    "#     targetUpdateInterval = 100,\n",
    "    \n",
    "#     # Test Arguments\n",
    "#     testInterval = 10,\n",
    "#     numTestEpisodes = 1,\n",
    "    \n",
    "#     # Other Arguments\n",
    "#     modelOut=dict(name='dqn_weights', replace=True),\n",
    "#     seed = 919\n",
    "    \n",
    "# )"
   ]
  },
  {
   "cell_type": "markdown",
   "metadata": {},
   "source": [
    "# Save the Model"
   ]
  },
  {
   "cell_type": "code",
   "execution_count": 14,
   "metadata": {},
   "outputs": [
    {
     "name": "stdout",
     "output_type": "stream",
     "text": [
      "NOTE: Cloud Analytic Services added the caslib 'mycl'.\n"
     ]
    },
    {
     "data": {
      "text/html": [
       "<div class=\"cas-results-key\"><b>&#167; CASLibInfo</b></div>\n",
       "<div class=\"cas-results-body\">\n",
       "<div>\n",
       "<style scoped>\n",
       "    .dataframe tbody tr th:only-of-type {\n",
       "        vertical-align: middle;\n",
       "    }\n",
       "\n",
       "    .dataframe tbody tr th {\n",
       "        vertical-align: top;\n",
       "    }\n",
       "\n",
       "    .dataframe thead th {\n",
       "        text-align: right;\n",
       "    }\n",
       "</style>\n",
       "<table border=\"1\" class=\"dataframe\">\n",
       "  <thead>\n",
       "    <tr style=\"text-align: right;\">\n",
       "      <th title=\"\"></th>\n",
       "      <th title=\"Name\">Name</th>\n",
       "      <th title=\"Type\">Type</th>\n",
       "      <th title=\"Description\">Description</th>\n",
       "      <th title=\"Path\">Path</th>\n",
       "      <th title=\"Definition\">Definition</th>\n",
       "      <th title=\"Subdirs\">Subdirs</th>\n",
       "      <th title=\"Local\">Local</th>\n",
       "      <th title=\"Active\">Active</th>\n",
       "      <th title=\"Personal\">Personal</th>\n",
       "      <th title=\"Hidden\">Hidden</th>\n",
       "      <th title=\"Transient\">Transient</th>\n",
       "    </tr>\n",
       "  </thead>\n",
       "  <tbody>\n",
       "    <tr>\n",
       "      <td>0</td>\n",
       "      <td>mycl</td>\n",
       "      <td>PATH</td>\n",
       "      <td></td>\n",
       "      <td>/workshop/winsas/VOSI/</td>\n",
       "      <td></td>\n",
       "      <td>0.0</td>\n",
       "      <td>1.0</td>\n",
       "      <td>0.0</td>\n",
       "      <td>0.0</td>\n",
       "      <td>0.0</td>\n",
       "      <td>0.0</td>\n",
       "    </tr>\n",
       "  </tbody>\n",
       "</table>\n",
       "</div>\n",
       "</div>\n",
       "<div class=\"cas-output-area\"></div>\n",
       "<p class=\"cas-results-performance\"><small><span class=\"cas-elapsed\">elapsed 0.00212s</span> &#183; <span class=\"cas-user\">user 0.00155s</span> &#183; <span class=\"cas-memory\">mem 0.719MB</span></small></p>"
      ],
      "text/plain": [
       "[CASLibInfo]\n",
       "\n",
       "    Name  Type Description                    Path Definition  Subdirs  Local  Active  Personal  Hidden  Transient\n",
       " 0  mycl  PATH              /workshop/winsas/VOSI/                 0.0    1.0     0.0       0.0     0.0        0.0\n",
       "\n",
       "+ Elapsed: 0.00212s, user: 0.00155s, mem: 0.719mb"
      ]
     },
     "execution_count": 14,
     "metadata": {},
     "output_type": "execute_result"
    }
   ],
   "source": [
    "# Add a CASlib\n",
    "conn.table.addCaslib(name=\"mycl\", path=\"/workshop/winsas/VOSI\", dataSource=\"PATH\", activeOnAdd=False)"
   ]
  },
  {
   "cell_type": "code",
   "execution_count": 15,
   "metadata": {},
   "outputs": [],
   "source": [
    "# Save Optimization History\n",
    "# pd.DataFrame(results[\"OptIterHistory\"]).to_csv(\"D:/Workshop/Winsas/VOSI/mountain_car_opthist.csv\", index=False)"
   ]
  },
  {
   "cell_type": "code",
   "execution_count": 16,
   "metadata": {},
   "outputs": [],
   "source": [
    "# Save DQN Weights\n",
    "# conn.table.save(caslib = 'mycl', table = 'dqn_weights', name = 'mountain_car_dqn_weights', replace = True)\n",
    "# conn.table.attribute(caslib = 'CASUSER', table = 'mountain_car_dqn_weights_attr', name = 'dqn_weights', task='convert')\n",
    "# conn.table.save(caslib = 'mycl', table = 'mountain_car_dqn_weights_attr', name = 'mountain_car_dqn_weights_attr', replace = True)"
   ]
  },
  {
   "cell_type": "markdown",
   "metadata": {},
   "source": [
    "# Load the Model"
   ]
  },
  {
   "cell_type": "code",
   "execution_count": 17,
   "metadata": {},
   "outputs": [],
   "source": [
    "# Load Optimization History\n",
    "results = pd.read_csv(\"D:/Workshop/Winsas/VOSI/mountain_car_opthist.csv\")"
   ]
  },
  {
   "cell_type": "code",
   "execution_count": 18,
   "metadata": {},
   "outputs": [
    {
     "name": "stdout",
     "output_type": "stream",
     "text": [
      "NOTE: Cloud Analytic Services made the file mountain_car_dqn_weights.sashdat available as table DQN_WEIGHTS in caslib CASUSER(student).\n",
      "NOTE: Cloud Analytic Services made the file mountain_car_dqn_weights_attr.sashdat available as table DQN_WEIGHTS_ATTR in caslib CASUSER(student).\n"
     ]
    },
    {
     "data": {
      "text/html": [
       "<div class=\"cas-output-area\"></div>\n",
       "<p class=\"cas-results-performance\"><small><span class=\"cas-elapsed\">elapsed 0.000902s</span> &#183; <span class=\"cas-user\">user 0.000849s</span> &#183; <span class=\"cas-memory\">mem 0.309MB</span></small></p>"
      ],
      "text/plain": [
       "+ Elapsed: 0.000902s, user: 0.000849s, mem: 0.309mb"
      ]
     },
     "execution_count": 18,
     "metadata": {},
     "output_type": "execute_result"
    }
   ],
   "source": [
    "# Load DQN Weights\n",
    "conn.table.loadTable(caslib = 'mycl', path=\"mountain_car_dqn_weights.sashdat\", casOut=dict(name=\"dqn_weights\", replace=True))\n",
    "conn.table.loadTable(caslib = 'mycl', path=\"mountain_car_dqn_weights_attr.sashdat\", casOut=dict(name=\"dqn_weights_attr\", replace=True))\n",
    "conn.table.attribute(caslib='CASUSER', task='ADD', name='dqn_weights', attrtable='dqn_weights_attr')"
   ]
  },
  {
   "cell_type": "markdown",
   "metadata": {},
   "source": [
    "# View Results"
   ]
  },
  {
   "cell_type": "code",
   "execution_count": 19,
   "metadata": {},
   "outputs": [
    {
     "data": {
      "text/html": [
       "<div>\n",
       "<style scoped>\n",
       "    .dataframe tbody tr th:only-of-type {\n",
       "        vertical-align: middle;\n",
       "    }\n",
       "\n",
       "    .dataframe tbody tr th {\n",
       "        vertical-align: top;\n",
       "    }\n",
       "\n",
       "    .dataframe thead th {\n",
       "        text-align: right;\n",
       "    }\n",
       "</style>\n",
       "<table border=\"1\" class=\"dataframe\">\n",
       "  <thead>\n",
       "    <tr style=\"text-align: right;\">\n",
       "      <th></th>\n",
       "      <th>Iteration</th>\n",
       "      <th>AvgQValue</th>\n",
       "      <th>AvgTarget</th>\n",
       "      <th>AvgLoss</th>\n",
       "      <th>Test Reward</th>\n",
       "    </tr>\n",
       "  </thead>\n",
       "  <tbody>\n",
       "    <tr>\n",
       "      <th>0</th>\n",
       "      <td>0</td>\n",
       "      <td>-1.767006</td>\n",
       "      <td>-1.757299</td>\n",
       "      <td>0.000165</td>\n",
       "      <td>-200.0</td>\n",
       "    </tr>\n",
       "    <tr>\n",
       "      <th>1</th>\n",
       "      <td>10</td>\n",
       "      <td>-17.924733</td>\n",
       "      <td>-18.034602</td>\n",
       "      <td>0.017640</td>\n",
       "      <td>-200.0</td>\n",
       "    </tr>\n",
       "    <tr>\n",
       "      <th>2</th>\n",
       "      <td>20</td>\n",
       "      <td>-29.618428</td>\n",
       "      <td>-29.693044</td>\n",
       "      <td>0.040902</td>\n",
       "      <td>-200.0</td>\n",
       "    </tr>\n",
       "    <tr>\n",
       "      <th>3</th>\n",
       "      <td>30</td>\n",
       "      <td>-38.415153</td>\n",
       "      <td>-38.313149</td>\n",
       "      <td>0.025462</td>\n",
       "      <td>-200.0</td>\n",
       "    </tr>\n",
       "    <tr>\n",
       "      <th>4</th>\n",
       "      <td>40</td>\n",
       "      <td>-42.165839</td>\n",
       "      <td>-42.250632</td>\n",
       "      <td>0.035416</td>\n",
       "      <td>-200.0</td>\n",
       "    </tr>\n",
       "    <tr>\n",
       "      <th>...</th>\n",
       "      <td>...</td>\n",
       "      <td>...</td>\n",
       "      <td>...</td>\n",
       "      <td>...</td>\n",
       "      <td>...</td>\n",
       "    </tr>\n",
       "    <tr>\n",
       "      <th>2496</th>\n",
       "      <td>24960</td>\n",
       "      <td>-54.345923</td>\n",
       "      <td>-53.745898</td>\n",
       "      <td>43.219932</td>\n",
       "      <td>-200.0</td>\n",
       "    </tr>\n",
       "    <tr>\n",
       "      <th>2497</th>\n",
       "      <td>24970</td>\n",
       "      <td>-57.975078</td>\n",
       "      <td>-58.011518</td>\n",
       "      <td>1.314101</td>\n",
       "      <td>-200.0</td>\n",
       "    </tr>\n",
       "    <tr>\n",
       "      <th>2498</th>\n",
       "      <td>24980</td>\n",
       "      <td>-40.455506</td>\n",
       "      <td>-40.753391</td>\n",
       "      <td>2.654132</td>\n",
       "      <td>-121.0</td>\n",
       "    </tr>\n",
       "    <tr>\n",
       "      <th>2499</th>\n",
       "      <td>24990</td>\n",
       "      <td>-38.590330</td>\n",
       "      <td>-38.623395</td>\n",
       "      <td>2.060030</td>\n",
       "      <td>-196.0</td>\n",
       "    </tr>\n",
       "    <tr>\n",
       "      <th>2500</th>\n",
       "      <td>25000</td>\n",
       "      <td>-41.551788</td>\n",
       "      <td>-41.280226</td>\n",
       "      <td>1.890429</td>\n",
       "      <td>-130.0</td>\n",
       "    </tr>\n",
       "  </tbody>\n",
       "</table>\n",
       "<p>2501 rows × 5 columns</p>\n",
       "</div>"
      ],
      "text/plain": [
       "      Iteration  AvgQValue  AvgTarget    AvgLoss  Test Reward\n",
       "0             0  -1.767006  -1.757299   0.000165       -200.0\n",
       "1            10 -17.924733 -18.034602   0.017640       -200.0\n",
       "2            20 -29.618428 -29.693044   0.040902       -200.0\n",
       "3            30 -38.415153 -38.313149   0.025462       -200.0\n",
       "4            40 -42.165839 -42.250632   0.035416       -200.0\n",
       "...         ...        ...        ...        ...          ...\n",
       "2496      24960 -54.345923 -53.745898  43.219932       -200.0\n",
       "2497      24970 -57.975078 -58.011518   1.314101       -200.0\n",
       "2498      24980 -40.455506 -40.753391   2.654132       -121.0\n",
       "2499      24990 -38.590330 -38.623395   2.060030       -196.0\n",
       "2500      25000 -41.551788 -41.280226   1.890429       -130.0\n",
       "\n",
       "[2501 rows x 5 columns]"
      ]
     },
     "execution_count": 19,
     "metadata": {},
     "output_type": "execute_result"
    }
   ],
   "source": [
    "results"
   ]
  },
  {
   "cell_type": "code",
   "execution_count": 20,
   "metadata": {},
   "outputs": [
    {
     "data": {
      "image/png": "[encoded data removed]",
      "text/plain": [
       "<Figure size 432x288 with 1 Axes>"
      ]
     },
     "metadata": {
      "needs_background": "light"
     },
     "output_type": "display_data"
    }
   ],
   "source": [
    "plt.plot(results['Iteration'],results['AvgQValue'], color=\"blue\")\n",
    "plt.xlabel(\"Iteration\", fontsize=15)\n",
    "plt.ylabel(\"Average Q Value\", fontsize=15)\n",
    "plt.show()"
   ]
  },
  {
   "cell_type": "code",
   "execution_count": 21,
   "metadata": {},
   "outputs": [
    {
     "data": {
      "image/png": "[encoded data removed]",
      "text/plain": [
       "<Figure size 432x288 with 1 Axes>"
      ]
     },
     "metadata": {
      "needs_background": "light"
     },
     "output_type": "display_data"
    }
   ],
   "source": [
    "plt.plot(results['Iteration'],results['AvgLoss'], color=\"blue\")\n",
    "plt.xlabel(\"Iteration\", fontsize=15)\n",
    "plt.ylabel(\"Average Loss\", fontsize=15)\n",
    "plt.show()"
   ]
  },
  {
   "cell_type": "code",
   "execution_count": 22,
   "metadata": {},
   "outputs": [
    {
     "data": {
      "image/png": "[encoded data removed]",
      "text/plain": [
       "<Figure size 432x288 with 1 Axes>"
      ]
     },
     "metadata": {
      "needs_background": "light"
     },
     "output_type": "display_data"
    }
   ],
   "source": [
    "plt.plot(results['Iteration'],results['Test Reward'], color=\"blue\")\n",
    "plt.xlabel(\"Iteration\", fontsize=15)\n",
    "plt.ylabel(\"Test Reward\", fontsize=15)\n",
    "plt.show()"
   ]
  },
  {
   "cell_type": "markdown",
   "metadata": {},
   "source": [
    "# Score the Model"
   ]
  },
  {
   "cell_type": "code",
   "execution_count": 23,
   "metadata": {},
   "outputs": [
    {
     "name": "stdout",
     "output_type": "stream",
     "text": [
      "         Episode=        1 Step=        1 LastReward=     0 AverageReward=    -1\n",
      "         Episode=        1 Step=        2 LastReward=     0 AverageReward=    -2\n",
      "         Episode=        1 Step=        3 LastReward=     0 AverageReward=    -3\n",
      "         Episode=        1 Step=        4 LastReward=     0 AverageReward=    -4\n",
      "         Episode=        1 Step=        5 LastReward=     0 AverageReward=    -5\n",
      "         Episode=        1 Step=        6 LastReward=     0 AverageReward=    -6\n",
      "         Episode=        1 Step=        7 LastReward=     0 AverageReward=    -7\n",
      "         Episode=        1 Step=        8 LastReward=     0 AverageReward=    -8\n",
      "         Episode=        1 Step=        9 LastReward=     0 AverageReward=    -9\n",
      "         Episode=        1 Step=       10 LastReward=     0 AverageReward=   -10\n",
      "         Episode=        1 Step=       11 LastReward=     0 AverageReward=   -11\n",
      "         Episode=        1 Step=       12 LastReward=     0 AverageReward=   -12\n",
      "         Episode=        1 Step=       13 LastReward=     0 AverageReward=   -13\n",
      "         Episode=        1 Step=       14 LastReward=     0 AverageReward=   -14\n",
      "         Episode=        1 Step=       15 LastReward=     0 AverageReward=   -15\n",
      "         Episode=        1 Step=       16 LastReward=     0 AverageReward=   -16\n",
      "         Episode=        1 Step=       17 LastReward=     0 AverageReward=   -17\n",
      "         Episode=        1 Step=       18 LastReward=     0 AverageReward=   -18\n",
      "         Episode=        1 Step=       19 LastReward=     0 AverageReward=   -19\n",
      "         Episode=        1 Step=       20 LastReward=     0 AverageReward=   -20\n",
      "         Episode=        1 Step=       21 LastReward=     0 AverageReward=   -21\n",
      "         Episode=        1 Step=       22 LastReward=     0 AverageReward=   -22\n",
      "         Episode=        1 Step=       23 LastReward=     0 AverageReward=   -23\n",
      "         Episode=        1 Step=       24 LastReward=     0 AverageReward=   -24\n",
      "         Episode=        1 Step=       25 LastReward=     0 AverageReward=   -25\n",
      "         Episode=        1 Step=       26 LastReward=     0 AverageReward=   -26\n",
      "         Episode=        1 Step=       27 LastReward=     0 AverageReward=   -27\n",
      "         Episode=        1 Step=       28 LastReward=     0 AverageReward=   -28\n",
      "         Episode=        1 Step=       29 LastReward=     0 AverageReward=   -29\n",
      "         Episode=        1 Step=       30 LastReward=     0 AverageReward=   -30\n",
      "         Episode=        1 Step=       31 LastReward=     0 AverageReward=   -31\n",
      "         Episode=        1 Step=       32 LastReward=     0 AverageReward=   -32\n",
      "         Episode=        1 Step=       33 LastReward=     0 AverageReward=   -33\n",
      "         Episode=        1 Step=       34 LastReward=     0 AverageReward=   -34\n",
      "         Episode=        1 Step=       35 LastReward=     0 AverageReward=   -35\n",
      "         Episode=        1 Step=       36 LastReward=     0 AverageReward=   -36\n",
      "         Episode=        1 Step=       37 LastReward=     0 AverageReward=   -37\n",
      "         Episode=        1 Step=       38 LastReward=     0 AverageReward=   -38\n",
      "         Episode=        1 Step=       39 LastReward=     0 AverageReward=   -39\n",
      "         Episode=        1 Step=       40 LastReward=     0 AverageReward=   -40\n",
      "         Episode=        1 Step=       41 LastReward=     0 AverageReward=   -41\n",
      "         Episode=        1 Step=       42 LastReward=     0 AverageReward=   -42\n",
      "         Episode=        1 Step=       43 LastReward=     0 AverageReward=   -43\n",
      "         Episode=        1 Step=       44 LastReward=     0 AverageReward=   -44\n",
      "         Episode=        1 Step=       45 LastReward=     0 AverageReward=   -45\n",
      "         Episode=        1 Step=       46 LastReward=     0 AverageReward=   -46\n",
      "         Episode=        1 Step=       47 LastReward=     0 AverageReward=   -47\n",
      "         Episode=        1 Step=       48 LastReward=     0 AverageReward=   -48\n",
      "         Episode=        1 Step=       49 LastReward=     0 AverageReward=   -49\n",
      "         Episode=        1 Step=       50 LastReward=     0 AverageReward=   -50\n",
      "         Episode=        1 Step=       51 LastReward=     0 AverageReward=   -51\n",
      "         Episode=        1 Step=       52 LastReward=     0 AverageReward=   -52\n",
      "         Episode=        1 Step=       53 LastReward=     0 AverageReward=   -53\n",
      "         Episode=        1 Step=       54 LastReward=     0 AverageReward=   -54\n",
      "         Episode=        1 Step=       55 LastReward=     0 AverageReward=   -55\n",
      "         Episode=        1 Step=       56 LastReward=     0 AverageReward=   -56\n",
      "         Episode=        1 Step=       57 LastReward=     0 AverageReward=   -57\n",
      "         Episode=        1 Step=       58 LastReward=     0 AverageReward=   -58\n",
      "         Episode=        1 Step=       59 LastReward=     0 AverageReward=   -59\n",
      "         Episode=        1 Step=       60 LastReward=     0 AverageReward=   -60\n",
      "         Episode=        1 Step=       61 LastReward=     0 AverageReward=   -61\n",
      "         Episode=        1 Step=       62 LastReward=     0 AverageReward=   -62\n",
      "         Episode=        1 Step=       63 LastReward=     0 AverageReward=   -63\n",
      "         Episode=        1 Step=       64 LastReward=     0 AverageReward=   -64\n",
      "         Episode=        1 Step=       65 LastReward=     0 AverageReward=   -65\n",
      "         Episode=        1 Step=       66 LastReward=     0 AverageReward=   -66\n",
      "         Episode=        1 Step=       67 LastReward=     0 AverageReward=   -67\n",
      "         Episode=        1 Step=       68 LastReward=     0 AverageReward=   -68\n",
      "         Episode=        1 Step=       69 LastReward=     0 AverageReward=   -69\n",
      "         Episode=        1 Step=       70 LastReward=     0 AverageReward=   -70\n",
      "         Episode=        1 Step=       71 LastReward=     0 AverageReward=   -71\n",
      "         Episode=        1 Step=       72 LastReward=     0 AverageReward=   -72\n",
      "         Episode=        1 Step=       73 LastReward=     0 AverageReward=   -73\n",
      "         Episode=        1 Step=       74 LastReward=     0 AverageReward=   -74\n",
      "         Episode=        1 Step=       75 LastReward=     0 AverageReward=   -75\n",
      "         Episode=        1 Step=       76 LastReward=     0 AverageReward=   -76\n",
      "         Episode=        1 Step=       77 LastReward=     0 AverageReward=   -77\n",
      "         Episode=        1 Step=       78 LastReward=     0 AverageReward=   -78\n",
      "         Episode=        1 Step=       79 LastReward=     0 AverageReward=   -79\n",
      "         Episode=        1 Step=       80 LastReward=     0 AverageReward=   -80\n",
      "         Episode=        1 Step=       81 LastReward=     0 AverageReward=   -81\n",
      "         Episode=        1 Step=       82 LastReward=     0 AverageReward=   -82\n",
      "         Episode=        1 Step=       83 LastReward=     0 AverageReward=   -83\n",
      "         Episode=        1 Step=       84 LastReward=     0 AverageReward=   -84\n",
      "         Episode=        1 Step=       85 LastReward=     0 AverageReward=   -85\n",
      "         Episode=        1 Step=       86 LastReward=     0 AverageReward=   -86\n",
      "         Episode=        1 Step=       87 LastReward=     0 AverageReward=   -87\n",
      "         Episode=        1 Step=       88 LastReward=     0 AverageReward=   -88\n",
      "         Episode=        1 Step=       89 LastReward=     0 AverageReward=   -89\n",
      "         Episode=        1 Step=       90 LastReward=     0 AverageReward=   -90\n",
      "         Episode=        1 Step=       91 LastReward=     0 AverageReward=   -91\n",
      "         Episode=        1 Step=       92 LastReward=     0 AverageReward=   -92\n",
      "         Episode=        1 Step=       93 LastReward=     0 AverageReward=   -93\n",
      "         Episode=        1 Step=       94 LastReward=     0 AverageReward=   -94\n",
      "         Episode=        1 Step=       95 LastReward=     0 AverageReward=   -95\n",
      "         Episode=        1 Step=       96 LastReward=     0 AverageReward=   -96\n",
      "         Episode=        1 Step=       97 LastReward=     0 AverageReward=   -97\n",
      "         Episode=        1 Step=       98 LastReward=     0 AverageReward=   -98\n",
      "         Episode=        1 Step=       99 LastReward=     0 AverageReward=   -99\n",
      "         Episode=        1 Step=      100 LastReward=     0 AverageReward=  -100\n",
      "         Episode=        1 Step=      101 LastReward=     0 AverageReward=  -101\n",
      "         Episode=        1 Step=      102 LastReward=     0 AverageReward=  -102\n",
      "         Episode=        1 Step=      103 LastReward=     0 AverageReward=  -103\n",
      "         Episode=        1 Step=      104 LastReward=     0 AverageReward=  -104\n",
      "         Episode=        1 Step=      105 LastReward=     0 AverageReward=  -105\n",
      "         Episode=        1 Step=      106 LastReward=     0 AverageReward=  -106\n",
      "         Episode=        1 Step=      107 LastReward=     0 AverageReward=  -107\n",
      "         Episode=        1 Step=      108 LastReward=     0 AverageReward=  -108\n",
      "         Episode=        1 Step=      109 LastReward=     0 AverageReward=  -109\n",
      "         Episode=        1 Step=      110 LastReward=     0 AverageReward=  -110\n",
      "         Episode=        1 Step=      111 LastReward=     0 AverageReward=  -111\n",
      "         Episode=        1 Step=      112 LastReward=     0 AverageReward=  -112\n",
      "         Episode=        1 Step=      113 LastReward=     0 AverageReward=  -113\n",
      "         Episode=        1 Step=      114 LastReward=     0 AverageReward=  -114\n",
      "         Episode=        1 Step=      115 LastReward=     0 AverageReward=  -115\n",
      "         Episode=        1 Step=      116 LastReward=     0 AverageReward=  -116\n",
      "         Episode=        1 Step=      117 LastReward=     0 AverageReward=  -117\n",
      "         Episode=        1 Step=      118 LastReward=     0 AverageReward=  -118\n",
      "         Episode=        1 Step=      119 LastReward=     0 AverageReward=  -119\n",
      "         Episode=        1 Step=      120 LastReward=     0 AverageReward=  -120\n",
      "         Episode=        1 Step=      121 LastReward=     0 AverageReward=  -121\n",
      "         Episode=        1 Step=      122 LastReward=     0 AverageReward=  -122\n",
      "         Episode=        1 Step=      123 LastReward=     0 AverageReward=  -123\n",
      "         Episode=        1 Step=      124 LastReward=     0 AverageReward=  -124\n",
      "         Episode=        1 Step=      125 LastReward=     0 AverageReward=  -125\n",
      "NOTE: Reinforcement learning rlScore action complete.\n"
     ]
    },
    {
     "data": {
      "text/html": [
       "<div class=\"cas-results-key\"><b>&#167; ScoreInfo</b></div>\n",
       "<div class=\"cas-results-body\">\n",
       "<div>\n",
       "<style scoped>\n",
       "    .dataframe tbody tr th:only-of-type {\n",
       "        vertical-align: middle;\n",
       "    }\n",
       "\n",
       "    .dataframe tbody tr th {\n",
       "        vertical-align: top;\n",
       "    }\n",
       "\n",
       "    .dataframe thead th {\n",
       "        text-align: right;\n",
       "    }\n",
       "</style>\n",
       "<table border=\"1\" class=\"dataframe\">\n",
       "  <thead>\n",
       "    <tr style=\"text-align: right;\">\n",
       "      <th title=\"\"></th>\n",
       "      <th title=\"Property\">Property</th>\n",
       "      <th title=\"Value\">Value</th>\n",
       "    </tr>\n",
       "  </thead>\n",
       "  <tbody>\n",
       "    <tr>\n",
       "      <td>0</td>\n",
       "      <td>Number of State Variables</td>\n",
       "      <td>2</td>\n",
       "    </tr>\n",
       "    <tr>\n",
       "      <td>1</td>\n",
       "      <td>Number of Actions</td>\n",
       "      <td>3</td>\n",
       "    </tr>\n",
       "    <tr>\n",
       "      <td>2</td>\n",
       "      <td>Algorithm</td>\n",
       "      <td>DQN</td>\n",
       "    </tr>\n",
       "    <tr>\n",
       "      <td>3</td>\n",
       "      <td>Optimizer</td>\n",
       "      <td>ADAM</td>\n",
       "    </tr>\n",
       "  </tbody>\n",
       "</table>\n",
       "</div>\n",
       "</div>\n",
       "<div class=\"cas-output-area\"></div>\n",
       "<p class=\"cas-results-performance\"><small><span class=\"cas-elapsed\">elapsed 8.06s</span> &#183; <span class=\"cas-user\">user 0.172s</span> &#183; <span class=\"cas-sys\">sys 0.0562s</span> &#183; <span class=\"cas-memory\">mem 17.4MB</span></small></p>"
      ],
      "text/plain": [
       "[ScoreInfo]\n",
       "\n",
       "                     Property Value\n",
       " 0  Number of State Variables     2\n",
       " 1          Number of Actions     3\n",
       " 2                  Algorithm   DQN\n",
       " 3                  Optimizer  ADAM\n",
       "\n",
       "+ Elapsed: 8.06s, user: 0.172s, sys: 0.0562s, mem: 17.4mb"
      ]
     },
     "execution_count": 23,
     "metadata": {},
     "output_type": "execute_result"
    }
   ],
   "source": [
    "conn.reinforcementLearn.rlScore(\n",
    "    environment=dict(type='remote', url=sasrl_env_url, name='MountainCar-v0', \n",
    "                     render=True, renderFreq=10, renderSleep=0, seed=802),\n",
    "    model='dqn_weights',\n",
    "    numEpisodes=1,\n",
    "    logFreq=1,\n",
    "    casout=dict(name='scored_table', replace=True)\n",
    ")"
   ]
  },
  {
   "cell_type": "markdown",
   "metadata": {},
   "source": [
    "# Download Final Test"
   ]
  },
  {
   "cell_type": "code",
   "execution_count": 24,
   "metadata": {},
   "outputs": [
    {
     "data": {
      "text/html": [
       "<div>\n",
       "<style scoped>\n",
       "    .dataframe tbody tr th:only-of-type {\n",
       "        vertical-align: middle;\n",
       "    }\n",
       "\n",
       "    .dataframe tbody tr th {\n",
       "        vertical-align: top;\n",
       "    }\n",
       "\n",
       "    .dataframe thead th {\n",
       "        text-align: right;\n",
       "    }\n",
       "</style>\n",
       "<table border=\"1\" class=\"dataframe\"><caption>Selected Rows from Table SCORED_TABLE</caption>\n",
       "  <thead>\n",
       "    <tr style=\"text-align: right;\">\n",
       "      <th title=\"\"></th>\n",
       "      <th title=\"_Step_\">_Step_</th>\n",
       "      <th title=\"_Episode_\">_Episode_</th>\n",
       "      <th title=\"_State_0\">_State_0</th>\n",
       "      <th title=\"_State_1\">_State_1</th>\n",
       "      <th title=\"_Action_\">_Action_</th>\n",
       "      <th title=\"_Reward_\">_Reward_</th>\n",
       "      <th title=\"_Done_\">_Done_</th>\n",
       "    </tr>\n",
       "  </thead>\n",
       "  <tbody>\n",
       "    <tr>\n",
       "      <td>0</td>\n",
       "      <td>0.0</td>\n",
       "      <td>1.0</td>\n",
       "      <td>-0.548274</td>\n",
       "      <td>0.000000</td>\n",
       "      <td>2.0</td>\n",
       "      <td>-1.0</td>\n",
       "      <td>0.0</td>\n",
       "    </tr>\n",
       "    <tr>\n",
       "      <td>1</td>\n",
       "      <td>1.0</td>\n",
       "      <td>1.0</td>\n",
       "      <td>-0.547089</td>\n",
       "      <td>0.001185</td>\n",
       "      <td>2.0</td>\n",
       "      <td>-1.0</td>\n",
       "      <td>0.0</td>\n",
       "    </tr>\n",
       "    <tr>\n",
       "      <td>2</td>\n",
       "      <td>2.0</td>\n",
       "      <td>1.0</td>\n",
       "      <td>-0.544728</td>\n",
       "      <td>0.002361</td>\n",
       "      <td>2.0</td>\n",
       "      <td>-1.0</td>\n",
       "      <td>0.0</td>\n",
       "    </tr>\n",
       "    <tr>\n",
       "      <td>3</td>\n",
       "      <td>3.0</td>\n",
       "      <td>1.0</td>\n",
       "      <td>-0.541209</td>\n",
       "      <td>0.003519</td>\n",
       "      <td>2.0</td>\n",
       "      <td>-1.0</td>\n",
       "      <td>0.0</td>\n",
       "    </tr>\n",
       "    <tr>\n",
       "      <td>4</td>\n",
       "      <td>4.0</td>\n",
       "      <td>1.0</td>\n",
       "      <td>-0.536557</td>\n",
       "      <td>0.004651</td>\n",
       "      <td>2.0</td>\n",
       "      <td>-1.0</td>\n",
       "      <td>0.0</td>\n",
       "    </tr>\n",
       "    <tr>\n",
       "      <td>...</td>\n",
       "      <td>...</td>\n",
       "      <td>...</td>\n",
       "      <td>...</td>\n",
       "      <td>...</td>\n",
       "      <td>...</td>\n",
       "      <td>...</td>\n",
       "      <td>...</td>\n",
       "    </tr>\n",
       "    <tr>\n",
       "      <td>120</td>\n",
       "      <td>120.0</td>\n",
       "      <td>1.0</td>\n",
       "      <td>0.380891</td>\n",
       "      <td>0.028455</td>\n",
       "      <td>2.0</td>\n",
       "      <td>-1.0</td>\n",
       "      <td>0.0</td>\n",
       "    </tr>\n",
       "    <tr>\n",
       "      <td>121</td>\n",
       "      <td>121.0</td>\n",
       "      <td>1.0</td>\n",
       "      <td>0.409308</td>\n",
       "      <td>0.028417</td>\n",
       "      <td>2.0</td>\n",
       "      <td>-1.0</td>\n",
       "      <td>0.0</td>\n",
       "    </tr>\n",
       "    <tr>\n",
       "      <td>122</td>\n",
       "      <td>122.0</td>\n",
       "      <td>1.0</td>\n",
       "      <td>0.437885</td>\n",
       "      <td>0.028577</td>\n",
       "      <td>2.0</td>\n",
       "      <td>-1.0</td>\n",
       "      <td>0.0</td>\n",
       "    </tr>\n",
       "    <tr>\n",
       "      <td>123</td>\n",
       "      <td>123.0</td>\n",
       "      <td>1.0</td>\n",
       "      <td>0.466826</td>\n",
       "      <td>0.028941</td>\n",
       "      <td>2.0</td>\n",
       "      <td>-1.0</td>\n",
       "      <td>0.0</td>\n",
       "    </tr>\n",
       "    <tr>\n",
       "      <td>124</td>\n",
       "      <td>124.0</td>\n",
       "      <td>1.0</td>\n",
       "      <td>0.496343</td>\n",
       "      <td>0.029517</td>\n",
       "      <td>2.0</td>\n",
       "      <td>-1.0</td>\n",
       "      <td>1.0</td>\n",
       "    </tr>\n",
       "  </tbody>\n",
       "</table>\n",
       "<p>125 rows × 7 columns</p>\n",
       "</div>"
      ],
      "text/plain": [
       "Selected Rows from Table SCORED_TABLE\n",
       "\n",
       "     _Step_  _Episode_  _State_0  _State_1  _Action_  _Reward_  _Done_\n",
       "0       0.0        1.0 -0.548274  0.000000       2.0      -1.0     0.0\n",
       "1       1.0        1.0 -0.547089  0.001185       2.0      -1.0     0.0\n",
       "2       2.0        1.0 -0.544728  0.002361       2.0      -1.0     0.0\n",
       "3       3.0        1.0 -0.541209  0.003519       2.0      -1.0     0.0\n",
       "4       4.0        1.0 -0.536557  0.004651       2.0      -1.0     0.0\n",
       "5       5.0        1.0 -0.530809  0.005748       2.0      -1.0     0.0\n",
       "6       6.0        1.0 -0.524006  0.006803       2.0      -1.0     0.0\n",
       "7       7.0        1.0 -0.516201  0.007806       2.0      -1.0     0.0\n",
       "8       8.0        1.0 -0.507451  0.008750       2.0      -1.0     0.0\n",
       "9       9.0        1.0 -0.497822  0.009629       2.0      -1.0     0.0\n",
       "10     10.0        1.0 -0.487386  0.010436       2.0      -1.0     0.0\n",
       "11     11.0        1.0 -0.476221  0.011165       2.0      -1.0     0.0\n",
       "12     12.0        1.0 -0.464410  0.011811       2.0      -1.0     0.0\n",
       "13     13.0        1.0 -0.452041  0.012369       2.0      -1.0     0.0\n",
       "14     14.0        1.0 -0.439204  0.012837       2.0      -1.0     0.0\n",
       "15     15.0        1.0 -0.425994  0.013210       2.0      -1.0     0.0\n",
       "16     16.0        1.0 -0.412505  0.013489       2.0      -1.0     0.0\n",
       "17     17.0        1.0 -0.398835  0.013671       2.0      -1.0     0.0\n",
       "18     18.0        1.0 -0.385078  0.013757       2.0      -1.0     0.0\n",
       "19     19.0        1.0 -0.371330  0.013748       2.0      -1.0     0.0\n",
       "20     20.0        1.0 -0.357685  0.013645       2.0      -1.0     0.0\n",
       "21     21.0        1.0 -0.344234  0.013451       2.0      -1.0     0.0\n",
       "22     22.0        1.0 -0.331064  0.013170       2.0      -1.0     0.0\n",
       "23     23.0        1.0 -0.318259  0.012805       2.0      -1.0     0.0\n",
       "24     24.0        1.0 -0.305899  0.012360       2.0      -1.0     0.0\n",
       "25     25.0        1.0 -0.294057  0.011841       2.0      -1.0     0.0\n",
       "26     26.0        1.0 -0.282805  0.011253       2.0      -1.0     0.0\n",
       "27     27.0        1.0 -0.272205  0.010600       2.0      -1.0     0.0\n",
       "28     28.0        1.0 -0.262317  0.009888       2.0      -1.0     0.0\n",
       "29     29.0        1.0 -0.253194  0.009123       2.0      -1.0     0.0\n",
       "30     30.0        1.0 -0.244884  0.008310       2.0      -1.0     0.0\n",
       "31     31.0        1.0 -0.237429  0.007455       2.0      -1.0     0.0\n",
       "32     32.0        1.0 -0.230866  0.006563       2.0      -1.0     0.0\n",
       "33     33.0        1.0 -0.225227  0.005639       2.0      -1.0     0.0\n",
       "34     34.0        1.0 -0.220539  0.004688       2.0      -1.0     0.0\n",
       "35     35.0        1.0 -0.216823  0.003716       2.0      -1.0     0.0\n",
       "36     36.0        1.0 -0.214097  0.002726       2.0      -1.0     0.0\n",
       "37     37.0        1.0 -0.212373  0.001724       2.0      -1.0     0.0\n",
       "38     38.0        1.0 -0.211658  0.000715       2.0      -1.0     0.0\n",
       "39     39.0        1.0 -0.211956 -0.000298       2.0      -1.0     0.0\n",
       "40     40.0        1.0 -0.213265 -0.001309       2.0      -1.0     0.0\n",
       "41     41.0        1.0 -0.215580 -0.002315       2.0      -1.0     0.0\n",
       "42     42.0        1.0 -0.218890 -0.003310       0.0      -1.0     0.0\n",
       "43     43.0        1.0 -0.225180 -0.006290       0.0      -1.0     0.0\n",
       "44     44.0        1.0 -0.234421 -0.009241       0.0      -1.0     0.0\n",
       "45     45.0        1.0 -0.246569 -0.012148       0.0      -1.0     0.0\n",
       "46     46.0        1.0 -0.261564 -0.014994       0.0      -1.0     0.0\n",
       "47     47.0        1.0 -0.279327 -0.017763       1.0      -1.0     0.0\n",
       "48     48.0        1.0 -0.298763 -0.019436       1.0      -1.0     0.0\n",
       "49     49.0        1.0 -0.319760 -0.020997       1.0      -1.0     0.0\n",
       "50     50.0        1.0 -0.342193 -0.022432       1.0      -1.0     0.0\n",
       "51     51.0        1.0 -0.365919 -0.023727       1.0      -1.0     0.0\n",
       "52     52.0        1.0 -0.390785 -0.024866       1.0      -1.0     0.0\n",
       "53     53.0        1.0 -0.416621 -0.025836       1.0      -1.0     0.0\n",
       "54     54.0        1.0 -0.443245 -0.026624       1.0      -1.0     0.0\n",
       "55     55.0        1.0 -0.470467 -0.027221       1.0      -1.0     0.0\n",
       "56     56.0        1.0 -0.498085 -0.027618       1.0      -1.0     0.0\n",
       "57     57.0        1.0 -0.525894 -0.027809       1.0      -1.0     0.0\n",
       "58     58.0        1.0 -0.553686 -0.027792       1.0      -1.0     0.0\n",
       "59     59.0        1.0 -0.581253 -0.027567       1.0      -1.0     0.0\n",
       "60     60.0        1.0 -0.608389 -0.027136       1.0      -1.0     0.0\n",
       "61     61.0        1.0 -0.634896 -0.026507       1.0      -1.0     0.0\n",
       "62     62.0        1.0 -0.660584 -0.025688       1.0      -1.0     0.0\n",
       "63     63.0        1.0 -0.685274 -0.024689       0.0      -1.0     0.0\n",
       "64     64.0        1.0 -0.709797 -0.024524       0.0      -1.0     0.0\n",
       "65     65.0        1.0 -0.733996 -0.024199       0.0      -1.0     0.0\n",
       "66     66.0        1.0 -0.757719 -0.023723       0.0      -1.0     0.0\n",
       "67     67.0        1.0 -0.780828 -0.023108       0.0      -1.0     0.0\n",
       "68     68.0        1.0 -0.803193 -0.022365       0.0      -1.0     0.0\n",
       "69     69.0        1.0 -0.824698 -0.021505       0.0      -1.0     0.0\n",
       "70     70.0        1.0 -0.845240 -0.020542       0.0      -1.0     0.0\n",
       "71     71.0        1.0 -0.864727 -0.019487       0.0      -1.0     0.0\n",
       "72     72.0        1.0 -0.883080 -0.018352       0.0      -1.0     0.0\n",
       "73     73.0        1.0 -0.900229 -0.017149       0.0      -1.0     0.0\n",
       "74     74.0        1.0 -0.916117 -0.015888       0.0      -1.0     0.0\n",
       "75     75.0        1.0 -0.930696 -0.014579       0.0      -1.0     0.0\n",
       "76     76.0        1.0 -0.943927 -0.013230       0.0      -1.0     0.0\n",
       "77     77.0        1.0 -0.955776 -0.011849       2.0      -1.0     0.0\n",
       "78     78.0        1.0 -0.964219 -0.008443       2.0      -1.0     0.0\n",
       "79     79.0        1.0 -0.969239 -0.005020       2.0      -1.0     0.0\n",
       "80     80.0        1.0 -0.970827 -0.001588       2.0      -1.0     0.0\n",
       "81     81.0        1.0 -0.968980  0.001847       2.0      -1.0     0.0\n",
       "82     82.0        1.0 -0.963702  0.005278       2.0      -1.0     0.0\n",
       "83     83.0        1.0 -0.955001  0.008700       2.0      -1.0     0.0\n",
       "84     84.0        1.0 -0.942896  0.012105       2.0      -1.0     0.0\n",
       "85     85.0        1.0 -0.927412  0.015484       2.0      -1.0     0.0\n",
       "86     86.0        1.0 -0.908588  0.018824       2.0      -1.0     0.0\n",
       "87     87.0        1.0 -0.886477  0.022111       2.0      -1.0     0.0\n",
       "88     88.0        1.0 -0.861151  0.025326       2.0      -1.0     0.0\n",
       "89     89.0        1.0 -0.832704  0.028447       2.0      -1.0     0.0\n",
       "90     90.0        1.0 -0.801258  0.031447       2.0      -1.0     0.0\n",
       "91     91.0        1.0 -0.766961  0.034297       2.0      -1.0     0.0\n",
       "92     92.0        1.0 -0.729997  0.036964       2.0      -1.0     0.0\n",
       "93     93.0        1.0 -0.690582  0.039415       2.0      -1.0     0.0\n",
       "94     94.0        1.0 -0.648967  0.041615       2.0      -1.0     0.0\n",
       "95     95.0        1.0 -0.605433  0.043534       2.0      -1.0     0.0\n",
       "96     96.0        1.0 -0.560292  0.045141       2.0      -1.0     0.0\n",
       "97     97.0        1.0 -0.513876  0.046416       2.0      -1.0     0.0\n",
       "98     98.0        1.0 -0.466533  0.047343       2.0      -1.0     0.0\n",
       "99     99.0        1.0 -0.418615  0.047917       2.0      -1.0     0.0\n",
       "100   100.0        1.0 -0.370473  0.048143       2.0      -1.0     0.0\n",
       "101   101.0        1.0 -0.322438  0.048034       2.0      -1.0     0.0\n",
       "102   102.0        1.0 -0.274823  0.047615       2.0      -1.0     0.0\n",
       "103   103.0        1.0 -0.227905  0.046918       2.0      -1.0     0.0\n",
       "104   104.0        1.0 -0.181925  0.045980       2.0      -1.0     0.0\n",
       "105   105.0        1.0 -0.137082  0.044843       2.0      -1.0     0.0\n",
       "106   106.0        1.0 -0.093530  0.043552       2.0      -1.0     0.0\n",
       "107   107.0        1.0 -0.051380  0.042149       2.0      -1.0     0.0\n",
       "108   108.0        1.0 -0.010701  0.040679       2.0      -1.0     0.0\n",
       "109   109.0        1.0  0.028479  0.039180       2.0      -1.0     0.0\n",
       "110   110.0        1.0  0.066168  0.037689       2.0      -1.0     0.0\n",
       "111   111.0        1.0  0.102407  0.036239       2.0      -1.0     0.0\n",
       "112   112.0        1.0  0.137263  0.034856       2.0      -1.0     0.0\n",
       "113   113.0        1.0  0.170827  0.033565       2.0      -1.0     0.0\n",
       "114   114.0        1.0  0.203213  0.032386       2.0      -1.0     0.0\n",
       "115   115.0        1.0  0.234549  0.031336       2.0      -1.0     0.0\n",
       "116   116.0        1.0  0.264979  0.030430       2.0      -1.0     0.0\n",
       "117   117.0        1.0  0.294658  0.029679       2.0      -1.0     0.0\n",
       "118   118.0        1.0  0.323752  0.029094       2.0      -1.0     0.0\n",
       "119   119.0        1.0  0.352436  0.028683       2.0      -1.0     0.0\n",
       "120   120.0        1.0  0.380891  0.028455       2.0      -1.0     0.0\n",
       "121   121.0        1.0  0.409308  0.028417       2.0      -1.0     0.0\n",
       "122   122.0        1.0  0.437885  0.028577       2.0      -1.0     0.0\n",
       "123   123.0        1.0  0.466826  0.028941       2.0      -1.0     0.0\n",
       "124   124.0        1.0  0.496343  0.029517       2.0      -1.0     1.0"
      ]
     },
     "execution_count": 24,
     "metadata": {},
     "output_type": "execute_result"
    }
   ],
   "source": [
    "scored_table = conn.CASTable(name = \"scored_table\")\n",
    "df = scored_table.to_frame()\n",
    "df"
   ]
  },
  {
   "cell_type": "code",
   "execution_count": 25,
   "metadata": {},
   "outputs": [
    {
     "data": {
      "image/png": "[encoded data removed]",
      "text/plain": [
       "<Figure size 432x288 with 1 Axes>"
      ]
     },
     "metadata": {
      "needs_background": "light"
     },
     "output_type": "display_data"
    }
   ],
   "source": [
    "plt.plot(df[\"_Action_\"], color=\"blue\")\n",
    "plt.title(\"Mountain Car\", fontsize=20)\n",
    "plt.xlabel(\"Step\", fontsize=15)\n",
    "plt.ylabel(\"Action\", fontsize=15)\n",
    "plt.ylim(-0.1,2.2)\n",
    "plt.text(0,0,\"Left\", color=\"red\", fontsize=12)\n",
    "plt.text(0,1,\"Null\", color=\"red\", fontsize=12)\n",
    "plt.text(0,2.1,\"Right\", color=\"red\", fontsize=12)\n",
    "plt.show()"
   ]
  },
  {
   "cell_type": "markdown",
   "metadata": {},
   "source": [
    "# End the Session"
   ]
  },
  {
   "cell_type": "code",
   "execution_count": 26,
   "metadata": {},
   "outputs": [
    {
     "data": {
      "text/html": [
       "<div class=\"cas-output-area\"></div>\n",
       "<p class=\"cas-results-performance\"><small><span class=\"cas-elapsed\">elapsed 0.000305s</span> &#183; <span class=\"cas-user\">user 0.000112s</span> &#183; <span class=\"cas-sys\">sys 0.000179s</span> &#183; <span class=\"cas-memory\">mem 0.221MB</span></small></p>"
      ],
      "text/plain": [
       "+ Elapsed: 0.000305s, user: 0.000112s, sys: 0.000179s, mem: 0.221mb"
      ]
     },
     "execution_count": 26,
     "metadata": {},
     "output_type": "execute_result"
    }
   ],
   "source": [
    "conn.session.endSession()"
   ]
  }
 ],
 "metadata": {
  "kernelspec": {
   "display_name": "Python 3",
   "language": "python",
   "name": "python3"
  },
  "language_info": {
   "codemirror_mode": {
    "name": "ipython",
    "version": 3
   },
   "file_extension": ".py",
   "mimetype": "text/x-python",
   "name": "python",
   "nbconvert_exporter": "python",
   "pygments_lexer": "ipython3",
   "version": "3.8.5"
  }
 },
 "nbformat": 4,
 "nbformat_minor": 4
}
