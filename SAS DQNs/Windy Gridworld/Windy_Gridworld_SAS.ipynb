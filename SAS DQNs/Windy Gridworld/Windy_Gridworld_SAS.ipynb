{
 "cells": [
  {
   "cell_type": "markdown",
   "metadata": {},
   "source": [
    "# Windy Gridworld SAS"
   ]
  },
  {
   "cell_type": "markdown",
   "metadata": {},
   "source": [
    "![title](windy_gridworld_pic.png)"
   ]
  },
  {
   "cell_type": "markdown",
   "metadata": {},
   "source": [
    "# Load Packages"
   ]
  },
  {
   "cell_type": "code",
   "execution_count": 1,
   "metadata": {},
   "outputs": [],
   "source": [
    "import swat\n",
    "import numpy as np\n",
    "import matplotlib.pyplot as plt\n",
    "import subprocess\n",
    "import gym\n",
    "import gym_windygw"
   ]
  },
  {
   "cell_type": "markdown",
   "metadata": {},
   "source": [
    "# Connect to CAS"
   ]
  },
  {
   "cell_type": "code",
   "execution_count": 2,
   "metadata": {},
   "outputs": [],
   "source": [
    "conn = swat.CAS(\"server\", 30571, \"student\", \"Metadata0\")"
   ]
  },
  {
   "cell_type": "markdown",
   "metadata": {},
   "source": [
    "# Make Environment"
   ]
  },
  {
   "cell_type": "code",
   "execution_count": 3,
   "metadata": {},
   "outputs": [
    {
     "name": "stdout",
     "output_type": "stream",
     "text": [
      "[['-' '-' '-' '-' '-' '-' '-' '-' '-' '-']\n",
      " ['-' '-' '-' '-' '-' '-' '-' '-' '-' '-']\n",
      " ['-' '-' '-' '-' '-' '-' '-' '-' '-' '-']\n",
      " ['S' '-' '-' '-' '-' '-' '-' 'G' '-' '-']\n",
      " ['-' '-' '-' '-' '-' '-' '-' '-' '-' '-']\n",
      " ['-' '-' '-' '-' '-' '-' '-' '-' '-' '-']\n",
      " ['-' '-' '-' '-' '-' '-' '-' '-' '-' '-']]\n"
     ]
    }
   ],
   "source": [
    "env = gym.make('windygw-v0')"
   ]
  },
  {
   "cell_type": "code",
   "execution_count": 4,
   "metadata": {},
   "outputs": [
    {
     "data": {
      "text/plain": [
       "Discrete(4)"
      ]
     },
     "execution_count": 4,
     "metadata": {},
     "output_type": "execute_result"
    }
   ],
   "source": [
    "# Env Actions\n",
    "directions = {\"Up\":0,\"Down\":1,\"Left\":2,\"Right\":3}\n",
    "env.action_space"
   ]
  },
  {
   "cell_type": "code",
   "execution_count": 5,
   "metadata": {},
   "outputs": [
    {
     "data": {
      "text/plain": [
       "Box(0.0, 10.0, (2,), float32)"
      ]
     },
     "execution_count": 5,
     "metadata": {},
     "output_type": "execute_result"
    }
   ],
   "source": [
    "# Env Grid\n",
    "env.observation_space"
   ]
  },
  {
   "cell_type": "code",
   "execution_count": 6,
   "metadata": {},
   "outputs": [
    {
     "data": {
      "text/plain": [
       "[3, 0]"
      ]
     },
     "execution_count": 6,
     "metadata": {},
     "output_type": "execute_result"
    }
   ],
   "source": [
    "# Env Start\n",
    "env.reset()"
   ]
  },
  {
   "cell_type": "code",
   "execution_count": 7,
   "metadata": {},
   "outputs": [
    {
     "data": {
      "text/plain": [
       "([2, 0], -1, False, {})"
      ]
     },
     "execution_count": 7,
     "metadata": {},
     "output_type": "execute_result"
    }
   ],
   "source": [
    "# Take a Step\n",
    "env.step(0)"
   ]
  },
  {
   "cell_type": "markdown",
   "metadata": {},
   "source": [
    "# Create SAS RL Environment URL"
   ]
  },
  {
   "cell_type": "code",
   "execution_count": 8,
   "metadata": {},
   "outputs": [],
   "source": [
    "cmd_data = subprocess.check_output(['ipconfig','/all']).decode('utf-8').split('\\n')\n",
    "ip_data = [item for item in cmd_data if \"IPv4 Address\" in item]\n",
    "computer_id = ip_data[0].split(\": \")[1].split(\"(\")[0]\n",
    "sasrl_env_port = \"10200\"\n",
    "sasrl_env_url = computer_id + \":\" + sasrl_env_port"
   ]
  },
  {
   "cell_type": "markdown",
   "metadata": {},
   "source": [
    "# Load the RL Action Set"
   ]
  },
  {
   "cell_type": "code",
   "execution_count": 9,
   "metadata": {},
   "outputs": [
    {
     "name": "stdout",
     "output_type": "stream",
     "text": [
      "NOTE: Added action set 'reinforcementLearn'.\n"
     ]
    },
    {
     "data": {
      "text/html": [
       "<div class=\"cas-results-key\"><b>&#167; actionset</b></div>\n",
       "<div class=\"cas-results-body\">\n",
       "<div>reinforcementLearn</div>\n",
       "</div>\n",
       "<div class=\"cas-output-area\"></div>\n",
       "<p class=\"cas-results-performance\"><small><span class=\"cas-elapsed\">elapsed 0.34s</span> &#183; <span class=\"cas-user\">user 0.54s</span> &#183; <span class=\"cas-sys\">sys 0.783s</span> &#183; <span class=\"cas-memory\">mem 0.255MB</span></small></p>"
      ],
      "text/plain": [
       "[actionset]\n",
       "\n",
       " 'reinforcementLearn'\n",
       "\n",
       "+ Elapsed: 0.34s, user: 0.54s, sys: 0.783s, mem: 0.255mb"
      ]
     },
     "execution_count": 9,
     "metadata": {},
     "output_type": "execute_result"
    }
   ],
   "source": [
    "conn.loadactionset('reinforcementLearn')"
   ]
  },
  {
   "cell_type": "markdown",
   "metadata": {},
   "source": [
    "# Train the Agent - Deep Q Networks"
   ]
  },
  {
   "cell_type": "code",
   "execution_count": 10,
   "metadata": {},
   "outputs": [
    {
     "name": "stdout",
     "output_type": "stream",
     "text": [
      "WARNING: The minReplayMemory size is smaller than the batch size.\n",
      "WARNING: Small test interval might result in slow training.\n",
      "         Episode=        0 AvgQValue=-0.236 AvgTarget=-0.232 AvgLoss=0.0134 TestReward=  -200\n",
      "         Episode=       10 AvgQValue=-13.58 AvgTarget=-13.54 AvgLoss=2.5523 TestReward=  -200\n",
      "         Episode=       20 AvgQValue=-19.34 AvgTarget=-19.22 AvgLoss=2.7166 TestReward=  -200\n",
      "         Episode=       30 AvgQValue=-19.64 AvgTarget=-19.84 AvgLoss=1.3426 TestReward=  -200\n",
      "         Episode=       40 AvgQValue=-15.64 AvgTarget=-15.72 AvgLoss=1.0897 TestReward=  -200\n",
      "         Episode=       50 AvgQValue=-13.99 AvgTarget=-13.91 AvgLoss=0.7259 TestReward=   -15\n",
      "         Episode=       60 AvgQValue=-11.86 AvgTarget=-11.97 AvgLoss=0.6145 TestReward=   -15\n",
      "         Episode=       70 AvgQValue=-10.63 AvgTarget=-10.66 AvgLoss=0.9299 TestReward=   -15\n",
      "         Episode=       80 AvgQValue=-10.99 AvgTarget=-10.85 AvgLoss=0.6588 TestReward=   -15\n",
      "         Episode=       90 AvgQValue= -11.2 AvgTarget=-11.24 AvgLoss=0.7433 TestReward=   -15\n",
      "         Episode=      100 AvgQValue=-11.22 AvgTarget=-10.98 AvgLoss=0.5669 TestReward=   -15\n",
      "NOTE: Reinforcement learning rlTrainDqn action complete.\n"
     ]
    }
   ],
   "source": [
    "results = conn.reinforcementLearn.rlTrainDqn(\n",
    "    \n",
    "    # RL Arguments\n",
    "    environment=dict(type='remote', url=sasrl_env_url, name='windygw-v0', render=False, seed=802),\n",
    "    exploration = dict(type=\"linear\", initialEpsilon=0.99, minEpsilon=0.05),\n",
    "    gamma = 0.99,\n",
    "    numEpisodes = 100,\n",
    "    \n",
    "    # NN Arguments\n",
    "    QModel=[{'type':'FC', 'n':100, 'act':'RELU'}],\n",
    "    optimizer=dict(method='ADAM', beta1=0.9, beta2=0.999, learningRate=0.001, miniBatchSize=128),\n",
    "    minReplayMemory = 10,\n",
    "    maxReplayMemory = 1000,\n",
    "    targetUpdateInterval = 100,\n",
    "    \n",
    "    # Test Arguments\n",
    "    testInterval = 10,\n",
    "    numTestEpisodes = 10,\n",
    "    \n",
    "    # Other Arguments\n",
    "    modelOut=dict(name='dqn_weights', replace=True),\n",
    "    seed = 919\n",
    "    \n",
    ")"
   ]
  },
  {
   "cell_type": "code",
   "execution_count": 11,
   "metadata": {},
   "outputs": [
    {
     "data": {
      "text/html": [
       "<div>\n",
       "<style scoped>\n",
       "    .dataframe tbody tr th:only-of-type {\n",
       "        vertical-align: middle;\n",
       "    }\n",
       "\n",
       "    .dataframe tbody tr th {\n",
       "        vertical-align: top;\n",
       "    }\n",
       "\n",
       "    .dataframe thead th {\n",
       "        text-align: right;\n",
       "    }\n",
       "</style>\n",
       "<table border=\"1\" class=\"dataframe\">\n",
       "  <thead>\n",
       "    <tr style=\"text-align: right;\">\n",
       "      <th title=\"\"></th>\n",
       "      <th title=\"Description\">Description</th>\n",
       "      <th title=\"Value\">Value</th>\n",
       "    </tr>\n",
       "  </thead>\n",
       "  <tbody>\n",
       "    <tr>\n",
       "      <td>0</td>\n",
       "      <td>Average QValue</td>\n",
       "      <td>-11.217489</td>\n",
       "    </tr>\n",
       "    <tr>\n",
       "      <td>1</td>\n",
       "      <td>Average Target Value</td>\n",
       "      <td>-10.984447</td>\n",
       "    </tr>\n",
       "    <tr>\n",
       "      <td>2</td>\n",
       "      <td>Test Reward</td>\n",
       "      <td>-15.000000</td>\n",
       "    </tr>\n",
       "  </tbody>\n",
       "</table>\n",
       "</div>"
      ],
      "text/plain": [
       "            Description      Value\n",
       "0        Average QValue -11.217489\n",
       "1  Average Target Value -10.984447\n",
       "2           Test Reward -15.000000"
      ]
     },
     "execution_count": 11,
     "metadata": {},
     "output_type": "execute_result"
    }
   ],
   "source": [
    "results['FinalResult']"
   ]
  },
  {
   "cell_type": "code",
   "execution_count": 12,
   "metadata": {},
   "outputs": [
    {
     "data": {
      "text/html": [
       "<div>\n",
       "<style scoped>\n",
       "    .dataframe tbody tr th:only-of-type {\n",
       "        vertical-align: middle;\n",
       "    }\n",
       "\n",
       "    .dataframe tbody tr th {\n",
       "        vertical-align: top;\n",
       "    }\n",
       "\n",
       "    .dataframe thead th {\n",
       "        text-align: right;\n",
       "    }\n",
       "</style>\n",
       "<table border=\"1\" class=\"dataframe\">\n",
       "  <thead>\n",
       "    <tr style=\"text-align: right;\">\n",
       "      <th title=\"\"></th>\n",
       "      <th title=\"Property\">Property</th>\n",
       "      <th title=\"Value\">Value</th>\n",
       "    </tr>\n",
       "  </thead>\n",
       "  <tbody>\n",
       "    <tr>\n",
       "      <td>0</td>\n",
       "      <td>Number of State Variables</td>\n",
       "      <td>2</td>\n",
       "    </tr>\n",
       "    <tr>\n",
       "      <td>1</td>\n",
       "      <td>Number of Actions</td>\n",
       "      <td>4</td>\n",
       "    </tr>\n",
       "    <tr>\n",
       "      <td>2</td>\n",
       "      <td>Algorithm</td>\n",
       "      <td>DQN</td>\n",
       "    </tr>\n",
       "    <tr>\n",
       "      <td>3</td>\n",
       "      <td>Optimizer</td>\n",
       "      <td>ADAM</td>\n",
       "    </tr>\n",
       "  </tbody>\n",
       "</table>\n",
       "</div>"
      ],
      "text/plain": [
       "                    Property Value\n",
       "0  Number of State Variables     2\n",
       "1          Number of Actions     4\n",
       "2                  Algorithm   DQN\n",
       "3                  Optimizer  ADAM"
      ]
     },
     "execution_count": 12,
     "metadata": {},
     "output_type": "execute_result"
    }
   ],
   "source": [
    "results['ModelInfo']"
   ]
  },
  {
   "cell_type": "code",
   "execution_count": 13,
   "metadata": {},
   "outputs": [
    {
     "data": {
      "text/html": [
       "<div>\n",
       "<style scoped>\n",
       "    .dataframe tbody tr th:only-of-type {\n",
       "        vertical-align: middle;\n",
       "    }\n",
       "\n",
       "    .dataframe tbody tr th {\n",
       "        vertical-align: top;\n",
       "    }\n",
       "\n",
       "    .dataframe thead th {\n",
       "        text-align: right;\n",
       "    }\n",
       "</style>\n",
       "<table border=\"1\" class=\"dataframe\"><caption>Iteration History</caption>\n",
       "  <thead>\n",
       "    <tr style=\"text-align: right;\">\n",
       "      <th title=\"\"></th>\n",
       "      <th title=\"Iteration\">Iteration</th>\n",
       "      <th title=\"Average Q Value\">AvgQValue</th>\n",
       "      <th title=\"Average Target\">AvgTarget</th>\n",
       "      <th title=\"Average Loss\">AvgLoss</th>\n",
       "      <th title=\"Test Reward\">Test Reward</th>\n",
       "    </tr>\n",
       "  </thead>\n",
       "  <tbody>\n",
       "    <tr>\n",
       "      <td>0</td>\n",
       "      <td>0</td>\n",
       "      <td>-0.235674</td>\n",
       "      <td>-0.231762</td>\n",
       "      <td>0.013431</td>\n",
       "      <td>-200.0</td>\n",
       "    </tr>\n",
       "    <tr>\n",
       "      <td>1</td>\n",
       "      <td>10</td>\n",
       "      <td>-13.584809</td>\n",
       "      <td>-13.543026</td>\n",
       "      <td>2.552276</td>\n",
       "      <td>-200.0</td>\n",
       "    </tr>\n",
       "    <tr>\n",
       "      <td>2</td>\n",
       "      <td>20</td>\n",
       "      <td>-19.335915</td>\n",
       "      <td>-19.220026</td>\n",
       "      <td>2.716634</td>\n",
       "      <td>-200.0</td>\n",
       "    </tr>\n",
       "    <tr>\n",
       "      <td>3</td>\n",
       "      <td>30</td>\n",
       "      <td>-19.640519</td>\n",
       "      <td>-19.844557</td>\n",
       "      <td>1.342571</td>\n",
       "      <td>-200.0</td>\n",
       "    </tr>\n",
       "    <tr>\n",
       "      <td>4</td>\n",
       "      <td>40</td>\n",
       "      <td>-15.642542</td>\n",
       "      <td>-15.724116</td>\n",
       "      <td>1.089695</td>\n",
       "      <td>-200.0</td>\n",
       "    </tr>\n",
       "    <tr>\n",
       "      <td>5</td>\n",
       "      <td>50</td>\n",
       "      <td>-13.988335</td>\n",
       "      <td>-13.914927</td>\n",
       "      <td>0.725875</td>\n",
       "      <td>-15.0</td>\n",
       "    </tr>\n",
       "    <tr>\n",
       "      <td>6</td>\n",
       "      <td>60</td>\n",
       "      <td>-11.855989</td>\n",
       "      <td>-11.970549</td>\n",
       "      <td>0.614546</td>\n",
       "      <td>-15.0</td>\n",
       "    </tr>\n",
       "    <tr>\n",
       "      <td>7</td>\n",
       "      <td>70</td>\n",
       "      <td>-10.628279</td>\n",
       "      <td>-10.657606</td>\n",
       "      <td>0.929887</td>\n",
       "      <td>-15.0</td>\n",
       "    </tr>\n",
       "    <tr>\n",
       "      <td>8</td>\n",
       "      <td>80</td>\n",
       "      <td>-10.987502</td>\n",
       "      <td>-10.853219</td>\n",
       "      <td>0.658765</td>\n",
       "      <td>-15.0</td>\n",
       "    </tr>\n",
       "    <tr>\n",
       "      <td>9</td>\n",
       "      <td>90</td>\n",
       "      <td>-11.200675</td>\n",
       "      <td>-11.239091</td>\n",
       "      <td>0.743314</td>\n",
       "      <td>-15.0</td>\n",
       "    </tr>\n",
       "    <tr>\n",
       "      <td>10</td>\n",
       "      <td>100</td>\n",
       "      <td>-11.217489</td>\n",
       "      <td>-10.984447</td>\n",
       "      <td>0.566917</td>\n",
       "      <td>-15.0</td>\n",
       "    </tr>\n",
       "  </tbody>\n",
       "</table>\n",
       "</div>"
      ],
      "text/plain": [
       "Iteration History\n",
       "\n",
       "    Iteration  AvgQValue  AvgTarget   AvgLoss  Test Reward\n",
       "0           0  -0.235674  -0.231762  0.013431       -200.0\n",
       "1          10 -13.584809 -13.543026  2.552276       -200.0\n",
       "2          20 -19.335915 -19.220026  2.716634       -200.0\n",
       "3          30 -19.640519 -19.844557  1.342571       -200.0\n",
       "4          40 -15.642542 -15.724116  1.089695       -200.0\n",
       "5          50 -13.988335 -13.914927  0.725875        -15.0\n",
       "6          60 -11.855989 -11.970549  0.614546        -15.0\n",
       "7          70 -10.628279 -10.657606  0.929887        -15.0\n",
       "8          80 -10.987502 -10.853219  0.658765        -15.0\n",
       "9          90 -11.200675 -11.239091  0.743314        -15.0\n",
       "10        100 -11.217489 -10.984447  0.566917        -15.0"
      ]
     },
     "execution_count": 13,
     "metadata": {},
     "output_type": "execute_result"
    }
   ],
   "source": [
    "results['OptIterHistory']"
   ]
  },
  {
   "cell_type": "code",
   "execution_count": 14,
   "metadata": {},
   "outputs": [
    {
     "data": {
      "image/png": "[encoded data removed]",
      "text/plain": [
       "<Figure size 432x288 with 1 Axes>"
      ]
     },
     "metadata": {
      "needs_background": "light"
     },
     "output_type": "display_data"
    }
   ],
   "source": [
    "best_path_iter = results['OptIterHistory']['Iteration'][np.argmax(results['OptIterHistory']['Test Reward'])]\n",
    "\n",
    "plt.plot(results['OptIterHistory']['Iteration'],results['OptIterHistory']['AvgQValue'], color=\"blue\")\n",
    "plt.xlabel(\"Iteration\", fontsize=15)\n",
    "plt.ylabel(\"Average Q Value\", fontsize=15)\n",
    "plt.text(best_path_iter+1,min(results['OptIterHistory']['AvgQValue']),\"First Optimal Path\", fontsize=12)\n",
    "plt.vlines(x=best_path_iter, ymin=min(results['OptIterHistory']['AvgQValue']), ymax=max(results['OptIterHistory']['AvgQValue']), color='red', lw=1)\n",
    "plt.show()"
   ]
  },
  {
   "cell_type": "code",
   "execution_count": 15,
   "metadata": {},
   "outputs": [
    {
     "data": {
      "image/png": "[encoded data removed]",
      "text/plain": [
       "<Figure size 432x288 with 1 Axes>"
      ]
     },
     "metadata": {
      "needs_background": "light"
     },
     "output_type": "display_data"
    }
   ],
   "source": [
    "plt.plot(results['OptIterHistory']['Iteration'],results['OptIterHistory']['AvgLoss'], color=\"blue\")\n",
    "plt.xlabel(\"Iteration\", fontsize=15)\n",
    "plt.ylabel(\"Average Loss\", fontsize=15)\n",
    "plt.text(best_path_iter+1,min(results['OptIterHistory']['AvgLoss']),\"First Optimal Path\", fontsize=12)\n",
    "plt.vlines(x=best_path_iter, ymin=min(results['OptIterHistory']['AvgLoss']), ymax=max(results['OptIterHistory']['AvgLoss']), color='red', lw=1)\n",
    "plt.show()"
   ]
  },
  {
   "cell_type": "code",
   "execution_count": 16,
   "metadata": {},
   "outputs": [
    {
     "data": {
      "image/png": "[encoded data removed]",
      "text/plain": [
       "<Figure size 432x288 with 1 Axes>"
      ]
     },
     "metadata": {
      "needs_background": "light"
     },
     "output_type": "display_data"
    }
   ],
   "source": [
    "plt.plot(results['OptIterHistory']['Iteration'],results['OptIterHistory']['Test Reward'], color=\"blue\")\n",
    "plt.xlabel(\"Iteration\", fontsize=15)\n",
    "plt.ylabel(\"Test Reward\", fontsize=15)\n",
    "plt.text(best_path_iter+1,min(results['OptIterHistory']['Test Reward']),\"First Optimal Path\", fontsize=12)\n",
    "plt.vlines(x=best_path_iter, ymin=min(results['OptIterHistory']['Test Reward']), ymax=max(results['OptIterHistory']['Test Reward']), color='red', lw=1)\n",
    "plt.show()"
   ]
  },
  {
   "cell_type": "markdown",
   "metadata": {},
   "source": [
    "# Score the Model"
   ]
  },
  {
   "cell_type": "code",
   "execution_count": 17,
   "metadata": {},
   "outputs": [
    {
     "name": "stdout",
     "output_type": "stream",
     "text": [
      "         Episode=        1 Step=        1 LastReward=     0 AverageReward=    -1\n",
      "         Episode=        1 Step=        2 LastReward=     0 AverageReward=    -2\n",
      "         Episode=        1 Step=        3 LastReward=     0 AverageReward=    -3\n",
      "         Episode=        1 Step=        4 LastReward=     0 AverageReward=    -4\n",
      "         Episode=        1 Step=        5 LastReward=     0 AverageReward=    -5\n",
      "         Episode=        1 Step=        6 LastReward=     0 AverageReward=    -6\n",
      "         Episode=        1 Step=        7 LastReward=     0 AverageReward=    -7\n",
      "         Episode=        1 Step=        8 LastReward=     0 AverageReward=    -8\n",
      "         Episode=        1 Step=        9 LastReward=     0 AverageReward=    -9\n",
      "         Episode=        1 Step=       10 LastReward=     0 AverageReward=   -10\n",
      "         Episode=        1 Step=       11 LastReward=     0 AverageReward=   -11\n",
      "         Episode=        1 Step=       12 LastReward=     0 AverageReward=   -12\n",
      "         Episode=        1 Step=       13 LastReward=     0 AverageReward=   -13\n",
      "         Episode=        1 Step=       14 LastReward=     0 AverageReward=   -14\n",
      "         Episode=        1 Step=       15 LastReward=     0 AverageReward=   -15\n",
      "NOTE: Reinforcement learning rlScore action complete.\n"
     ]
    },
    {
     "data": {
      "text/html": [
       "<div class=\"cas-results-key\"><b>&#167; ScoreInfo</b></div>\n",
       "<div class=\"cas-results-body\">\n",
       "<div>\n",
       "<style scoped>\n",
       "    .dataframe tbody tr th:only-of-type {\n",
       "        vertical-align: middle;\n",
       "    }\n",
       "\n",
       "    .dataframe tbody tr th {\n",
       "        vertical-align: top;\n",
       "    }\n",
       "\n",
       "    .dataframe thead th {\n",
       "        text-align: right;\n",
       "    }\n",
       "</style>\n",
       "<table border=\"1\" class=\"dataframe\">\n",
       "  <thead>\n",
       "    <tr style=\"text-align: right;\">\n",
       "      <th title=\"\"></th>\n",
       "      <th title=\"Property\">Property</th>\n",
       "      <th title=\"Value\">Value</th>\n",
       "    </tr>\n",
       "  </thead>\n",
       "  <tbody>\n",
       "    <tr>\n",
       "      <td>0</td>\n",
       "      <td>Number of State Variables</td>\n",
       "      <td>2</td>\n",
       "    </tr>\n",
       "    <tr>\n",
       "      <td>1</td>\n",
       "      <td>Number of Actions</td>\n",
       "      <td>4</td>\n",
       "    </tr>\n",
       "    <tr>\n",
       "      <td>2</td>\n",
       "      <td>Algorithm</td>\n",
       "      <td>DQN</td>\n",
       "    </tr>\n",
       "    <tr>\n",
       "      <td>3</td>\n",
       "      <td>Optimizer</td>\n",
       "      <td>ADAM</td>\n",
       "    </tr>\n",
       "  </tbody>\n",
       "</table>\n",
       "</div>\n",
       "</div>\n",
       "<div class=\"cas-output-area\"></div>\n",
       "<p class=\"cas-results-performance\"><small><span class=\"cas-elapsed\">elapsed 4.05s</span> &#183; <span class=\"cas-user\">user 0.0164s</span> &#183; <span class=\"cas-sys\">sys 0.00716s</span> &#183; <span class=\"cas-memory\">mem 17.4MB</span></small></p>"
      ],
      "text/plain": [
       "[ScoreInfo]\n",
       "\n",
       "                     Property Value\n",
       " 0  Number of State Variables     2\n",
       " 1          Number of Actions     4\n",
       " 2                  Algorithm   DQN\n",
       " 3                  Optimizer  ADAM\n",
       "\n",
       "+ Elapsed: 4.05s, user: 0.0164s, sys: 0.00716s, mem: 17.4mb"
      ]
     },
     "execution_count": 17,
     "metadata": {},
     "output_type": "execute_result"
    }
   ],
   "source": [
    "conn.reinforcementLearn.rlScore(\n",
    "    environment=dict(type='remote', url=sasrl_env_url, name='windygw-v0', render=False),\n",
    "    model='dqn_weights',\n",
    "    numEpisodes=1,\n",
    "    logFreq=1,\n",
    "    casout=dict(name='scored_table', replace=True)\n",
    ")"
   ]
  },
  {
   "cell_type": "markdown",
   "metadata": {},
   "source": [
    "# Download Final Test"
   ]
  },
  {
   "cell_type": "code",
   "execution_count": 18,
   "metadata": {},
   "outputs": [
    {
     "data": {
      "text/html": [
       "<div>\n",
       "<style scoped>\n",
       "    .dataframe tbody tr th:only-of-type {\n",
       "        vertical-align: middle;\n",
       "    }\n",
       "\n",
       "    .dataframe tbody tr th {\n",
       "        vertical-align: top;\n",
       "    }\n",
       "\n",
       "    .dataframe thead th {\n",
       "        text-align: right;\n",
       "    }\n",
       "</style>\n",
       "<table border=\"1\" class=\"dataframe\"><caption>Selected Rows from Table SCORED_TABLE</caption>\n",
       "  <thead>\n",
       "    <tr style=\"text-align: right;\">\n",
       "      <th title=\"\"></th>\n",
       "      <th title=\"_Step_\">_Step_</th>\n",
       "      <th title=\"_Episode_\">_Episode_</th>\n",
       "      <th title=\"_State_0\">_State_0</th>\n",
       "      <th title=\"_State_1\">_State_1</th>\n",
       "      <th title=\"_Action_\">_Action_</th>\n",
       "      <th title=\"_Reward_\">_Reward_</th>\n",
       "      <th title=\"_Done_\">_Done_</th>\n",
       "    </tr>\n",
       "  </thead>\n",
       "  <tbody>\n",
       "    <tr>\n",
       "      <td>0</td>\n",
       "      <td>0.0</td>\n",
       "      <td>1.0</td>\n",
       "      <td>3.0</td>\n",
       "      <td>0.0</td>\n",
       "      <td>3.0</td>\n",
       "      <td>-1.0</td>\n",
       "      <td>0.0</td>\n",
       "    </tr>\n",
       "    <tr>\n",
       "      <td>1</td>\n",
       "      <td>1.0</td>\n",
       "      <td>1.0</td>\n",
       "      <td>3.0</td>\n",
       "      <td>1.0</td>\n",
       "      <td>3.0</td>\n",
       "      <td>-1.0</td>\n",
       "      <td>0.0</td>\n",
       "    </tr>\n",
       "    <tr>\n",
       "      <td>2</td>\n",
       "      <td>2.0</td>\n",
       "      <td>1.0</td>\n",
       "      <td>3.0</td>\n",
       "      <td>2.0</td>\n",
       "      <td>3.0</td>\n",
       "      <td>-1.0</td>\n",
       "      <td>0.0</td>\n",
       "    </tr>\n",
       "    <tr>\n",
       "      <td>3</td>\n",
       "      <td>3.0</td>\n",
       "      <td>1.0</td>\n",
       "      <td>3.0</td>\n",
       "      <td>3.0</td>\n",
       "      <td>3.0</td>\n",
       "      <td>-1.0</td>\n",
       "      <td>0.0</td>\n",
       "    </tr>\n",
       "    <tr>\n",
       "      <td>4</td>\n",
       "      <td>4.0</td>\n",
       "      <td>1.0</td>\n",
       "      <td>2.0</td>\n",
       "      <td>4.0</td>\n",
       "      <td>3.0</td>\n",
       "      <td>-1.0</td>\n",
       "      <td>0.0</td>\n",
       "    </tr>\n",
       "    <tr>\n",
       "      <td>5</td>\n",
       "      <td>5.0</td>\n",
       "      <td>1.0</td>\n",
       "      <td>1.0</td>\n",
       "      <td>5.0</td>\n",
       "      <td>3.0</td>\n",
       "      <td>-1.0</td>\n",
       "      <td>0.0</td>\n",
       "    </tr>\n",
       "    <tr>\n",
       "      <td>6</td>\n",
       "      <td>6.0</td>\n",
       "      <td>1.0</td>\n",
       "      <td>0.0</td>\n",
       "      <td>6.0</td>\n",
       "      <td>3.0</td>\n",
       "      <td>-1.0</td>\n",
       "      <td>0.0</td>\n",
       "    </tr>\n",
       "    <tr>\n",
       "      <td>7</td>\n",
       "      <td>7.0</td>\n",
       "      <td>1.0</td>\n",
       "      <td>0.0</td>\n",
       "      <td>7.0</td>\n",
       "      <td>3.0</td>\n",
       "      <td>-1.0</td>\n",
       "      <td>0.0</td>\n",
       "    </tr>\n",
       "    <tr>\n",
       "      <td>8</td>\n",
       "      <td>8.0</td>\n",
       "      <td>1.0</td>\n",
       "      <td>0.0</td>\n",
       "      <td>8.0</td>\n",
       "      <td>3.0</td>\n",
       "      <td>-1.0</td>\n",
       "      <td>0.0</td>\n",
       "    </tr>\n",
       "    <tr>\n",
       "      <td>9</td>\n",
       "      <td>9.0</td>\n",
       "      <td>1.0</td>\n",
       "      <td>0.0</td>\n",
       "      <td>9.0</td>\n",
       "      <td>1.0</td>\n",
       "      <td>-1.0</td>\n",
       "      <td>0.0</td>\n",
       "    </tr>\n",
       "    <tr>\n",
       "      <td>10</td>\n",
       "      <td>10.0</td>\n",
       "      <td>1.0</td>\n",
       "      <td>1.0</td>\n",
       "      <td>9.0</td>\n",
       "      <td>1.0</td>\n",
       "      <td>-1.0</td>\n",
       "      <td>0.0</td>\n",
       "    </tr>\n",
       "    <tr>\n",
       "      <td>11</td>\n",
       "      <td>11.0</td>\n",
       "      <td>1.0</td>\n",
       "      <td>2.0</td>\n",
       "      <td>9.0</td>\n",
       "      <td>1.0</td>\n",
       "      <td>-1.0</td>\n",
       "      <td>0.0</td>\n",
       "    </tr>\n",
       "    <tr>\n",
       "      <td>12</td>\n",
       "      <td>12.0</td>\n",
       "      <td>1.0</td>\n",
       "      <td>3.0</td>\n",
       "      <td>9.0</td>\n",
       "      <td>1.0</td>\n",
       "      <td>-1.0</td>\n",
       "      <td>0.0</td>\n",
       "    </tr>\n",
       "    <tr>\n",
       "      <td>13</td>\n",
       "      <td>13.0</td>\n",
       "      <td>1.0</td>\n",
       "      <td>4.0</td>\n",
       "      <td>9.0</td>\n",
       "      <td>2.0</td>\n",
       "      <td>-1.0</td>\n",
       "      <td>0.0</td>\n",
       "    </tr>\n",
       "    <tr>\n",
       "      <td>14</td>\n",
       "      <td>14.0</td>\n",
       "      <td>1.0</td>\n",
       "      <td>4.0</td>\n",
       "      <td>8.0</td>\n",
       "      <td>2.0</td>\n",
       "      <td>-1.0</td>\n",
       "      <td>1.0</td>\n",
       "    </tr>\n",
       "  </tbody>\n",
       "</table>\n",
       "</div>"
      ],
      "text/plain": [
       "Selected Rows from Table SCORED_TABLE\n",
       "\n",
       "    _Step_  _Episode_  _State_0  _State_1  _Action_  _Reward_  _Done_\n",
       "0      0.0        1.0       3.0       0.0       3.0      -1.0     0.0\n",
       "1      1.0        1.0       3.0       1.0       3.0      -1.0     0.0\n",
       "2      2.0        1.0       3.0       2.0       3.0      -1.0     0.0\n",
       "3      3.0        1.0       3.0       3.0       3.0      -1.0     0.0\n",
       "4      4.0        1.0       2.0       4.0       3.0      -1.0     0.0\n",
       "5      5.0        1.0       1.0       5.0       3.0      -1.0     0.0\n",
       "6      6.0        1.0       0.0       6.0       3.0      -1.0     0.0\n",
       "7      7.0        1.0       0.0       7.0       3.0      -1.0     0.0\n",
       "8      8.0        1.0       0.0       8.0       3.0      -1.0     0.0\n",
       "9      9.0        1.0       0.0       9.0       1.0      -1.0     0.0\n",
       "10    10.0        1.0       1.0       9.0       1.0      -1.0     0.0\n",
       "11    11.0        1.0       2.0       9.0       1.0      -1.0     0.0\n",
       "12    12.0        1.0       3.0       9.0       1.0      -1.0     0.0\n",
       "13    13.0        1.0       4.0       9.0       2.0      -1.0     0.0\n",
       "14    14.0        1.0       4.0       8.0       2.0      -1.0     1.0"
      ]
     },
     "execution_count": 18,
     "metadata": {},
     "output_type": "execute_result"
    }
   ],
   "source": [
    "scored_table = conn.CASTable(name = \"scored_table\")\n",
    "df = scored_table.to_frame()\n",
    "df"
   ]
  },
  {
   "cell_type": "markdown",
   "metadata": {},
   "source": [
    "# Find Optimal Path"
   ]
  },
  {
   "cell_type": "code",
   "execution_count": 19,
   "metadata": {},
   "outputs": [
    {
     "name": "stdout",
     "output_type": "stream",
     "text": [
      "[['-' '-' '-' '-' '-' '-' 'A' 'A' 'A' 'A']\n",
      " ['-' '-' '-' '-' '-' 'A' '-' '-' '-' 'A']\n",
      " ['-' '-' '-' '-' 'A' '-' '-' '-' '-' 'A']\n",
      " ['S' 'A' 'A' 'A' '-' '-' '-' 'G' '-' 'A']\n",
      " ['-' '-' '-' '-' '-' '-' '-' '-' 'A' 'A']\n",
      " ['-' '-' '-' '-' '-' '-' '-' '-' '-' '-']\n",
      " ['-' '-' '-' '-' '-' '-' '-' '-' '-' '-']]\n"
     ]
    }
   ],
   "source": [
    "# Set Row and Column Arrays\n",
    "state_x = np.array(df[\"_State_0\"], dtype=\"i\")\n",
    "state_y = np.array(df[\"_State_1\"], dtype=\"i\")\n",
    "\n",
    "#Initialize Grid\n",
    "grid = np.full((7, 10), \"-\")\n",
    "grid[3,0] = \"S\"\n",
    "grid[3,7] = \"G\"\n",
    "\n",
    "# Mark the Agent's Path\n",
    "for i in range(df.shape[0]-1):\n",
    "    grid[state_x[i+1],state_y[i+1]] = \"A\"\n",
    "\n",
    "# Print Optimal Path\n",
    "print(grid)"
   ]
  },
  {
   "cell_type": "markdown",
   "metadata": {},
   "source": [
    "# End the Session"
   ]
  },
  {
   "cell_type": "code",
   "execution_count": 20,
   "metadata": {},
   "outputs": [
    {
     "data": {
      "text/html": [
       "<div class=\"cas-output-area\"></div>\n",
       "<p class=\"cas-results-performance\"><small><span class=\"cas-elapsed\">elapsed 0.000655s</span> &#183; <span class=\"cas-user\">user 0.000581s</span> &#183; <span class=\"cas-sys\">sys 3.3e-05s</span> &#183; <span class=\"cas-memory\">mem 0.203MB</span></small></p>"
      ],
      "text/plain": [
       "+ Elapsed: 0.000655s, user: 0.000581s, sys: 3.3e-05s, mem: 0.203mb"
      ]
     },
     "execution_count": 20,
     "metadata": {},
     "output_type": "execute_result"
    }
   ],
   "source": [
    "conn.session.endSession()"
   ]
  }
 ],
 "metadata": {
  "kernelspec": {
   "display_name": "Python 3",
   "language": "python",
   "name": "python3"
  },
  "language_info": {
   "codemirror_mode": {
    "name": "ipython",
    "version": 3
   },
   "file_extension": ".py",
   "mimetype": "text/x-python",
   "name": "python",
   "nbconvert_exporter": "python",
   "pygments_lexer": "ipython3",
   "version": "3.8.5"
  }
 },
 "nbformat": 4,
 "nbformat_minor": 4
}
