{
 "cells": [
  {
   "cell_type": "markdown",
   "metadata": {},
   "source": [
    "# Cliff Walking SAS"
   ]
  },
  {
   "cell_type": "markdown",
   "metadata": {},
   "source": [
    "![title](cliff_walking_pic.png)"
   ]
  },
  {
   "cell_type": "markdown",
   "metadata": {},
   "source": [
    "# Load Packages"
   ]
  },
  {
   "cell_type": "code",
   "execution_count": 1,
   "metadata": {},
   "outputs": [],
   "source": [
    "import swat\n",
    "import numpy as np\n",
    "import pandas as pd\n",
    "import matplotlib.pyplot as plt\n",
    "import subprocess\n",
    "import gym\n",
    "import gym_cliffwalking"
   ]
  },
  {
   "cell_type": "markdown",
   "metadata": {},
   "source": [
    "# Connect to CAS"
   ]
  },
  {
   "cell_type": "code",
   "execution_count": 2,
   "metadata": {},
   "outputs": [],
   "source": [
    "conn = swat.CAS(\"server\", 30571, \"student\", \"Metadata0\")"
   ]
  },
  {
   "cell_type": "markdown",
   "metadata": {},
   "source": [
    "# Make Environment"
   ]
  },
  {
   "cell_type": "code",
   "execution_count": 3,
   "metadata": {},
   "outputs": [
    {
     "name": "stdout",
     "output_type": "stream",
     "text": [
      "[['-' '-' '-' '-' '-' '-' '-' '-' '-' '-' '-' '-']\n",
      " ['-' '-' '-' '-' '-' '-' '-' '-' '-' '-' '-' '-']\n",
      " ['-' '-' '-' '-' '-' '-' '-' '-' '-' '-' '-' '-']\n",
      " ['S' '-' '-' '-' '-' '-' '-' '-' '-' '-' '-' 'G']]\n"
     ]
    }
   ],
   "source": [
    "env = gym.make('cliffwalking-v0')"
   ]
  },
  {
   "cell_type": "code",
   "execution_count": 4,
   "metadata": {},
   "outputs": [
    {
     "data": {
      "text/plain": [
       "Discrete(4)"
      ]
     },
     "execution_count": 4,
     "metadata": {},
     "output_type": "execute_result"
    }
   ],
   "source": [
    "# Env Actions\n",
    "directions = {\"Up\":0,\"Down\":1,\"Left\":2,\"Right\":3}\n",
    "env.action_space"
   ]
  },
  {
   "cell_type": "code",
   "execution_count": 5,
   "metadata": {},
   "outputs": [
    {
     "data": {
      "text/plain": [
       "Box(0.0, 10.0, (2,), float32)"
      ]
     },
     "execution_count": 5,
     "metadata": {},
     "output_type": "execute_result"
    }
   ],
   "source": [
    "# Env Grid\n",
    "env.observation_space"
   ]
  },
  {
   "cell_type": "code",
   "execution_count": 6,
   "metadata": {},
   "outputs": [
    {
     "data": {
      "text/plain": [
       "[3, 0]"
      ]
     },
     "execution_count": 6,
     "metadata": {},
     "output_type": "execute_result"
    }
   ],
   "source": [
    "# Env Start\n",
    "env.reset()"
   ]
  },
  {
   "cell_type": "code",
   "execution_count": 7,
   "metadata": {},
   "outputs": [
    {
     "data": {
      "text/plain": [
       "([2, 0], -1, False, {})"
      ]
     },
     "execution_count": 7,
     "metadata": {},
     "output_type": "execute_result"
    }
   ],
   "source": [
    "# Take a Step\n",
    "env.step(0)"
   ]
  },
  {
   "cell_type": "markdown",
   "metadata": {},
   "source": [
    "# Create SAS RL Environment URL"
   ]
  },
  {
   "cell_type": "code",
   "execution_count": 8,
   "metadata": {},
   "outputs": [],
   "source": [
    "cmd_data = subprocess.check_output(['ipconfig','/all']).decode('utf-8').split('\\n')\n",
    "ip_data = [item for item in cmd_data if \"IPv4 Address\" in item]\n",
    "computer_id = ip_data[0].split(\": \")[1].split(\"(\")[0]\n",
    "sasrl_env_port = \"10200\"\n",
    "sasrl_env_url = computer_id + \":\" + sasrl_env_port"
   ]
  },
  {
   "cell_type": "markdown",
   "metadata": {},
   "source": [
    "# Load the RL Action Set"
   ]
  },
  {
   "cell_type": "code",
   "execution_count": 9,
   "metadata": {},
   "outputs": [
    {
     "name": "stdout",
     "output_type": "stream",
     "text": [
      "NOTE: Added action set 'reinforcementLearn'.\n"
     ]
    },
    {
     "data": {
      "text/html": [
       "<div class=\"cas-results-key\"><b>&#167; actionset</b></div>\n",
       "<div class=\"cas-results-body\">\n",
       "<div>reinforcementLearn</div>\n",
       "</div>\n",
       "<div class=\"cas-output-area\"></div>\n",
       "<p class=\"cas-results-performance\"><small><span class=\"cas-elapsed\">elapsed 0.406s</span> &#183; <span class=\"cas-user\">user 0.717s</span> &#183; <span class=\"cas-sys\">sys 0.962s</span> &#183; <span class=\"cas-memory\">mem 0.255MB</span></small></p>"
      ],
      "text/plain": [
       "[actionset]\n",
       "\n",
       " 'reinforcementLearn'\n",
       "\n",
       "+ Elapsed: 0.406s, user: 0.717s, sys: 0.962s, mem: 0.255mb"
      ]
     },
     "execution_count": 9,
     "metadata": {},
     "output_type": "execute_result"
    }
   ],
   "source": [
    "conn.loadactionset('reinforcementLearn')"
   ]
  },
  {
   "cell_type": "markdown",
   "metadata": {},
   "source": [
    "# Train the Agent - Deep Q Networks"
   ]
  },
  {
   "cell_type": "code",
   "execution_count": 10,
   "metadata": {},
   "outputs": [],
   "source": [
    "# results = conn.reinforcementLearn.rlTrainDqn(\n",
    "    \n",
    "#     # RL Arguments\n",
    "#     environment=dict(type='remote', url=sasrl_env_url, name='cliffwalking-v0', render=False, seed=802),\n",
    "#     exploration = dict(type=\"linear\", initialEpsilon=0.99, minEpsilon=0.05),\n",
    "#     gamma = 0.99,\n",
    "#     numEpisodes = 1000,\n",
    "    \n",
    "#     # NN Arguments\n",
    "#     QModel=[{'type':'FC', 'n':16, 'act':'RELU'},\n",
    "#             {'type':'FC', 'n':32, 'act':'RELU'}],\n",
    "#     optimizer=dict(method='ADAM', beta1=0.9, beta2=0.999, learningRate=0.001, miniBatchSize=128),\n",
    "#     minReplayMemory = 100,\n",
    "#     maxReplayMemory = 1000,\n",
    "#     targetUpdateInterval = 100,\n",
    "    \n",
    "#     # Test Arguments\n",
    "#     testInterval = 10,\n",
    "#     numTestEpisodes = 1,\n",
    "    \n",
    "#     # Other Arguments\n",
    "#     modelOut=dict(name='dqn_weights', replace=True),\n",
    "#     seed = 919\n",
    "    \n",
    "# )"
   ]
  },
  {
   "cell_type": "markdown",
   "metadata": {},
   "source": [
    "# Save the Model"
   ]
  },
  {
   "cell_type": "code",
   "execution_count": 11,
   "metadata": {},
   "outputs": [
    {
     "name": "stdout",
     "output_type": "stream",
     "text": [
      "NOTE: Cloud Analytic Services added the caslib 'mycl'.\n"
     ]
    },
    {
     "data": {
      "text/html": [
       "<div class=\"cas-results-key\"><b>&#167; CASLibInfo</b></div>\n",
       "<div class=\"cas-results-body\">\n",
       "<div>\n",
       "<style scoped>\n",
       "    .dataframe tbody tr th:only-of-type {\n",
       "        vertical-align: middle;\n",
       "    }\n",
       "\n",
       "    .dataframe tbody tr th {\n",
       "        vertical-align: top;\n",
       "    }\n",
       "\n",
       "    .dataframe thead th {\n",
       "        text-align: right;\n",
       "    }\n",
       "</style>\n",
       "<table border=\"1\" class=\"dataframe\">\n",
       "  <thead>\n",
       "    <tr style=\"text-align: right;\">\n",
       "      <th title=\"\"></th>\n",
       "      <th title=\"Name\">Name</th>\n",
       "      <th title=\"Type\">Type</th>\n",
       "      <th title=\"Description\">Description</th>\n",
       "      <th title=\"Path\">Path</th>\n",
       "      <th title=\"Definition\">Definition</th>\n",
       "      <th title=\"Subdirs\">Subdirs</th>\n",
       "      <th title=\"Local\">Local</th>\n",
       "      <th title=\"Active\">Active</th>\n",
       "      <th title=\"Personal\">Personal</th>\n",
       "      <th title=\"Hidden\">Hidden</th>\n",
       "      <th title=\"Transient\">Transient</th>\n",
       "    </tr>\n",
       "  </thead>\n",
       "  <tbody>\n",
       "    <tr>\n",
       "      <td>0</td>\n",
       "      <td>mycl</td>\n",
       "      <td>PATH</td>\n",
       "      <td></td>\n",
       "      <td>/workshop/winsas/VOSI/</td>\n",
       "      <td></td>\n",
       "      <td>0.0</td>\n",
       "      <td>1.0</td>\n",
       "      <td>0.0</td>\n",
       "      <td>0.0</td>\n",
       "      <td>0.0</td>\n",
       "      <td>0.0</td>\n",
       "    </tr>\n",
       "  </tbody>\n",
       "</table>\n",
       "</div>\n",
       "</div>\n",
       "<div class=\"cas-output-area\"></div>\n",
       "<p class=\"cas-results-performance\"><small><span class=\"cas-elapsed\">elapsed 0.00305s</span> &#183; <span class=\"cas-user\">user 0.00181s</span> &#183; <span class=\"cas-sys\">sys 0.000775s</span> &#183; <span class=\"cas-memory\">mem 0.719MB</span></small></p>"
      ],
      "text/plain": [
       "[CASLibInfo]\n",
       "\n",
       "    Name  Type Description                    Path Definition  Subdirs  Local  Active  Personal  Hidden  Transient\n",
       " 0  mycl  PATH              /workshop/winsas/VOSI/                 0.0    1.0     0.0       0.0     0.0        0.0\n",
       "\n",
       "+ Elapsed: 0.00305s, user: 0.00181s, sys: 0.000775s, mem: 0.719mb"
      ]
     },
     "execution_count": 11,
     "metadata": {},
     "output_type": "execute_result"
    }
   ],
   "source": [
    "# Add a CASlib\n",
    "conn.table.addCaslib(name=\"mycl\", path=\"/workshop/winsas/VOSI\", dataSource=\"PATH\", activeOnAdd=False)"
   ]
  },
  {
   "cell_type": "code",
   "execution_count": 12,
   "metadata": {},
   "outputs": [],
   "source": [
    "# Save Optimization History\n",
    "# pd.DataFrame(results[\"OptIterHistory\"]).to_csv(\"D:/Workshop/Winsas/VOSI/cliff_walking_opthist.csv\", index=False)"
   ]
  },
  {
   "cell_type": "code",
   "execution_count": 13,
   "metadata": {},
   "outputs": [],
   "source": [
    "# Save DQN Weights\n",
    "# conn.table.save(caslib = 'mycl', table = 'dqn_weights', name = 'cliff_walking_dqn_weights', replace = True)\n",
    "# conn.table.attribute(caslib = 'CASUSER', table = 'cliff_walking_dqn_weights_attr', name = 'dqn_weights', task='convert')\n",
    "# conn.table.save(caslib = 'mycl', table = 'cliff_walking_dqn_weights_attr', name = 'cliff_walking_dqn_weights_attr', replace = True)"
   ]
  },
  {
   "cell_type": "markdown",
   "metadata": {},
   "source": [
    "# Load the Model"
   ]
  },
  {
   "cell_type": "code",
   "execution_count": 14,
   "metadata": {},
   "outputs": [],
   "source": [
    "# Load Optimization History\n",
    "results = pd.read_csv(\"D:/Workshop/Winsas/VOSI/cliff_walking_opthist.csv\")"
   ]
  },
  {
   "cell_type": "code",
   "execution_count": 15,
   "metadata": {},
   "outputs": [
    {
     "name": "stdout",
     "output_type": "stream",
     "text": [
      "NOTE: Cloud Analytic Services made the file cliff_walking_dqn_weights.sashdat available as table DQN_WEIGHTS in caslib CASUSER(student).\n",
      "NOTE: Cloud Analytic Services made the file cliff_walking_dqn_weights_attr.sashdat available as table DQN_WEIGHTS_ATTR in caslib CASUSER(student).\n"
     ]
    },
    {
     "data": {
      "text/html": [
       "<div class=\"cas-output-area\"></div>\n",
       "<p class=\"cas-results-performance\"><small><span class=\"cas-elapsed\">elapsed 0.0012s</span> &#183; <span class=\"cas-user\">user 0.00105s</span> &#183; <span class=\"cas-sys\">sys 4.9e-05s</span> &#183; <span class=\"cas-memory\">mem 0.309MB</span></small></p>"
      ],
      "text/plain": [
       "+ Elapsed: 0.0012s, user: 0.00105s, sys: 4.9e-05s, mem: 0.309mb"
      ]
     },
     "execution_count": 15,
     "metadata": {},
     "output_type": "execute_result"
    }
   ],
   "source": [
    "# Load DQN Weights\n",
    "conn.table.loadTable(caslib = 'mycl', path=\"cliff_walking_dqn_weights.sashdat\", casOut=dict(name=\"dqn_weights\", replace=True))\n",
    "conn.table.loadTable(caslib = 'mycl', path=\"cliff_walking_dqn_weights_attr.sashdat\", casOut=dict(name=\"dqn_weights_attr\", replace=True))\n",
    "conn.table.attribute(caslib='CASUSER', task='ADD', name='dqn_weights', attrtable='dqn_weights_attr')"
   ]
  },
  {
   "cell_type": "markdown",
   "metadata": {},
   "source": [
    "# View Results"
   ]
  },
  {
   "cell_type": "code",
   "execution_count": 16,
   "metadata": {},
   "outputs": [
    {
     "data": {
      "text/html": [
       "<div>\n",
       "<style scoped>\n",
       "    .dataframe tbody tr th:only-of-type {\n",
       "        vertical-align: middle;\n",
       "    }\n",
       "\n",
       "    .dataframe tbody tr th {\n",
       "        vertical-align: top;\n",
       "    }\n",
       "\n",
       "    .dataframe thead th {\n",
       "        text-align: right;\n",
       "    }\n",
       "</style>\n",
       "<table border=\"1\" class=\"dataframe\">\n",
       "  <thead>\n",
       "    <tr style=\"text-align: right;\">\n",
       "      <th></th>\n",
       "      <th>Iteration</th>\n",
       "      <th>AvgQValue</th>\n",
       "      <th>AvgTarget</th>\n",
       "      <th>AvgLoss</th>\n",
       "      <th>Test Reward</th>\n",
       "    </tr>\n",
       "  </thead>\n",
       "  <tbody>\n",
       "    <tr>\n",
       "      <th>0</th>\n",
       "      <td>0</td>\n",
       "      <td>-1.779888</td>\n",
       "      <td>-4.086676</td>\n",
       "      <td>303.490032</td>\n",
       "      <td>-200.0</td>\n",
       "    </tr>\n",
       "    <tr>\n",
       "      <th>1</th>\n",
       "      <td>10</td>\n",
       "      <td>28.369003</td>\n",
       "      <td>29.614129</td>\n",
       "      <td>39.170274</td>\n",
       "      <td>-200.0</td>\n",
       "    </tr>\n",
       "    <tr>\n",
       "      <th>2</th>\n",
       "      <td>20</td>\n",
       "      <td>56.299245</td>\n",
       "      <td>55.676701</td>\n",
       "      <td>73.855397</td>\n",
       "      <td>-200.0</td>\n",
       "    </tr>\n",
       "    <tr>\n",
       "      <th>3</th>\n",
       "      <td>30</td>\n",
       "      <td>132.642502</td>\n",
       "      <td>131.581347</td>\n",
       "      <td>251.660035</td>\n",
       "      <td>-200.0</td>\n",
       "    </tr>\n",
       "    <tr>\n",
       "      <th>4</th>\n",
       "      <td>40</td>\n",
       "      <td>208.387048</td>\n",
       "      <td>209.130055</td>\n",
       "      <td>19.456306</td>\n",
       "      <td>-200.0</td>\n",
       "    </tr>\n",
       "    <tr>\n",
       "      <th>...</th>\n",
       "      <td>...</td>\n",
       "      <td>...</td>\n",
       "      <td>...</td>\n",
       "      <td>...</td>\n",
       "      <td>...</td>\n",
       "    </tr>\n",
       "    <tr>\n",
       "      <th>96</th>\n",
       "      <td>960</td>\n",
       "      <td>-7.972808</td>\n",
       "      <td>-7.964146</td>\n",
       "      <td>0.003167</td>\n",
       "      <td>-13.0</td>\n",
       "    </tr>\n",
       "    <tr>\n",
       "      <th>97</th>\n",
       "      <td>970</td>\n",
       "      <td>-7.630048</td>\n",
       "      <td>-7.622630</td>\n",
       "      <td>0.006180</td>\n",
       "      <td>-13.0</td>\n",
       "    </tr>\n",
       "    <tr>\n",
       "      <th>98</th>\n",
       "      <td>980</td>\n",
       "      <td>-12.826011</td>\n",
       "      <td>-12.800309</td>\n",
       "      <td>0.002172</td>\n",
       "      <td>-13.0</td>\n",
       "    </tr>\n",
       "    <tr>\n",
       "      <th>99</th>\n",
       "      <td>990</td>\n",
       "      <td>-10.288602</td>\n",
       "      <td>-10.283359</td>\n",
       "      <td>0.000451</td>\n",
       "      <td>-13.0</td>\n",
       "    </tr>\n",
       "    <tr>\n",
       "      <th>100</th>\n",
       "      <td>1000</td>\n",
       "      <td>-9.983459</td>\n",
       "      <td>-9.987236</td>\n",
       "      <td>0.001339</td>\n",
       "      <td>-13.0</td>\n",
       "    </tr>\n",
       "  </tbody>\n",
       "</table>\n",
       "<p>101 rows × 5 columns</p>\n",
       "</div>"
      ],
      "text/plain": [
       "     Iteration   AvgQValue   AvgTarget     AvgLoss  Test Reward\n",
       "0            0   -1.779888   -4.086676  303.490032       -200.0\n",
       "1           10   28.369003   29.614129   39.170274       -200.0\n",
       "2           20   56.299245   55.676701   73.855397       -200.0\n",
       "3           30  132.642502  131.581347  251.660035       -200.0\n",
       "4           40  208.387048  209.130055   19.456306       -200.0\n",
       "..         ...         ...         ...         ...          ...\n",
       "96         960   -7.972808   -7.964146    0.003167        -13.0\n",
       "97         970   -7.630048   -7.622630    0.006180        -13.0\n",
       "98         980  -12.826011  -12.800309    0.002172        -13.0\n",
       "99         990  -10.288602  -10.283359    0.000451        -13.0\n",
       "100       1000   -9.983459   -9.987236    0.001339        -13.0\n",
       "\n",
       "[101 rows x 5 columns]"
      ]
     },
     "execution_count": 16,
     "metadata": {},
     "output_type": "execute_result"
    }
   ],
   "source": [
    "results"
   ]
  },
  {
   "cell_type": "code",
   "execution_count": 17,
   "metadata": {},
   "outputs": [
    {
     "data": {
      "image/png": "[encoded data removed]",
      "text/plain": [
       "<Figure size 432x288 with 1 Axes>"
      ]
     },
     "metadata": {
      "needs_background": "light"
     },
     "output_type": "display_data"
    }
   ],
   "source": [
    "plt.plot(results['Iteration'],results['AvgQValue'], color=\"blue\")\n",
    "plt.xlabel(\"Iteration\", fontsize=15)\n",
    "plt.ylabel(\"Average Q Value\", fontsize=15)\n",
    "plt.show()"
   ]
  },
  {
   "cell_type": "code",
   "execution_count": 18,
   "metadata": {},
   "outputs": [
    {
     "data": {
      "image/png": "[encoded data removed]",
      "text/plain": [
       "<Figure size 432x288 with 1 Axes>"
      ]
     },
     "metadata": {
      "needs_background": "light"
     },
     "output_type": "display_data"
    }
   ],
   "source": [
    "plt.plot(results['Iteration'],results['AvgLoss'], color=\"blue\")\n",
    "plt.xlabel(\"Iteration\", fontsize=15)\n",
    "plt.ylabel(\"Average Loss\", fontsize=15)\n",
    "plt.show()"
   ]
  },
  {
   "cell_type": "code",
   "execution_count": 19,
   "metadata": {},
   "outputs": [
    {
     "data": {
      "image/png": "[encoded data removed]",
      "text/plain": [
       "<Figure size 432x288 with 1 Axes>"
      ]
     },
     "metadata": {
      "needs_background": "light"
     },
     "output_type": "display_data"
    }
   ],
   "source": [
    "plt.plot(results['Iteration'],results['Test Reward'], color=\"blue\")\n",
    "plt.xlabel(\"Iteration\", fontsize=15)\n",
    "plt.ylabel(\"Test Reward\", fontsize=15)\n",
    "plt.show()"
   ]
  },
  {
   "cell_type": "markdown",
   "metadata": {},
   "source": [
    "# Score the Model"
   ]
  },
  {
   "cell_type": "code",
   "execution_count": 20,
   "metadata": {},
   "outputs": [
    {
     "name": "stdout",
     "output_type": "stream",
     "text": [
      "         Episode=        1 Step=        1 LastReward=     0 AverageReward=    -1\n",
      "         Episode=        1 Step=        2 LastReward=     0 AverageReward=    -2\n",
      "         Episode=        1 Step=        3 LastReward=     0 AverageReward=    -3\n",
      "         Episode=        1 Step=        4 LastReward=     0 AverageReward=    -4\n",
      "         Episode=        1 Step=        5 LastReward=     0 AverageReward=    -5\n",
      "         Episode=        1 Step=        6 LastReward=     0 AverageReward=    -6\n",
      "         Episode=        1 Step=        7 LastReward=     0 AverageReward=    -7\n",
      "         Episode=        1 Step=        8 LastReward=     0 AverageReward=    -8\n",
      "         Episode=        1 Step=        9 LastReward=     0 AverageReward=    -9\n",
      "         Episode=        1 Step=       10 LastReward=     0 AverageReward=   -10\n",
      "         Episode=        1 Step=       11 LastReward=     0 AverageReward=   -11\n",
      "         Episode=        1 Step=       12 LastReward=     0 AverageReward=   -12\n",
      "         Episode=        1 Step=       13 LastReward=     0 AverageReward=   -13\n",
      "NOTE: Reinforcement learning rlScore action complete.\n"
     ]
    },
    {
     "data": {
      "text/html": [
       "<div class=\"cas-results-key\"><b>&#167; ScoreInfo</b></div>\n",
       "<div class=\"cas-results-body\">\n",
       "<div>\n",
       "<style scoped>\n",
       "    .dataframe tbody tr th:only-of-type {\n",
       "        vertical-align: middle;\n",
       "    }\n",
       "\n",
       "    .dataframe tbody tr th {\n",
       "        vertical-align: top;\n",
       "    }\n",
       "\n",
       "    .dataframe thead th {\n",
       "        text-align: right;\n",
       "    }\n",
       "</style>\n",
       "<table border=\"1\" class=\"dataframe\">\n",
       "  <thead>\n",
       "    <tr style=\"text-align: right;\">\n",
       "      <th title=\"\"></th>\n",
       "      <th title=\"Property\">Property</th>\n",
       "      <th title=\"Value\">Value</th>\n",
       "    </tr>\n",
       "  </thead>\n",
       "  <tbody>\n",
       "    <tr>\n",
       "      <td>0</td>\n",
       "      <td>Number of State Variables</td>\n",
       "      <td>2</td>\n",
       "    </tr>\n",
       "    <tr>\n",
       "      <td>1</td>\n",
       "      <td>Number of Actions</td>\n",
       "      <td>4</td>\n",
       "    </tr>\n",
       "    <tr>\n",
       "      <td>2</td>\n",
       "      <td>Algorithm</td>\n",
       "      <td>DQN</td>\n",
       "    </tr>\n",
       "    <tr>\n",
       "      <td>3</td>\n",
       "      <td>Optimizer</td>\n",
       "      <td>ADAM</td>\n",
       "    </tr>\n",
       "  </tbody>\n",
       "</table>\n",
       "</div>\n",
       "</div>\n",
       "<div class=\"cas-output-area\"></div>\n",
       "<p class=\"cas-results-performance\"><small><span class=\"cas-elapsed\">elapsed 4.08s</span> &#183; <span class=\"cas-user\">user 0.0426s</span> &#183; <span class=\"cas-sys\">sys 0.0149s</span> &#183; <span class=\"cas-memory\">mem 17.4MB</span></small></p>"
      ],
      "text/plain": [
       "[ScoreInfo]\n",
       "\n",
       "                     Property Value\n",
       " 0  Number of State Variables     2\n",
       " 1          Number of Actions     4\n",
       " 2                  Algorithm   DQN\n",
       " 3                  Optimizer  ADAM\n",
       "\n",
       "+ Elapsed: 4.08s, user: 0.0426s, sys: 0.0149s, mem: 17.4mb"
      ]
     },
     "execution_count": 20,
     "metadata": {},
     "output_type": "execute_result"
    }
   ],
   "source": [
    "conn.reinforcementLearn.rlScore(\n",
    "    environment=dict(type='remote', url=sasrl_env_url, name='cliffwalking-v0', render=False),\n",
    "    model='dqn_weights',\n",
    "    numEpisodes=1,\n",
    "    logFreq=1,\n",
    "    casout=dict(name='scored_table', replace=True)\n",
    ")"
   ]
  },
  {
   "cell_type": "markdown",
   "metadata": {},
   "source": [
    "# Download Final Test"
   ]
  },
  {
   "cell_type": "code",
   "execution_count": 21,
   "metadata": {},
   "outputs": [
    {
     "data": {
      "text/html": [
       "<div>\n",
       "<style scoped>\n",
       "    .dataframe tbody tr th:only-of-type {\n",
       "        vertical-align: middle;\n",
       "    }\n",
       "\n",
       "    .dataframe tbody tr th {\n",
       "        vertical-align: top;\n",
       "    }\n",
       "\n",
       "    .dataframe thead th {\n",
       "        text-align: right;\n",
       "    }\n",
       "</style>\n",
       "<table border=\"1\" class=\"dataframe\"><caption>Selected Rows from Table SCORED_TABLE</caption>\n",
       "  <thead>\n",
       "    <tr style=\"text-align: right;\">\n",
       "      <th title=\"\"></th>\n",
       "      <th title=\"_Step_\">_Step_</th>\n",
       "      <th title=\"_Episode_\">_Episode_</th>\n",
       "      <th title=\"_State_0\">_State_0</th>\n",
       "      <th title=\"_State_1\">_State_1</th>\n",
       "      <th title=\"_Action_\">_Action_</th>\n",
       "      <th title=\"_Reward_\">_Reward_</th>\n",
       "      <th title=\"_Done_\">_Done_</th>\n",
       "    </tr>\n",
       "  </thead>\n",
       "  <tbody>\n",
       "    <tr>\n",
       "      <td>0</td>\n",
       "      <td>0.0</td>\n",
       "      <td>1.0</td>\n",
       "      <td>3.0</td>\n",
       "      <td>0.0</td>\n",
       "      <td>0.0</td>\n",
       "      <td>-1.0</td>\n",
       "      <td>0.0</td>\n",
       "    </tr>\n",
       "    <tr>\n",
       "      <td>1</td>\n",
       "      <td>1.0</td>\n",
       "      <td>1.0</td>\n",
       "      <td>2.0</td>\n",
       "      <td>0.0</td>\n",
       "      <td>3.0</td>\n",
       "      <td>-1.0</td>\n",
       "      <td>0.0</td>\n",
       "    </tr>\n",
       "    <tr>\n",
       "      <td>2</td>\n",
       "      <td>2.0</td>\n",
       "      <td>1.0</td>\n",
       "      <td>2.0</td>\n",
       "      <td>1.0</td>\n",
       "      <td>3.0</td>\n",
       "      <td>-1.0</td>\n",
       "      <td>0.0</td>\n",
       "    </tr>\n",
       "    <tr>\n",
       "      <td>3</td>\n",
       "      <td>3.0</td>\n",
       "      <td>1.0</td>\n",
       "      <td>2.0</td>\n",
       "      <td>2.0</td>\n",
       "      <td>3.0</td>\n",
       "      <td>-1.0</td>\n",
       "      <td>0.0</td>\n",
       "    </tr>\n",
       "    <tr>\n",
       "      <td>4</td>\n",
       "      <td>4.0</td>\n",
       "      <td>1.0</td>\n",
       "      <td>2.0</td>\n",
       "      <td>3.0</td>\n",
       "      <td>3.0</td>\n",
       "      <td>-1.0</td>\n",
       "      <td>0.0</td>\n",
       "    </tr>\n",
       "    <tr>\n",
       "      <td>5</td>\n",
       "      <td>5.0</td>\n",
       "      <td>1.0</td>\n",
       "      <td>2.0</td>\n",
       "      <td>4.0</td>\n",
       "      <td>3.0</td>\n",
       "      <td>-1.0</td>\n",
       "      <td>0.0</td>\n",
       "    </tr>\n",
       "    <tr>\n",
       "      <td>6</td>\n",
       "      <td>6.0</td>\n",
       "      <td>1.0</td>\n",
       "      <td>2.0</td>\n",
       "      <td>5.0</td>\n",
       "      <td>3.0</td>\n",
       "      <td>-1.0</td>\n",
       "      <td>0.0</td>\n",
       "    </tr>\n",
       "    <tr>\n",
       "      <td>7</td>\n",
       "      <td>7.0</td>\n",
       "      <td>1.0</td>\n",
       "      <td>2.0</td>\n",
       "      <td>6.0</td>\n",
       "      <td>3.0</td>\n",
       "      <td>-1.0</td>\n",
       "      <td>0.0</td>\n",
       "    </tr>\n",
       "    <tr>\n",
       "      <td>8</td>\n",
       "      <td>8.0</td>\n",
       "      <td>1.0</td>\n",
       "      <td>2.0</td>\n",
       "      <td>7.0</td>\n",
       "      <td>3.0</td>\n",
       "      <td>-1.0</td>\n",
       "      <td>0.0</td>\n",
       "    </tr>\n",
       "    <tr>\n",
       "      <td>9</td>\n",
       "      <td>9.0</td>\n",
       "      <td>1.0</td>\n",
       "      <td>2.0</td>\n",
       "      <td>8.0</td>\n",
       "      <td>3.0</td>\n",
       "      <td>-1.0</td>\n",
       "      <td>0.0</td>\n",
       "    </tr>\n",
       "    <tr>\n",
       "      <td>10</td>\n",
       "      <td>10.0</td>\n",
       "      <td>1.0</td>\n",
       "      <td>2.0</td>\n",
       "      <td>9.0</td>\n",
       "      <td>3.0</td>\n",
       "      <td>-1.0</td>\n",
       "      <td>0.0</td>\n",
       "    </tr>\n",
       "    <tr>\n",
       "      <td>11</td>\n",
       "      <td>11.0</td>\n",
       "      <td>1.0</td>\n",
       "      <td>2.0</td>\n",
       "      <td>10.0</td>\n",
       "      <td>3.0</td>\n",
       "      <td>-1.0</td>\n",
       "      <td>0.0</td>\n",
       "    </tr>\n",
       "    <tr>\n",
       "      <td>12</td>\n",
       "      <td>12.0</td>\n",
       "      <td>1.0</td>\n",
       "      <td>2.0</td>\n",
       "      <td>11.0</td>\n",
       "      <td>1.0</td>\n",
       "      <td>-1.0</td>\n",
       "      <td>1.0</td>\n",
       "    </tr>\n",
       "  </tbody>\n",
       "</table>\n",
       "</div>"
      ],
      "text/plain": [
       "Selected Rows from Table SCORED_TABLE\n",
       "\n",
       "    _Step_  _Episode_  _State_0  _State_1  _Action_  _Reward_  _Done_\n",
       "0      0.0        1.0       3.0       0.0       0.0      -1.0     0.0\n",
       "1      1.0        1.0       2.0       0.0       3.0      -1.0     0.0\n",
       "2      2.0        1.0       2.0       1.0       3.0      -1.0     0.0\n",
       "3      3.0        1.0       2.0       2.0       3.0      -1.0     0.0\n",
       "4      4.0        1.0       2.0       3.0       3.0      -1.0     0.0\n",
       "5      5.0        1.0       2.0       4.0       3.0      -1.0     0.0\n",
       "6      6.0        1.0       2.0       5.0       3.0      -1.0     0.0\n",
       "7      7.0        1.0       2.0       6.0       3.0      -1.0     0.0\n",
       "8      8.0        1.0       2.0       7.0       3.0      -1.0     0.0\n",
       "9      9.0        1.0       2.0       8.0       3.0      -1.0     0.0\n",
       "10    10.0        1.0       2.0       9.0       3.0      -1.0     0.0\n",
       "11    11.0        1.0       2.0      10.0       3.0      -1.0     0.0\n",
       "12    12.0        1.0       2.0      11.0       1.0      -1.0     1.0"
      ]
     },
     "execution_count": 21,
     "metadata": {},
     "output_type": "execute_result"
    }
   ],
   "source": [
    "scored_table = conn.CASTable(name = \"scored_table\")\n",
    "df = scored_table.to_frame()\n",
    "df"
   ]
  },
  {
   "cell_type": "markdown",
   "metadata": {},
   "source": [
    "# Find Optimal Path"
   ]
  },
  {
   "cell_type": "code",
   "execution_count": 22,
   "metadata": {},
   "outputs": [
    {
     "name": "stdout",
     "output_type": "stream",
     "text": [
      "[['-' '-' '-' '-' '-' '-' '-' '-' '-' '-' '-' '-']\n",
      " ['-' '-' '-' '-' '-' '-' '-' '-' '-' '-' '-' '-']\n",
      " ['A' 'A' 'A' 'A' 'A' 'A' 'A' 'A' 'A' 'A' 'A' 'A']\n",
      " ['S' '-' '-' '-' '-' '-' '-' '-' '-' '-' '-' 'G']]\n"
     ]
    }
   ],
   "source": [
    "# Set Row and Column Arrays\n",
    "state_x = np.array(df[\"_State_0\"], dtype=\"i\")\n",
    "state_y = np.array(df[\"_State_1\"], dtype=\"i\")\n",
    "\n",
    "#Initialize Grid\n",
    "grid = np.full((4, 12), \"-\")\n",
    "grid[3,0] = \"S\"\n",
    "grid[3,11] = \"G\"\n",
    "\n",
    "# Mark the Agent's Path\n",
    "for i in range(df.shape[0]-1):\n",
    "    grid[state_x[i+1],state_y[i+1]] = \"A\"\n",
    "\n",
    "# Print Optimal Path\n",
    "print(grid)"
   ]
  },
  {
   "cell_type": "markdown",
   "metadata": {},
   "source": [
    "# End the Session"
   ]
  },
  {
   "cell_type": "code",
   "execution_count": 23,
   "metadata": {},
   "outputs": [
    {
     "data": {
      "text/html": [
       "<div class=\"cas-output-area\"></div>\n",
       "<p class=\"cas-results-performance\"><small><span class=\"cas-elapsed\">elapsed 0.000562s</span> &#183; <span class=\"cas-user\">user 0.00055s</span> &#183; <span class=\"cas-memory\">mem 0.221MB</span></small></p>"
      ],
      "text/plain": [
       "+ Elapsed: 0.000562s, user: 0.00055s, mem: 0.221mb"
      ]
     },
     "execution_count": 23,
     "metadata": {},
     "output_type": "execute_result"
    }
   ],
   "source": [
    "conn.session.endSession()"
   ]
  }
 ],
 "metadata": {
  "kernelspec": {
   "display_name": "Python 3",
   "language": "python",
   "name": "python3"
  },
  "language_info": {
   "codemirror_mode": {
    "name": "ipython",
    "version": 3
   },
   "file_extension": ".py",
   "mimetype": "text/x-python",
   "name": "python",
   "nbconvert_exporter": "python",
   "pygments_lexer": "ipython3",
   "version": "3.8.5"
  }
 },
 "nbformat": 4,
 "nbformat_minor": 4
}
