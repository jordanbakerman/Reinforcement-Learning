{
 "cells": [
  {
   "cell_type": "markdown",
   "metadata": {},
   "source": [
    "# TRAINING KDD1998 REGRESSOR"
   ]
  },
  {
   "cell_type": "markdown",
   "metadata": {},
   "source": [
    "Customer simulation classifier to predict donation amount in direct marketing."
   ]
  },
  {
   "cell_type": "markdown",
   "metadata": {},
   "source": [
    "# Load Packages"
   ]
  },
  {
   "cell_type": "code",
   "execution_count": 1,
   "metadata": {},
   "outputs": [
    {
     "name": "stderr",
     "output_type": "stream",
     "text": [
      "Using TensorFlow backend.\n"
     ]
    }
   ],
   "source": [
    "import pandas as pd\n",
    "import numpy as np\n",
    "import matplotlib.pyplot as plt\n",
    "from matplotlib import rcParams\n",
    "rcParams['font.family'] = 'Euclid'\n",
    "from scipy import stats as sc\n",
    "import random\n",
    "import math\n",
    "\n",
    "from sklearn.metrics import roc_curve, auc\n",
    "from keras.callbacks import ModelCheckpoint\n",
    "from keras.models import Sequential\n",
    "from keras.layers import Dense, Dropout, Activation, Flatten"
   ]
  },
  {
   "cell_type": "markdown",
   "metadata": {},
   "source": [
    "# Set Seed"
   ]
  },
  {
   "cell_type": "code",
   "execution_count": 2,
   "metadata": {},
   "outputs": [],
   "source": [
    "RANDOM_SEED = 777\n",
    "np.random.seed(RANDOM_SEED)\n",
    "random.seed(RANDOM_SEED)"
   ]
  },
  {
   "cell_type": "markdown",
   "metadata": {},
   "source": [
    "# Load Data"
   ]
  },
  {
   "cell_type": "code",
   "execution_count": 3,
   "metadata": {},
   "outputs": [
    {
     "name": "stderr",
     "output_type": "stream",
     "text": [
      "C:\\Users\\jobake\\AppData\\Local\\Continuum\\anaconda3\\lib\\site-packages\\ipykernel_launcher.py:6: SettingWithCopyWarning: \n",
      "A value is trying to be set on a copy of a slice from a DataFrame\n",
      "\n",
      "See the caveats in the documentation: http://pandas.pydata.org/pandas-docs/stable/user_guide/indexing.html#returning-a-view-versus-a-copy\n",
      "  \n"
     ]
    }
   ],
   "source": [
    "data = pd.read_csv(\"C:/Users/jobake/Desktop/Customer_Simulation/kdd1998tuples.csv\", header=None)\n",
    "data.columns = ['customer', 'period', 'r0', 'f0', 'm0', 'ir0', 'if0', 'gender', 'age', 'income',\n",
    "                'zip_region', 'zip_la', 'zip_lo', 'a', 'rew', 'r1', 'f1', 'm1', 'ir1', 'if1',\n",
    "                'gender1', 'age1', 'income1', 'zip_region1', 'zip_la1', 'zip_lo1']\n",
    "data['rew_ind'] = (data['rew'] > 0) * 1\n",
    "data['age'][data['age'] == 0] = None"
   ]
  },
  {
   "cell_type": "markdown",
   "metadata": {},
   "source": [
    "# Prepare Data"
   ]
  },
  {
   "cell_type": "code",
   "execution_count": 4,
   "metadata": {},
   "outputs": [],
   "source": [
    "customers = list(set(data['customer']))\n",
    "\n",
    "train_samples = 100000\n",
    "val_samples = 50000\n",
    "test_samples = len(customers) - val_samples - train_samples\n",
    "\n",
    "np.random.shuffle(customers)\n",
    "\n",
    "train_customers = customers[0:train_samples]\n",
    "val_customers = customers[train_samples:(train_samples + val_samples)]\n",
    "test_customers = customers[(train_samples + val_samples):]\n",
    "\n",
    "cols = ['r0', 'f0', 'm0', 'ir0', 'if0', 'gender', 'age', 'income', 'zip_region', 'a', 'rew', 'rew_ind']\n",
    "\n",
    "train_data = data[data['customer'].isin(train_customers) & data['rew_ind'] == 1][cols].fillna(0)\n",
    "val_data = data[data['customer'].isin(val_customers) & data['rew_ind'] == 1][cols].fillna(0)\n",
    "test_data = data[data['customer'].isin(test_customers) & data['rew_ind'] == 1][cols].fillna(0).sample(1000, random_state=RANDOM_SEED)\n",
    "\n",
    "n_train = train_data.shape[0]\n",
    "n_val = val_data.shape[0]\n",
    "n_test = test_data.shape[0]\n",
    "\n",
    "cols_X = ['r0', 'f0', 'm0', 'ir0', 'if0', 'gender', 'age', 'income', 'zip_region', 'a']\n",
    "cols_Y = ['rew']\n",
    "\n",
    "x_train = train_data[cols_X].values.astype(np.float32)\n",
    "y_train = train_data[cols_Y].values.astype(np.float32)\n",
    "\n",
    "x_val = val_data[cols_X].values.astype(np.float32)\n",
    "y_val = val_data[cols_Y].values.astype(np.float32)\n",
    "\n",
    "x_test = test_data[cols_X].values.astype(np.float32)\n",
    "y_test = test_data[cols_Y].values.astype(np.float32)"
   ]
  },
  {
   "cell_type": "markdown",
   "metadata": {},
   "source": [
    "# Create Regressor NN"
   ]
  },
  {
   "cell_type": "code",
   "execution_count": 5,
   "metadata": {},
   "outputs": [],
   "source": [
    "def KDDRegressor():\n",
    "    model = Sequential()\n",
    "\n",
    "    model.add(Dense(output_dim=100, input_dim=10))\n",
    "    model.add(Activation(\"relu\"))\n",
    "    model.add(Dense(output_dim=100, input_dim=100))\n",
    "    model.add(Activation(\"relu\"))\n",
    "    model.add(Dense(output_dim=100, input_dim=100))\n",
    "    model.add(Activation(\"relu\"))\n",
    "    model.add(Dense(output_dim=100, input_dim=100))\n",
    "    model.add(Activation(\"relu\"))\n",
    "    model.add(Dense(output_dim=100, input_dim=100))\n",
    "    model.add(Activation(\"relu\"))\n",
    "    model.add(Dense(output_dim=1, input_dim=100))\n",
    "\n",
    "    return model"
   ]
  },
  {
   "cell_type": "markdown",
   "metadata": {},
   "source": [
    "# Train the Model"
   ]
  },
  {
   "cell_type": "code",
   "execution_count": 6,
   "metadata": {},
   "outputs": [
    {
     "name": "stdout",
     "output_type": "stream",
     "text": [
      "WARNING:tensorflow:From C:\\Users\\jobake\\AppData\\Local\\Continuum\\anaconda3\\lib\\site-packages\\keras\\backend\\tensorflow_backend.py:74: The name tf.get_default_graph is deprecated. Please use tf.compat.v1.get_default_graph instead.\n",
      "\n",
      "WARNING:tensorflow:From C:\\Users\\jobake\\AppData\\Local\\Continuum\\anaconda3\\lib\\site-packages\\keras\\backend\\tensorflow_backend.py:517: The name tf.placeholder is deprecated. Please use tf.compat.v1.placeholder instead.\n",
      "\n",
      "WARNING:tensorflow:From C:\\Users\\jobake\\AppData\\Local\\Continuum\\anaconda3\\lib\\site-packages\\keras\\backend\\tensorflow_backend.py:4138: The name tf.random_uniform is deprecated. Please use tf.random.uniform instead.\n",
      "\n",
      "WARNING:tensorflow:From C:\\Users\\jobake\\AppData\\Local\\Continuum\\anaconda3\\lib\\site-packages\\keras\\optimizers.py:790: The name tf.train.Optimizer is deprecated. Please use tf.compat.v1.train.Optimizer instead.\n",
      "\n"
     ]
    },
    {
     "name": "stderr",
     "output_type": "stream",
     "text": [
      "C:\\Users\\jobake\\AppData\\Local\\Continuum\\anaconda3\\lib\\site-packages\\ipykernel_launcher.py:4: UserWarning: Update your `Dense` call to the Keras 2 API: `Dense(input_dim=10, units=100)`\n",
      "  after removing the cwd from sys.path.\n",
      "C:\\Users\\jobake\\AppData\\Local\\Continuum\\anaconda3\\lib\\site-packages\\ipykernel_launcher.py:6: UserWarning: Update your `Dense` call to the Keras 2 API: `Dense(input_dim=100, units=100)`\n",
      "  \n",
      "C:\\Users\\jobake\\AppData\\Local\\Continuum\\anaconda3\\lib\\site-packages\\ipykernel_launcher.py:8: UserWarning: Update your `Dense` call to the Keras 2 API: `Dense(input_dim=100, units=100)`\n",
      "  \n",
      "C:\\Users\\jobake\\AppData\\Local\\Continuum\\anaconda3\\lib\\site-packages\\ipykernel_launcher.py:10: UserWarning: Update your `Dense` call to the Keras 2 API: `Dense(input_dim=100, units=100)`\n",
      "  # Remove the CWD from sys.path while we load stuff.\n",
      "C:\\Users\\jobake\\AppData\\Local\\Continuum\\anaconda3\\lib\\site-packages\\ipykernel_launcher.py:12: UserWarning: Update your `Dense` call to the Keras 2 API: `Dense(input_dim=100, units=100)`\n",
      "  if sys.path[0] == '':\n",
      "C:\\Users\\jobake\\AppData\\Local\\Continuum\\anaconda3\\lib\\site-packages\\ipykernel_launcher.py:14: UserWarning: Update your `Dense` call to the Keras 2 API: `Dense(input_dim=100, units=1)`\n",
      "  \n",
      "C:\\Users\\jobake\\AppData\\Local\\Continuum\\anaconda3\\lib\\site-packages\\ipykernel_launcher.py:10: UserWarning: The `nb_epoch` argument in `fit` has been renamed `epochs`.\n",
      "  # Remove the CWD from sys.path while we load stuff.\n"
     ]
    },
    {
     "name": "stdout",
     "output_type": "stream",
     "text": [
      "WARNING:tensorflow:From C:\\Users\\jobake\\AppData\\Local\\Continuum\\anaconda3\\lib\\site-packages\\keras\\backend\\tensorflow_backend.py:986: The name tf.assign_add is deprecated. Please use tf.compat.v1.assign_add instead.\n",
      "\n",
      "WARNING:tensorflow:From C:\\Users\\jobake\\AppData\\Local\\Continuum\\anaconda3\\lib\\site-packages\\keras\\backend\\tensorflow_backend.py:973: The name tf.assign is deprecated. Please use tf.compat.v1.assign instead.\n",
      "\n",
      "WARNING:tensorflow:From C:\\Users\\jobake\\AppData\\Local\\Continuum\\anaconda3\\lib\\site-packages\\keras\\backend\\tensorflow_backend.py:2741: The name tf.Session is deprecated. Please use tf.compat.v1.Session instead.\n",
      "\n",
      "Train on 291259 samples, validate on 145457 samples\n",
      "Epoch 1/50\n",
      "WARNING:tensorflow:From C:\\Users\\jobake\\AppData\\Local\\Continuum\\anaconda3\\lib\\site-packages\\keras\\backend\\tensorflow_backend.py:174: The name tf.get_default_session is deprecated. Please use tf.compat.v1.get_default_session instead.\n",
      "\n",
      "WARNING:tensorflow:From C:\\Users\\jobake\\AppData\\Local\\Continuum\\anaconda3\\lib\\site-packages\\keras\\backend\\tensorflow_backend.py:181: The name tf.ConfigProto is deprecated. Please use tf.compat.v1.ConfigProto instead.\n",
      "\n",
      "WARNING:tensorflow:From C:\\Users\\jobake\\AppData\\Local\\Continuum\\anaconda3\\lib\\site-packages\\keras\\backend\\tensorflow_backend.py:190: The name tf.global_variables is deprecated. Please use tf.compat.v1.global_variables instead.\n",
      "\n",
      "WARNING:tensorflow:From C:\\Users\\jobake\\AppData\\Local\\Continuum\\anaconda3\\lib\\site-packages\\keras\\backend\\tensorflow_backend.py:199: The name tf.is_variable_initialized is deprecated. Please use tf.compat.v1.is_variable_initialized instead.\n",
      "\n",
      "WARNING:tensorflow:From C:\\Users\\jobake\\AppData\\Local\\Continuum\\anaconda3\\lib\\site-packages\\keras\\backend\\tensorflow_backend.py:206: The name tf.variables_initializer is deprecated. Please use tf.compat.v1.variables_initializer instead.\n",
      "\n",
      "291259/291259 [==============================] - 140s 480us/step - loss: 4.1537 - val_loss: 4.0909\n",
      "Epoch 2/50\n",
      "291259/291259 [==============================] - 143s 490us/step - loss: 4.0316 - val_loss: 4.0998\n",
      "Epoch 3/50\n",
      "291259/291259 [==============================] - 138s 473us/step - loss: 4.0087 - val_loss: 4.0264\n",
      "Epoch 4/50\n",
      "291259/291259 [==============================] - 114s 392us/step - loss: 3.9949 - val_loss: 3.9845\n",
      "Epoch 5/50\n",
      "291259/291259 [==============================] - 142s 486us/step - loss: 3.9858 - val_loss: 3.9875\n",
      "Epoch 6/50\n",
      "291259/291259 [==============================] - 145s 498us/step - loss: 3.9723 - val_loss: 3.9896\n",
      "Epoch 7/50\n",
      "291259/291259 [==============================] - 146s 501us/step - loss: 3.9660 - val_loss: 3.9838\n",
      "Epoch 8/50\n",
      "291259/291259 [==============================] - 140s 480us/step - loss: 3.9567 - val_loss: 3.9819\n",
      "Epoch 9/50\n",
      "291259/291259 [==============================] - 136s 467us/step - loss: 3.9495 - val_loss: 3.9809\n",
      "Epoch 10/50\n",
      "291259/291259 [==============================] - 169s 579us/step - loss: 3.9402 - val_loss: 3.9468\n",
      "Epoch 11/50\n",
      "291259/291259 [==============================] - 182s 625us/step - loss: 3.9362 - val_loss: 3.9682\n",
      "Epoch 12/50\n",
      "291259/291259 [==============================] - 167s 575us/step - loss: 3.9322 - val_loss: 3.9417\n",
      "Epoch 13/50\n",
      "291259/291259 [==============================] - 142s 487us/step - loss: 3.9287 - val_loss: 3.9509\n",
      "Epoch 14/50\n",
      "291259/291259 [==============================] - 140s 482us/step - loss: 3.9221 - val_loss: 3.9412\n",
      "Epoch 15/50\n",
      "291259/291259 [==============================] - 148s 508us/step - loss: 3.9189 - val_loss: 3.9263\n",
      "Epoch 16/50\n",
      "291259/291259 [==============================] - 145s 497us/step - loss: 3.9161 - val_loss: 3.9800\n",
      "Epoch 17/50\n",
      "291259/291259 [==============================] - 148s 508us/step - loss: 3.9097 - val_loss: 3.9201\n",
      "Epoch 18/50\n",
      "291259/291259 [==============================] - 142s 489us/step - loss: 3.9078 - val_loss: 3.9616\n",
      "Epoch 19/50\n",
      "291259/291259 [==============================] - 135s 464us/step - loss: 3.9068 - val_loss: 3.9370\n",
      "Epoch 20/50\n",
      "291259/291259 [==============================] - 133s 457us/step - loss: 3.9038 - val_loss: 3.9326\n",
      "Epoch 21/50\n",
      "291259/291259 [==============================] - 137s 469us/step - loss: 3.8997 - val_loss: 3.9067\n",
      "Epoch 22/50\n",
      "291259/291259 [==============================] - 142s 486us/step - loss: 3.8986 - val_loss: 3.9339\n",
      "Epoch 23/50\n",
      "291259/291259 [==============================] - 157s 540us/step - loss: 3.8973 - val_loss: 3.9170\n",
      "Epoch 24/50\n",
      "291259/291259 [==============================] - 164s 562us/step - loss: 3.8933 - val_loss: 3.9165\n",
      "Epoch 25/50\n",
      "291259/291259 [==============================] - 160s 548us/step - loss: 3.8907 - val_loss: 3.9147\n",
      "Epoch 26/50\n",
      "291259/291259 [==============================] - 168s 577us/step - loss: 3.8887 - val_loss: 3.9267\n",
      "Epoch 27/50\n",
      "291259/291259 [==============================] - 180s 618us/step - loss: 3.8893 - val_loss: 3.9034\n",
      "Epoch 28/50\n",
      "291259/291259 [==============================] - 185s 636us/step - loss: 3.8850 - val_loss: 3.9617\n",
      "Epoch 29/50\n",
      "291259/291259 [==============================] - 187s 642us/step - loss: 3.8856 - val_loss: 3.9110\n",
      "Epoch 30/50\n",
      "291259/291259 [==============================] - 146s 503us/step - loss: 3.8837 - val_loss: 3.9003\n",
      "Epoch 31/50\n",
      "291259/291259 [==============================] - 154s 528us/step - loss: 3.8821 - val_loss: 3.9055\n",
      "Epoch 32/50\n",
      "291259/291259 [==============================] - 151s 519us/step - loss: 3.8817 - val_loss: 3.9052\n",
      "Epoch 33/50\n",
      "291259/291259 [==============================] - 141s 484us/step - loss: 3.8781 - val_loss: 3.9176\n",
      "Epoch 34/50\n",
      "291259/291259 [==============================] - 129s 441us/step - loss: 3.8777 - val_loss: 3.9069\n",
      "Epoch 35/50\n",
      "291259/291259 [==============================] - 136s 467us/step - loss: 3.8774 - val_loss: 3.9093\n",
      "Epoch 36/50\n",
      "291259/291259 [==============================] - 139s 478us/step - loss: 3.8763 - val_loss: 3.9121\n",
      "Epoch 37/50\n",
      "291259/291259 [==============================] - 148s 508us/step - loss: 3.8751 - val_loss: 3.8948\n",
      "Epoch 38/50\n",
      "291259/291259 [==============================] - 149s 511us/step - loss: 3.8734 - val_loss: 3.8985\n",
      "Epoch 39/50\n",
      "291259/291259 [==============================] - 146s 500us/step - loss: 3.8733 - val_loss: 3.8989\n",
      "Epoch 40/50\n",
      "291259/291259 [==============================] - 145s 498us/step - loss: 3.8718 - val_loss: 3.8971\n",
      "Epoch 41/50\n",
      "291259/291259 [==============================] - 156s 535us/step - loss: 3.8699 - val_loss: 3.9042\n",
      "Epoch 42/50\n",
      "291259/291259 [==============================] - 156s 536us/step - loss: 3.8698 - val_loss: 3.9095\n",
      "Epoch 43/50\n",
      "291259/291259 [==============================] - 150s 515us/step - loss: 3.8694 - val_loss: 3.9161\n",
      "Epoch 44/50\n",
      "291259/291259 [==============================] - 164s 565us/step - loss: 3.8680 - val_loss: 3.8965\n",
      "Epoch 45/50\n",
      "291259/291259 [==============================] - 145s 498us/step - loss: 3.8681 - val_loss: 3.8970\n",
      "Epoch 46/50\n",
      "291259/291259 [==============================] - 139s 476us/step - loss: 3.8675 - val_loss: 3.9046\n",
      "Epoch 47/50\n",
      "291259/291259 [==============================] - 140s 481us/step - loss: 3.8664 - val_loss: 3.9296\n",
      "Epoch 48/50\n",
      "291259/291259 [==============================] - 138s 475us/step - loss: 3.8666 - val_loss: 3.9424\n",
      "Epoch 49/50\n",
      "291259/291259 [==============================] - 143s 493us/step - loss: 3.8651 - val_loss: 3.9078\n",
      "Epoch 50/50\n",
      "291259/291259 [==============================] - 144s 495us/step - loss: 3.8644 - val_loss: 3.8966\n",
      "1000/1000 [==============================] - 0s 455us/step\n",
      "Test Loss: 3.8026894512176512\n"
     ]
    }
   ],
   "source": [
    "n_epochs = 50\n",
    "batch_size = 100\n",
    "file_name = \"C:/Users/jobake/Desktop/Customer_Simulation/kdd98_propagation_regressor_best.h5\"\n",
    "\n",
    "model = KDDRegressor()\n",
    "model.compile(loss='mean_absolute_error', optimizer='adam')\n",
    "checkpoint = ModelCheckpoint(file_name, monitor='val_loss', save_best_only=True, save_weights_only=True)\n",
    "\n",
    "model.fit(x_train, y_train, batch_size=batch_size, nb_epoch=n_epochs,\n",
    "          verbose=1, callbacks=[checkpoint], validation_data=(x_val, y_val))\n",
    "\n",
    "# model.save_weights(file_name, overwrite=True)\n",
    "# model.load_weights(file_name)\n",
    "\n",
    "score = model.evaluate(x_test, y_test, verbose=1)\n",
    "print('Test Loss: ' + str(score))"
   ]
  },
  {
   "cell_type": "markdown",
   "metadata": {},
   "source": [
    "# Validation Functions"
   ]
  },
  {
   "cell_type": "code",
   "execution_count": 7,
   "metadata": {},
   "outputs": [],
   "source": [
    "def plot_validate(data_true, data_predicted, xlab, ylab, name, n_bins, x_range, y_range, font=15, legend=False,\n",
    "                  bar_width=0.4):\n",
    "    hist_true, bin_edges = np.histogram(data_true, bins=n_bins, range=x_range)\n",
    "    hist_predicted, bin_edges = np.histogram(data_predicted, bins=n_bins, range=x_range)\n",
    "    hist_true = hist_true / float(sum(hist_true))\n",
    "    hist_predicted = hist_predicted / float(sum(hist_predicted))\n",
    "\n",
    "    plt.figure(num=None, figsize=(8, 6), dpi=150, facecolor='w', edgecolor='w')\n",
    "    plt.bar(bin_edges[:-1], hist_true, bar_width, color=\"#60BD68\", label='Actual Data')\n",
    "    plt.bar(bin_edges[:-1] + bar_width, hist_predicted, bar_width, color=\"#FAA43A\", alpha=1, label='Simulated Data')\n",
    "    plt.xlabel(xlab, fontsize=font, labelpad=15)\n",
    "    if ylab:\n",
    "        plt.ylabel(ylab, fontsize=font, labelpad=15)\n",
    "    plt.xlim(x_range[0], x_range[1])\n",
    "    plt.ylim(y_range[0], y_range[1])\n",
    "\n",
    "    xt_val = list(set([int(e) for e in bin_edges[:-1]]))\n",
    "    xt_pos = [float(e) + bar_width for e in xt_val]\n",
    "\n",
    "    plt.tick_params(axis='both', which='major', labelsize=15)\n",
    "    plt.tick_params(axis='both', which='minor', labelsize=15)\n",
    "\n",
    "    plt.xticks(xt_pos, xt_val)\n",
    "    if legend:\n",
    "        plt.legend(fontsize=font)\n",
    "    plt.savefig(name, bbox_inches='tight')\n",
    "    plt.show()\n",
    "    plt.close()"
   ]
  },
  {
   "cell_type": "code",
   "execution_count": 8,
   "metadata": {},
   "outputs": [],
   "source": [
    "def KL_validate(data_true, data_predicted, n_bins, x_range, n_samples=10000):\n",
    "    '''\"Pr(KL(simulated data||original) > KL(bootstrap original||bootstrap original))'''\n",
    "\n",
    "    n = data_true.shape[0]\n",
    "\n",
    "    hist_true, _ = np.histogram(data_true, bins=n_bins, range=x_range)\n",
    "    hist_predicted, bin_edges = np.histogram(data_predicted, bins=n_bins, range=x_range)\n",
    "\n",
    "    simulated_KL = sc.entropy(hist_true + 1, hist_predicted + 1)\n",
    "    subsampled_KL = []\n",
    "\n",
    "    for i in range(n_samples):\n",
    "        index1 = np.random.choice(n, n, replace=True)\n",
    "        index2 = np.random.choice(n, n, replace=True)\n",
    "        sample1 = data_true[index1]\n",
    "        sample2 = data_true[index2]\n",
    "        hist_sample1, _ = np.histogram(sample1, bins=n_bins, range=x_range)\n",
    "        hist_sample2, _ = np.histogram(sample2, bins=n_bins, range=x_range)\n",
    "        subsampled_KL.append(sc.entropy(hist_sample2 + 1, hist_sample1 + 1))\n",
    "\n",
    "    subsampled_KL = sorted(subsampled_KL)\n",
    "    pval = sum(simulated_KL < i for i in subsampled_KL) / float(n_samples)\n",
    "    conf_interval = (0, subsampled_KL[int(math.ceil(n_samples * 0.95)) - 1])\n",
    "    return simulated_KL, conf_interval, pval, n"
   ]
  },
  {
   "cell_type": "markdown",
   "metadata": {},
   "source": [
    "# Validate NN Regressor"
   ]
  },
  {
   "cell_type": "code",
   "execution_count": 9,
   "metadata": {},
   "outputs": [
    {
     "data": {
      "image/png": "[encoded data removed]",
      "text/plain": [
       "<Figure size 1200x900 with 1 Axes>"
      ]
     },
     "metadata": {},
     "output_type": "display_data"
    },
    {
     "data": {
      "text/plain": [
       "{'test_mean': '13.65413',\n",
       " 'test_std': '8.870702',\n",
       " 'KL_divergence_deeplearning': '(0.12109339886866867, (0, 0.009284274411638553), 0.0, 1000)',\n",
       " 'prediction_mean_deeplearning': '12.629857',\n",
       " 'prediction_std_deeplearning': '5.5966463',\n",
       " 'MSE_deeplearning': '51.2418'}"
      ]
     },
     "execution_count": 9,
     "metadata": {},
     "output_type": "execute_result"
    }
   ],
   "source": [
    "y_pred = model.predict(x_test)\n",
    "\n",
    "record = dict()\n",
    "record['test_mean'] = str(y_test.mean())\n",
    "record['test_std'] = str(np.std(y_test))\n",
    "\n",
    "record['KL_divergence_deeplearning'] = str(KL_validate(y_test.squeeze(), y_pred.squeeze(), n_bins=5, x_range=(0, 50)))\n",
    "record['prediction_mean_deeplearning'] = str(y_pred.mean())\n",
    "record['prediction_std_deeplearning'] = str(np.std(y_pred))\n",
    "record['MSE_deeplearning'] = str(np.mean((y_pred - y_test) ** 2))\n",
    "\n",
    "plot_validate(y_test.squeeze(), y_pred.squeeze(), xlab=\"Donation Amount\", ylab=\"Probability Mass\",\n",
    "              name=\"C:/Users/jobake/Desktop/Customer_Simulation/kdd98_propagation_regressor_pmf.pdf\",\n",
    "              n_bins=10, x_range=(0, 50), y_range=(0, 0.5), font=20, legend=False, bar_width=1)\n",
    "\n",
    "record"
   ]
  }
 ],
 "metadata": {
  "kernelspec": {
   "display_name": "Python 3",
   "language": "python",
   "name": "python3"
  },
  "language_info": {
   "codemirror_mode": {
    "name": "ipython",
    "version": 3
   },
   "file_extension": ".py",
   "mimetype": "text/x-python",
   "name": "python",
   "nbconvert_exporter": "python",
   "pygments_lexer": "ipython3",
   "version": "3.7.4"
  }
 },
 "nbformat": 4,
 "nbformat_minor": 2
}
