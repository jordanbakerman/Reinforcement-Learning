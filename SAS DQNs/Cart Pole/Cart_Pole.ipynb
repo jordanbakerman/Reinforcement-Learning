{
 "cells": [
  {
   "cell_type": "markdown",
   "metadata": {},
   "source": [
    "# Cart Pole"
   ]
  },
  {
   "cell_type": "markdown",
   "metadata": {},
   "source": [
    "![title](cart_pole_pic.png)"
   ]
  },
  {
   "cell_type": "markdown",
   "metadata": {},
   "source": [
    "A pole is attached by an un-actuated joint to a cart, which moves along a frictionless track. The system is controlled by applying a force of +1 or -1 to the cart. The pendulum starts upright, and the goal is to prevent it from falling over. A reward of +1 is provided for every timestep that the pole remains upright. The episode ends when the pole is more than 15 degrees from vertical, or the cart moves more than 2.4 units from the center."
   ]
  },
  {
   "cell_type": "markdown",
   "metadata": {},
   "source": [
    "# Load Packages"
   ]
  },
  {
   "cell_type": "code",
   "execution_count": 1,
   "metadata": {},
   "outputs": [],
   "source": [
    "import swat\n",
    "import numpy as np\n",
    "import matplotlib.pyplot as plt\n",
    "import subprocess\n",
    "import time\n",
    "import gym"
   ]
  },
  {
   "cell_type": "markdown",
   "metadata": {},
   "source": [
    "# Make Environment"
   ]
  },
  {
   "cell_type": "code",
   "execution_count": 2,
   "metadata": {},
   "outputs": [],
   "source": [
    "env = gym.make('CartPole-v0')"
   ]
  },
  {
   "cell_type": "code",
   "execution_count": 3,
   "metadata": {},
   "outputs": [],
   "source": [
    "#DocString\n",
    "?env.env"
   ]
  },
  {
   "cell_type": "code",
   "execution_count": 4,
   "metadata": {},
   "outputs": [
    {
     "data": {
      "text/plain": [
       "Discrete(2)"
      ]
     },
     "execution_count": 4,
     "metadata": {},
     "output_type": "execute_result"
    }
   ],
   "source": [
    "# Env Actions\n",
    "directions = {\"Left\":0,\"Right\":1}\n",
    "env.action_space"
   ]
  },
  {
   "cell_type": "code",
   "execution_count": 5,
   "metadata": {},
   "outputs": [
    {
     "data": {
      "text/plain": [
       "Box(-3.4028234663852886e+38, 3.4028234663852886e+38, (4,), float32)"
      ]
     },
     "execution_count": 5,
     "metadata": {},
     "output_type": "execute_result"
    }
   ],
   "source": [
    "# Env Observation\n",
    "obs = {\"CartPosition\":0,\"CartVelocity\":1,\"PoleAngle\":2,\"PoleAngularVelocity\":3}\n",
    "env.observation_space"
   ]
  },
  {
   "cell_type": "code",
   "execution_count": 6,
   "metadata": {},
   "outputs": [
    {
     "data": {
      "text/plain": [
       "array([ 0.00594487, -0.03609262,  0.00134835,  0.03377973])"
      ]
     },
     "execution_count": 6,
     "metadata": {},
     "output_type": "execute_result"
    }
   ],
   "source": [
    "# Env Start\n",
    "# All observations are assigned a uniform random value in [-0.05..0.05]\n",
    "env.reset()"
   ]
  },
  {
   "cell_type": "code",
   "execution_count": 7,
   "metadata": {},
   "outputs": [
    {
     "name": "stderr",
     "output_type": "stream",
     "text": [
      "C:\\ProgramData\\Anaconda3\\lib\\site-packages\\gym\\logger.py:30: UserWarning: \u001b[33mWARN: You are calling 'step()' even though this environment has already returned done = True. You should always call 'reset()' once you receive 'done = True' -- any further steps are undefined behavior.\u001b[0m\n",
      "  warnings.warn(colorize('%s: %s'%('WARN', msg % args), 'yellow'))\n"
     ]
    }
   ],
   "source": [
    "# Push the Cart Left Policy\n",
    "env.reset()\n",
    "for i in range(40):\n",
    "    env.step(0)\n",
    "    env.render()\n",
    "    time.sleep(0.02)\n",
    "    \n",
    "env.close()"
   ]
  },
  {
   "cell_type": "markdown",
   "metadata": {},
   "source": [
    "# Connect to CAS"
   ]
  },
  {
   "cell_type": "code",
   "execution_count": 8,
   "metadata": {},
   "outputs": [],
   "source": [
    "conn = swat.CAS(\"server\", 30571, \"student\", \"Metadata0\")"
   ]
  },
  {
   "cell_type": "markdown",
   "metadata": {},
   "source": [
    "# Create SAS RL Environment URL"
   ]
  },
  {
   "cell_type": "code",
   "execution_count": 9,
   "metadata": {},
   "outputs": [],
   "source": [
    "cmd_data = subprocess.check_output(['ipconfig','/all']).decode('utf-8').split('\\n')\n",
    "ip_data = [item for item in cmd_data if \"IPv4 Address\" in item]\n",
    "computer_id = ip_data[0].split(\": \")[1].split(\"(\")[0]\n",
    "sasrl_env_port = \"10200\"\n",
    "sasrl_env_url = computer_id + \":\" + sasrl_env_port"
   ]
  },
  {
   "cell_type": "markdown",
   "metadata": {},
   "source": [
    "# Load the RL Action Set"
   ]
  },
  {
   "cell_type": "code",
   "execution_count": 10,
   "metadata": {},
   "outputs": [
    {
     "name": "stdout",
     "output_type": "stream",
     "text": [
      "NOTE: Added action set 'reinforcementLearn'.\n"
     ]
    },
    {
     "data": {
      "text/html": [
       "<div class=\"cas-results-key\"><b>&#167; actionset</b></div>\n",
       "<div class=\"cas-results-body\">\n",
       "<div>reinforcementLearn</div>\n",
       "</div>\n",
       "<div class=\"cas-output-area\"></div>\n",
       "<p class=\"cas-results-performance\"><small><span class=\"cas-elapsed\">elapsed 0.326s</span> &#183; <span class=\"cas-user\">user 0.583s</span> &#183; <span class=\"cas-sys\">sys 0.925s</span> &#183; <span class=\"cas-memory\">mem 0.255MB</span></small></p>"
      ],
      "text/plain": [
       "[actionset]\n",
       "\n",
       " 'reinforcementLearn'\n",
       "\n",
       "+ Elapsed: 0.326s, user: 0.583s, sys: 0.925s, mem: 0.255mb"
      ]
     },
     "execution_count": 10,
     "metadata": {},
     "output_type": "execute_result"
    }
   ],
   "source": [
    "conn.loadactionset('reinforcementLearn')"
   ]
  },
  {
   "cell_type": "markdown",
   "metadata": {},
   "source": [
    "# Train the Agent - Deep Q Networks"
   ]
  },
  {
   "cell_type": "code",
   "execution_count": 11,
   "metadata": {},
   "outputs": [
    {
     "name": "stdout",
     "output_type": "stream",
     "text": [
      "WARNING: The minReplayMemory size is smaller than the batch size.\n",
      "WARNING: Small test interval might result in slow training.\n",
      "         Episode=        0 AvgQValue=0.2349 AvgTarget= 0.961 AvgLoss=0.5325 TestReward=  35.1\n",
      "         Episode=       10 AvgQValue=1.9157 AvgTarget=1.9515 AvgLoss=0.0382 TestReward=   9.6\n",
      "         Episode=       20 AvgQValue=3.9458 AvgTarget=3.7434 AvgLoss=0.8642 TestReward=   9.1\n",
      "         Episode=       30 AvgQValue= 5.101 AvgTarget=5.6165 AvgLoss=1.1865 TestReward=   9.1\n",
      "         Episode=       40 AvgQValue=6.1581 AvgTarget=6.2297 AvgLoss=0.5377 TestReward=  23.5\n",
      "         Episode=       50 AvgQValue=9.3283 AvgTarget=9.4791 AvgLoss=1.1184 TestReward=  93.7\n",
      "         Episode=       60 AvgQValue=14.122 AvgTarget= 13.88 AvgLoss=2.8472 TestReward=  82.3\n",
      "         Episode=       70 AvgQValue=23.018 AvgTarget= 23.07 AvgLoss=0.0668 TestReward=   200\n",
      "         Episode=       80 AvgQValue=35.154 AvgTarget=34.551 AvgLoss=12.076 TestReward=   200\n",
      "         Episode=       90 AvgQValue=50.572 AvgTarget= 51.06 AvgLoss=2.0859 TestReward=  90.3\n",
      "         Episode=      100 AvgQValue=59.577 AvgTarget=59.757 AvgLoss=0.1933 TestReward=   200\n",
      "NOTE: Reinforcement learning rlTrainDqn action complete.\n"
     ]
    }
   ],
   "source": [
    "results = conn.reinforcementLearn.rlTrainDqn(\n",
    "    \n",
    "    # RL Arguments\n",
    "    environment=dict(type='remote', url=sasrl_env_url, name='CartPole-v0', render=False, seed=802),\n",
    "    exploration = dict(type=\"linear\", initialEpsilon=0.99, minEpsilon=0.05),\n",
    "    gamma = 0.99,\n",
    "    numEpisodes = 100,\n",
    "    \n",
    "    # NN Arguments\n",
    "    QModel=[{'type':'FC', 'n':100, 'act':'RELU'}],\n",
    "    optimizer=dict(method='ADAM', beta1=0.9, beta2=0.999, learningRate=0.001, miniBatchSize=128),\n",
    "    minReplayMemory = 10,\n",
    "    maxReplayMemory = 1000,\n",
    "    targetUpdateInterval = 100,\n",
    "    \n",
    "    # Test Arguments\n",
    "    testInterval = 10,\n",
    "    numTestEpisodes = 10,\n",
    "    \n",
    "    # Other Arguments\n",
    "    modelOut=dict(name='dqn_weights', replace=True),\n",
    "    seed = 919\n",
    "    \n",
    ")"
   ]
  },
  {
   "cell_type": "code",
   "execution_count": 12,
   "metadata": {},
   "outputs": [
    {
     "data": {
      "text/html": [
       "<div>\n",
       "<style scoped>\n",
       "    .dataframe tbody tr th:only-of-type {\n",
       "        vertical-align: middle;\n",
       "    }\n",
       "\n",
       "    .dataframe tbody tr th {\n",
       "        vertical-align: top;\n",
       "    }\n",
       "\n",
       "    .dataframe thead th {\n",
       "        text-align: right;\n",
       "    }\n",
       "</style>\n",
       "<table border=\"1\" class=\"dataframe\">\n",
       "  <thead>\n",
       "    <tr style=\"text-align: right;\">\n",
       "      <th title=\"\"></th>\n",
       "      <th title=\"Description\">Description</th>\n",
       "      <th title=\"Value\">Value</th>\n",
       "    </tr>\n",
       "  </thead>\n",
       "  <tbody>\n",
       "    <tr>\n",
       "      <td>0</td>\n",
       "      <td>Average QValue</td>\n",
       "      <td>59.577057</td>\n",
       "    </tr>\n",
       "    <tr>\n",
       "      <td>1</td>\n",
       "      <td>Average Target Value</td>\n",
       "      <td>59.756817</td>\n",
       "    </tr>\n",
       "    <tr>\n",
       "      <td>2</td>\n",
       "      <td>Test Reward</td>\n",
       "      <td>200.000000</td>\n",
       "    </tr>\n",
       "  </tbody>\n",
       "</table>\n",
       "</div>"
      ],
      "text/plain": [
       "            Description       Value\n",
       "0        Average QValue   59.577057\n",
       "1  Average Target Value   59.756817\n",
       "2           Test Reward  200.000000"
      ]
     },
     "execution_count": 12,
     "metadata": {},
     "output_type": "execute_result"
    }
   ],
   "source": [
    "results['FinalResult']"
   ]
  },
  {
   "cell_type": "code",
   "execution_count": 13,
   "metadata": {},
   "outputs": [
    {
     "data": {
      "text/html": [
       "<div>\n",
       "<style scoped>\n",
       "    .dataframe tbody tr th:only-of-type {\n",
       "        vertical-align: middle;\n",
       "    }\n",
       "\n",
       "    .dataframe tbody tr th {\n",
       "        vertical-align: top;\n",
       "    }\n",
       "\n",
       "    .dataframe thead th {\n",
       "        text-align: right;\n",
       "    }\n",
       "</style>\n",
       "<table border=\"1\" class=\"dataframe\">\n",
       "  <thead>\n",
       "    <tr style=\"text-align: right;\">\n",
       "      <th title=\"\"></th>\n",
       "      <th title=\"Property\">Property</th>\n",
       "      <th title=\"Value\">Value</th>\n",
       "    </tr>\n",
       "  </thead>\n",
       "  <tbody>\n",
       "    <tr>\n",
       "      <td>0</td>\n",
       "      <td>Number of State Variables</td>\n",
       "      <td>4</td>\n",
       "    </tr>\n",
       "    <tr>\n",
       "      <td>1</td>\n",
       "      <td>Number of Actions</td>\n",
       "      <td>2</td>\n",
       "    </tr>\n",
       "    <tr>\n",
       "      <td>2</td>\n",
       "      <td>Algorithm</td>\n",
       "      <td>DQN</td>\n",
       "    </tr>\n",
       "    <tr>\n",
       "      <td>3</td>\n",
       "      <td>Optimizer</td>\n",
       "      <td>ADAM</td>\n",
       "    </tr>\n",
       "  </tbody>\n",
       "</table>\n",
       "</div>"
      ],
      "text/plain": [
       "                    Property Value\n",
       "0  Number of State Variables     4\n",
       "1          Number of Actions     2\n",
       "2                  Algorithm   DQN\n",
       "3                  Optimizer  ADAM"
      ]
     },
     "execution_count": 13,
     "metadata": {},
     "output_type": "execute_result"
    }
   ],
   "source": [
    "results['ModelInfo']"
   ]
  },
  {
   "cell_type": "code",
   "execution_count": 14,
   "metadata": {},
   "outputs": [
    {
     "data": {
      "text/html": [
       "<div>\n",
       "<style scoped>\n",
       "    .dataframe tbody tr th:only-of-type {\n",
       "        vertical-align: middle;\n",
       "    }\n",
       "\n",
       "    .dataframe tbody tr th {\n",
       "        vertical-align: top;\n",
       "    }\n",
       "\n",
       "    .dataframe thead th {\n",
       "        text-align: right;\n",
       "    }\n",
       "</style>\n",
       "<table border=\"1\" class=\"dataframe\"><caption>Iteration History</caption>\n",
       "  <thead>\n",
       "    <tr style=\"text-align: right;\">\n",
       "      <th title=\"\"></th>\n",
       "      <th title=\"Iteration\">Iteration</th>\n",
       "      <th title=\"Average Q Value\">AvgQValue</th>\n",
       "      <th title=\"Average Target\">AvgTarget</th>\n",
       "      <th title=\"Average Loss\">AvgLoss</th>\n",
       "      <th title=\"Test Reward\">Test Reward</th>\n",
       "    </tr>\n",
       "  </thead>\n",
       "  <tbody>\n",
       "    <tr>\n",
       "      <td>0</td>\n",
       "      <td>0</td>\n",
       "      <td>0.234946</td>\n",
       "      <td>0.961002</td>\n",
       "      <td>0.532523</td>\n",
       "      <td>35.1</td>\n",
       "    </tr>\n",
       "    <tr>\n",
       "      <td>1</td>\n",
       "      <td>10</td>\n",
       "      <td>1.915729</td>\n",
       "      <td>1.951461</td>\n",
       "      <td>0.038171</td>\n",
       "      <td>9.6</td>\n",
       "    </tr>\n",
       "    <tr>\n",
       "      <td>2</td>\n",
       "      <td>20</td>\n",
       "      <td>3.945786</td>\n",
       "      <td>3.743432</td>\n",
       "      <td>0.864210</td>\n",
       "      <td>9.1</td>\n",
       "    </tr>\n",
       "    <tr>\n",
       "      <td>3</td>\n",
       "      <td>30</td>\n",
       "      <td>5.100967</td>\n",
       "      <td>5.616506</td>\n",
       "      <td>1.186548</td>\n",
       "      <td>9.1</td>\n",
       "    </tr>\n",
       "    <tr>\n",
       "      <td>4</td>\n",
       "      <td>40</td>\n",
       "      <td>6.158071</td>\n",
       "      <td>6.229697</td>\n",
       "      <td>0.537693</td>\n",
       "      <td>23.5</td>\n",
       "    </tr>\n",
       "    <tr>\n",
       "      <td>5</td>\n",
       "      <td>50</td>\n",
       "      <td>9.328326</td>\n",
       "      <td>9.479050</td>\n",
       "      <td>1.118423</td>\n",
       "      <td>93.7</td>\n",
       "    </tr>\n",
       "    <tr>\n",
       "      <td>6</td>\n",
       "      <td>60</td>\n",
       "      <td>14.122361</td>\n",
       "      <td>13.879718</td>\n",
       "      <td>2.847176</td>\n",
       "      <td>82.3</td>\n",
       "    </tr>\n",
       "    <tr>\n",
       "      <td>7</td>\n",
       "      <td>70</td>\n",
       "      <td>23.018005</td>\n",
       "      <td>23.070086</td>\n",
       "      <td>0.066761</td>\n",
       "      <td>200.0</td>\n",
       "    </tr>\n",
       "    <tr>\n",
       "      <td>8</td>\n",
       "      <td>80</td>\n",
       "      <td>35.154113</td>\n",
       "      <td>34.551386</td>\n",
       "      <td>12.075914</td>\n",
       "      <td>200.0</td>\n",
       "    </tr>\n",
       "    <tr>\n",
       "      <td>9</td>\n",
       "      <td>90</td>\n",
       "      <td>50.571667</td>\n",
       "      <td>51.059508</td>\n",
       "      <td>2.085892</td>\n",
       "      <td>90.3</td>\n",
       "    </tr>\n",
       "    <tr>\n",
       "      <td>10</td>\n",
       "      <td>100</td>\n",
       "      <td>59.577057</td>\n",
       "      <td>59.756817</td>\n",
       "      <td>0.193343</td>\n",
       "      <td>200.0</td>\n",
       "    </tr>\n",
       "  </tbody>\n",
       "</table>\n",
       "</div>"
      ],
      "text/plain": [
       "Iteration History\n",
       "\n",
       "    Iteration  AvgQValue  AvgTarget    AvgLoss  Test Reward\n",
       "0           0   0.234946   0.961002   0.532523         35.1\n",
       "1          10   1.915729   1.951461   0.038171          9.6\n",
       "2          20   3.945786   3.743432   0.864210          9.1\n",
       "3          30   5.100967   5.616506   1.186548          9.1\n",
       "4          40   6.158071   6.229697   0.537693         23.5\n",
       "5          50   9.328326   9.479050   1.118423         93.7\n",
       "6          60  14.122361  13.879718   2.847176         82.3\n",
       "7          70  23.018005  23.070086   0.066761        200.0\n",
       "8          80  35.154113  34.551386  12.075914        200.0\n",
       "9          90  50.571667  51.059508   2.085892         90.3\n",
       "10        100  59.577057  59.756817   0.193343        200.0"
      ]
     },
     "execution_count": 14,
     "metadata": {},
     "output_type": "execute_result"
    }
   ],
   "source": [
    "results['OptIterHistory']"
   ]
  },
  {
   "cell_type": "code",
   "execution_count": 15,
   "metadata": {},
   "outputs": [
    {
     "data": {
      "image/png": "[encoded data removed]",
      "text/plain": [
       "<Figure size 432x288 with 1 Axes>"
      ]
     },
     "metadata": {
      "needs_background": "light"
     },
     "output_type": "display_data"
    }
   ],
   "source": [
    "plt.plot(results['OptIterHistory']['Iteration'],results['OptIterHistory']['AvgQValue'], color=\"blue\")\n",
    "plt.xlabel(\"Iteration\", fontsize=15)\n",
    "plt.ylabel(\"Average Q Value\", fontsize=15)\n",
    "plt.show()"
   ]
  },
  {
   "cell_type": "code",
   "execution_count": 16,
   "metadata": {},
   "outputs": [
    {
     "data": {
      "image/png": "[encoded data removed]",
      "text/plain": [
       "<Figure size 432x288 with 1 Axes>"
      ]
     },
     "metadata": {
      "needs_background": "light"
     },
     "output_type": "display_data"
    }
   ],
   "source": [
    "plt.plot(results['OptIterHistory']['Iteration'],results['OptIterHistory']['AvgLoss'], color=\"blue\")\n",
    "plt.xlabel(\"Iteration\", fontsize=15)\n",
    "plt.ylabel(\"Average Loss\", fontsize=15)\n",
    "plt.show()"
   ]
  },
  {
   "cell_type": "code",
   "execution_count": 17,
   "metadata": {},
   "outputs": [
    {
     "data": {
      "image/png": "[encoded data removed]",
      "text/plain": [
       "<Figure size 432x288 with 1 Axes>"
      ]
     },
     "metadata": {
      "needs_background": "light"
     },
     "output_type": "display_data"
    }
   ],
   "source": [
    "plt.plot(results['OptIterHistory']['Iteration'],results['OptIterHistory']['Test Reward'], color=\"blue\")\n",
    "plt.xlabel(\"Iteration\", fontsize=15)\n",
    "plt.ylabel(\"Test Reward\", fontsize=15)\n",
    "plt.show()"
   ]
  },
  {
   "cell_type": "markdown",
   "metadata": {},
   "source": [
    "# Score the Model"
   ]
  },
  {
   "cell_type": "code",
   "execution_count": 18,
   "metadata": {},
   "outputs": [
    {
     "name": "stdout",
     "output_type": "stream",
     "text": [
      "         Episode=        1 Step=        1 LastReward=     0 AverageReward=     1\n",
      "         Episode=        1 Step=        2 LastReward=     0 AverageReward=     2\n",
      "         Episode=        1 Step=        3 LastReward=     0 AverageReward=     3\n",
      "         Episode=        1 Step=        4 LastReward=     0 AverageReward=     4\n",
      "         Episode=        1 Step=        5 LastReward=     0 AverageReward=     5\n",
      "         Episode=        1 Step=        6 LastReward=     0 AverageReward=     6\n",
      "         Episode=        1 Step=        7 LastReward=     0 AverageReward=     7\n",
      "         Episode=        1 Step=        8 LastReward=     0 AverageReward=     8\n",
      "         Episode=        1 Step=        9 LastReward=     0 AverageReward=     9\n",
      "         Episode=        1 Step=       10 LastReward=     0 AverageReward=    10\n",
      "         Episode=        1 Step=       11 LastReward=     0 AverageReward=    11\n",
      "         Episode=        1 Step=       12 LastReward=     0 AverageReward=    12\n",
      "         Episode=        1 Step=       13 LastReward=     0 AverageReward=    13\n",
      "         Episode=        1 Step=       14 LastReward=     0 AverageReward=    14\n",
      "         Episode=        1 Step=       15 LastReward=     0 AverageReward=    15\n",
      "         Episode=        1 Step=       16 LastReward=     0 AverageReward=    16\n",
      "         Episode=        1 Step=       17 LastReward=     0 AverageReward=    17\n",
      "         Episode=        1 Step=       18 LastReward=     0 AverageReward=    18\n",
      "         Episode=        1 Step=       19 LastReward=     0 AverageReward=    19\n",
      "         Episode=        1 Step=       20 LastReward=     0 AverageReward=    20\n",
      "         Episode=        1 Step=       21 LastReward=     0 AverageReward=    21\n",
      "         Episode=        1 Step=       22 LastReward=     0 AverageReward=    22\n",
      "         Episode=        1 Step=       23 LastReward=     0 AverageReward=    23\n",
      "         Episode=        1 Step=       24 LastReward=     0 AverageReward=    24\n",
      "         Episode=        1 Step=       25 LastReward=     0 AverageReward=    25\n",
      "         Episode=        1 Step=       26 LastReward=     0 AverageReward=    26\n",
      "         Episode=        1 Step=       27 LastReward=     0 AverageReward=    27\n",
      "         Episode=        1 Step=       28 LastReward=     0 AverageReward=    28\n",
      "         Episode=        1 Step=       29 LastReward=     0 AverageReward=    29\n",
      "         Episode=        1 Step=       30 LastReward=     0 AverageReward=    30\n",
      "         Episode=        1 Step=       31 LastReward=     0 AverageReward=    31\n",
      "         Episode=        1 Step=       32 LastReward=     0 AverageReward=    32\n",
      "         Episode=        1 Step=       33 LastReward=     0 AverageReward=    33\n",
      "         Episode=        1 Step=       34 LastReward=     0 AverageReward=    34\n",
      "         Episode=        1 Step=       35 LastReward=     0 AverageReward=    35\n",
      "         Episode=        1 Step=       36 LastReward=     0 AverageReward=    36\n",
      "         Episode=        1 Step=       37 LastReward=     0 AverageReward=    37\n",
      "         Episode=        1 Step=       38 LastReward=     0 AverageReward=    38\n",
      "         Episode=        1 Step=       39 LastReward=     0 AverageReward=    39\n",
      "         Episode=        1 Step=       40 LastReward=     0 AverageReward=    40\n",
      "         Episode=        1 Step=       41 LastReward=     0 AverageReward=    41\n",
      "         Episode=        1 Step=       42 LastReward=     0 AverageReward=    42\n",
      "         Episode=        1 Step=       43 LastReward=     0 AverageReward=    43\n",
      "         Episode=        1 Step=       44 LastReward=     0 AverageReward=    44\n",
      "         Episode=        1 Step=       45 LastReward=     0 AverageReward=    45\n",
      "         Episode=        1 Step=       46 LastReward=     0 AverageReward=    46\n",
      "         Episode=        1 Step=       47 LastReward=     0 AverageReward=    47\n",
      "         Episode=        1 Step=       48 LastReward=     0 AverageReward=    48\n",
      "         Episode=        1 Step=       49 LastReward=     0 AverageReward=    49\n",
      "         Episode=        1 Step=       50 LastReward=     0 AverageReward=    50\n",
      "         Episode=        1 Step=       51 LastReward=     0 AverageReward=    51\n",
      "         Episode=        1 Step=       52 LastReward=     0 AverageReward=    52\n",
      "         Episode=        1 Step=       53 LastReward=     0 AverageReward=    53\n",
      "         Episode=        1 Step=       54 LastReward=     0 AverageReward=    54\n",
      "         Episode=        1 Step=       55 LastReward=     0 AverageReward=    55\n",
      "         Episode=        1 Step=       56 LastReward=     0 AverageReward=    56\n",
      "         Episode=        1 Step=       57 LastReward=     0 AverageReward=    57\n",
      "         Episode=        1 Step=       58 LastReward=     0 AverageReward=    58\n",
      "         Episode=        1 Step=       59 LastReward=     0 AverageReward=    59\n",
      "         Episode=        1 Step=       60 LastReward=     0 AverageReward=    60\n",
      "         Episode=        1 Step=       61 LastReward=     0 AverageReward=    61\n",
      "         Episode=        1 Step=       62 LastReward=     0 AverageReward=    62\n",
      "         Episode=        1 Step=       63 LastReward=     0 AverageReward=    63\n",
      "         Episode=        1 Step=       64 LastReward=     0 AverageReward=    64\n",
      "         Episode=        1 Step=       65 LastReward=     0 AverageReward=    65\n",
      "         Episode=        1 Step=       66 LastReward=     0 AverageReward=    66\n",
      "         Episode=        1 Step=       67 LastReward=     0 AverageReward=    67\n",
      "         Episode=        1 Step=       68 LastReward=     0 AverageReward=    68\n",
      "         Episode=        1 Step=       69 LastReward=     0 AverageReward=    69\n",
      "         Episode=        1 Step=       70 LastReward=     0 AverageReward=    70\n",
      "         Episode=        1 Step=       71 LastReward=     0 AverageReward=    71\n",
      "         Episode=        1 Step=       72 LastReward=     0 AverageReward=    72\n",
      "         Episode=        1 Step=       73 LastReward=     0 AverageReward=    73\n",
      "         Episode=        1 Step=       74 LastReward=     0 AverageReward=    74\n",
      "         Episode=        1 Step=       75 LastReward=     0 AverageReward=    75\n",
      "         Episode=        1 Step=       76 LastReward=     0 AverageReward=    76\n",
      "         Episode=        1 Step=       77 LastReward=     0 AverageReward=    77\n",
      "         Episode=        1 Step=       78 LastReward=     0 AverageReward=    78\n",
      "         Episode=        1 Step=       79 LastReward=     0 AverageReward=    79\n",
      "         Episode=        1 Step=       80 LastReward=     0 AverageReward=    80\n",
      "         Episode=        1 Step=       81 LastReward=     0 AverageReward=    81\n",
      "         Episode=        1 Step=       82 LastReward=     0 AverageReward=    82\n",
      "         Episode=        1 Step=       83 LastReward=     0 AverageReward=    83\n",
      "         Episode=        1 Step=       84 LastReward=     0 AverageReward=    84\n",
      "         Episode=        1 Step=       85 LastReward=     0 AverageReward=    85\n",
      "         Episode=        1 Step=       86 LastReward=     0 AverageReward=    86\n",
      "         Episode=        1 Step=       87 LastReward=     0 AverageReward=    87\n",
      "         Episode=        1 Step=       88 LastReward=     0 AverageReward=    88\n",
      "         Episode=        1 Step=       89 LastReward=     0 AverageReward=    89\n",
      "         Episode=        1 Step=       90 LastReward=     0 AverageReward=    90\n",
      "         Episode=        1 Step=       91 LastReward=     0 AverageReward=    91\n",
      "         Episode=        1 Step=       92 LastReward=     0 AverageReward=    92\n",
      "         Episode=        1 Step=       93 LastReward=     0 AverageReward=    93\n",
      "         Episode=        1 Step=       94 LastReward=     0 AverageReward=    94\n",
      "         Episode=        1 Step=       95 LastReward=     0 AverageReward=    95\n",
      "         Episode=        1 Step=       96 LastReward=     0 AverageReward=    96\n",
      "         Episode=        1 Step=       97 LastReward=     0 AverageReward=    97\n",
      "         Episode=        1 Step=       98 LastReward=     0 AverageReward=    98\n",
      "         Episode=        1 Step=       99 LastReward=     0 AverageReward=    99\n",
      "         Episode=        1 Step=      100 LastReward=     0 AverageReward=   100\n",
      "         Episode=        1 Step=      101 LastReward=     0 AverageReward=   101\n",
      "         Episode=        1 Step=      102 LastReward=     0 AverageReward=   102\n",
      "         Episode=        1 Step=      103 LastReward=     0 AverageReward=   103\n",
      "         Episode=        1 Step=      104 LastReward=     0 AverageReward=   104\n",
      "         Episode=        1 Step=      105 LastReward=     0 AverageReward=   105\n",
      "         Episode=        1 Step=      106 LastReward=     0 AverageReward=   106\n",
      "         Episode=        1 Step=      107 LastReward=     0 AverageReward=   107\n",
      "         Episode=        1 Step=      108 LastReward=     0 AverageReward=   108\n",
      "         Episode=        1 Step=      109 LastReward=     0 AverageReward=   109\n",
      "         Episode=        1 Step=      110 LastReward=     0 AverageReward=   110\n",
      "         Episode=        1 Step=      111 LastReward=     0 AverageReward=   111\n",
      "         Episode=        1 Step=      112 LastReward=     0 AverageReward=   112\n",
      "         Episode=        1 Step=      113 LastReward=     0 AverageReward=   113\n",
      "         Episode=        1 Step=      114 LastReward=     0 AverageReward=   114\n",
      "         Episode=        1 Step=      115 LastReward=     0 AverageReward=   115\n",
      "         Episode=        1 Step=      116 LastReward=     0 AverageReward=   116\n",
      "         Episode=        1 Step=      117 LastReward=     0 AverageReward=   117\n",
      "         Episode=        1 Step=      118 LastReward=     0 AverageReward=   118\n",
      "         Episode=        1 Step=      119 LastReward=     0 AverageReward=   119\n",
      "         Episode=        1 Step=      120 LastReward=     0 AverageReward=   120\n",
      "         Episode=        1 Step=      121 LastReward=     0 AverageReward=   121\n",
      "         Episode=        1 Step=      122 LastReward=     0 AverageReward=   122\n",
      "         Episode=        1 Step=      123 LastReward=     0 AverageReward=   123\n",
      "         Episode=        1 Step=      124 LastReward=     0 AverageReward=   124\n",
      "         Episode=        1 Step=      125 LastReward=     0 AverageReward=   125\n",
      "         Episode=        1 Step=      126 LastReward=     0 AverageReward=   126\n",
      "         Episode=        1 Step=      127 LastReward=     0 AverageReward=   127\n",
      "         Episode=        1 Step=      128 LastReward=     0 AverageReward=   128\n",
      "         Episode=        1 Step=      129 LastReward=     0 AverageReward=   129\n",
      "         Episode=        1 Step=      130 LastReward=     0 AverageReward=   130\n",
      "         Episode=        1 Step=      131 LastReward=     0 AverageReward=   131\n",
      "         Episode=        1 Step=      132 LastReward=     0 AverageReward=   132\n",
      "         Episode=        1 Step=      133 LastReward=     0 AverageReward=   133\n",
      "         Episode=        1 Step=      134 LastReward=     0 AverageReward=   134\n",
      "         Episode=        1 Step=      135 LastReward=     0 AverageReward=   135\n",
      "         Episode=        1 Step=      136 LastReward=     0 AverageReward=   136\n",
      "         Episode=        1 Step=      137 LastReward=     0 AverageReward=   137\n",
      "         Episode=        1 Step=      138 LastReward=     0 AverageReward=   138\n",
      "         Episode=        1 Step=      139 LastReward=     0 AverageReward=   139\n",
      "         Episode=        1 Step=      140 LastReward=     0 AverageReward=   140\n",
      "         Episode=        1 Step=      141 LastReward=     0 AverageReward=   141\n",
      "         Episode=        1 Step=      142 LastReward=     0 AverageReward=   142\n",
      "         Episode=        1 Step=      143 LastReward=     0 AverageReward=   143\n",
      "         Episode=        1 Step=      144 LastReward=     0 AverageReward=   144\n",
      "         Episode=        1 Step=      145 LastReward=     0 AverageReward=   145\n",
      "         Episode=        1 Step=      146 LastReward=     0 AverageReward=   146\n",
      "         Episode=        1 Step=      147 LastReward=     0 AverageReward=   147\n",
      "         Episode=        1 Step=      148 LastReward=     0 AverageReward=   148\n",
      "         Episode=        1 Step=      149 LastReward=     0 AverageReward=   149\n",
      "         Episode=        1 Step=      150 LastReward=     0 AverageReward=   150\n",
      "         Episode=        1 Step=      151 LastReward=     0 AverageReward=   151\n",
      "         Episode=        1 Step=      152 LastReward=     0 AverageReward=   152\n",
      "         Episode=        1 Step=      153 LastReward=     0 AverageReward=   153\n",
      "         Episode=        1 Step=      154 LastReward=     0 AverageReward=   154\n",
      "         Episode=        1 Step=      155 LastReward=     0 AverageReward=   155\n",
      "         Episode=        1 Step=      156 LastReward=     0 AverageReward=   156\n",
      "         Episode=        1 Step=      157 LastReward=     0 AverageReward=   157\n",
      "         Episode=        1 Step=      158 LastReward=     0 AverageReward=   158\n",
      "         Episode=        1 Step=      159 LastReward=     0 AverageReward=   159\n",
      "         Episode=        1 Step=      160 LastReward=     0 AverageReward=   160\n",
      "         Episode=        1 Step=      161 LastReward=     0 AverageReward=   161\n",
      "         Episode=        1 Step=      162 LastReward=     0 AverageReward=   162\n",
      "         Episode=        1 Step=      163 LastReward=     0 AverageReward=   163\n",
      "         Episode=        1 Step=      164 LastReward=     0 AverageReward=   164\n",
      "         Episode=        1 Step=      165 LastReward=     0 AverageReward=   165\n",
      "         Episode=        1 Step=      166 LastReward=     0 AverageReward=   166\n",
      "         Episode=        1 Step=      167 LastReward=     0 AverageReward=   167\n",
      "         Episode=        1 Step=      168 LastReward=     0 AverageReward=   168\n",
      "         Episode=        1 Step=      169 LastReward=     0 AverageReward=   169\n",
      "         Episode=        1 Step=      170 LastReward=     0 AverageReward=   170\n",
      "         Episode=        1 Step=      171 LastReward=     0 AverageReward=   171\n",
      "         Episode=        1 Step=      172 LastReward=     0 AverageReward=   172\n",
      "         Episode=        1 Step=      173 LastReward=     0 AverageReward=   173\n",
      "         Episode=        1 Step=      174 LastReward=     0 AverageReward=   174\n",
      "         Episode=        1 Step=      175 LastReward=     0 AverageReward=   175\n",
      "         Episode=        1 Step=      176 LastReward=     0 AverageReward=   176\n",
      "         Episode=        1 Step=      177 LastReward=     0 AverageReward=   177\n",
      "         Episode=        1 Step=      178 LastReward=     0 AverageReward=   178\n",
      "         Episode=        1 Step=      179 LastReward=     0 AverageReward=   179\n",
      "         Episode=        1 Step=      180 LastReward=     0 AverageReward=   180\n",
      "         Episode=        1 Step=      181 LastReward=     0 AverageReward=   181\n",
      "         Episode=        1 Step=      182 LastReward=     0 AverageReward=   182\n",
      "         Episode=        1 Step=      183 LastReward=     0 AverageReward=   183\n",
      "         Episode=        1 Step=      184 LastReward=     0 AverageReward=   184\n",
      "         Episode=        1 Step=      185 LastReward=     0 AverageReward=   185\n",
      "         Episode=        1 Step=      186 LastReward=     0 AverageReward=   186\n",
      "         Episode=        1 Step=      187 LastReward=     0 AverageReward=   187\n",
      "         Episode=        1 Step=      188 LastReward=     0 AverageReward=   188\n",
      "         Episode=        1 Step=      189 LastReward=     0 AverageReward=   189\n",
      "         Episode=        1 Step=      190 LastReward=     0 AverageReward=   190\n",
      "         Episode=        1 Step=      191 LastReward=     0 AverageReward=   191\n",
      "         Episode=        1 Step=      192 LastReward=     0 AverageReward=   192\n",
      "         Episode=        1 Step=      193 LastReward=     0 AverageReward=   193\n",
      "         Episode=        1 Step=      194 LastReward=     0 AverageReward=   194\n",
      "         Episode=        1 Step=      195 LastReward=     0 AverageReward=   195\n",
      "         Episode=        1 Step=      196 LastReward=     0 AverageReward=   196\n",
      "         Episode=        1 Step=      197 LastReward=     0 AverageReward=   197\n",
      "         Episode=        1 Step=      198 LastReward=     0 AverageReward=   198\n",
      "         Episode=        1 Step=      199 LastReward=     0 AverageReward=   199\n",
      "         Episode=        1 Step=      200 LastReward=     0 AverageReward=   200\n",
      "NOTE: Reinforcement learning rlScore action complete.\n"
     ]
    },
    {
     "data": {
      "text/html": [
       "<div class=\"cas-results-key\"><b>&#167; ScoreInfo</b></div>\n",
       "<div class=\"cas-results-body\">\n",
       "<div>\n",
       "<style scoped>\n",
       "    .dataframe tbody tr th:only-of-type {\n",
       "        vertical-align: middle;\n",
       "    }\n",
       "\n",
       "    .dataframe tbody tr th {\n",
       "        vertical-align: top;\n",
       "    }\n",
       "\n",
       "    .dataframe thead th {\n",
       "        text-align: right;\n",
       "    }\n",
       "</style>\n",
       "<table border=\"1\" class=\"dataframe\">\n",
       "  <thead>\n",
       "    <tr style=\"text-align: right;\">\n",
       "      <th title=\"\"></th>\n",
       "      <th title=\"Property\">Property</th>\n",
       "      <th title=\"Value\">Value</th>\n",
       "    </tr>\n",
       "  </thead>\n",
       "  <tbody>\n",
       "    <tr>\n",
       "      <td>0</td>\n",
       "      <td>Number of State Variables</td>\n",
       "      <td>4</td>\n",
       "    </tr>\n",
       "    <tr>\n",
       "      <td>1</td>\n",
       "      <td>Number of Actions</td>\n",
       "      <td>2</td>\n",
       "    </tr>\n",
       "    <tr>\n",
       "      <td>2</td>\n",
       "      <td>Algorithm</td>\n",
       "      <td>DQN</td>\n",
       "    </tr>\n",
       "    <tr>\n",
       "      <td>3</td>\n",
       "      <td>Optimizer</td>\n",
       "      <td>ADAM</td>\n",
       "    </tr>\n",
       "  </tbody>\n",
       "</table>\n",
       "</div>\n",
       "</div>\n",
       "<div class=\"cas-output-area\"></div>\n",
       "<p class=\"cas-results-performance\"><small><span class=\"cas-elapsed\">elapsed 10.6s</span> &#183; <span class=\"cas-user\">user 0.289s</span> &#183; <span class=\"cas-sys\">sys 0.0809s</span> &#183; <span class=\"cas-memory\">mem 17.4MB</span></small></p>"
      ],
      "text/plain": [
       "[ScoreInfo]\n",
       "\n",
       "                     Property Value\n",
       " 0  Number of State Variables     4\n",
       " 1          Number of Actions     2\n",
       " 2                  Algorithm   DQN\n",
       " 3                  Optimizer  ADAM\n",
       "\n",
       "+ Elapsed: 10.6s, user: 0.289s, sys: 0.0809s, mem: 17.4mb"
      ]
     },
     "execution_count": 18,
     "metadata": {},
     "output_type": "execute_result"
    }
   ],
   "source": [
    "conn.reinforcementLearn.rlScore(\n",
    "    environment=dict(type='remote', url=sasrl_env_url, name='CartPole-v0', \n",
    "                     render=True, renderFreq=10, renderSleep=0.02, seed=802),\n",
    "    model='dqn_weights',\n",
    "    numEpisodes=1,\n",
    "    logFreq=1,\n",
    "    casout=dict(name='scored_table', replace=True)\n",
    ")"
   ]
  },
  {
   "cell_type": "markdown",
   "metadata": {},
   "source": [
    "# Download Final Test"
   ]
  },
  {
   "cell_type": "code",
   "execution_count": 19,
   "metadata": {},
   "outputs": [
    {
     "data": {
      "text/html": [
       "<div>\n",
       "<style scoped>\n",
       "    .dataframe tbody tr th:only-of-type {\n",
       "        vertical-align: middle;\n",
       "    }\n",
       "\n",
       "    .dataframe tbody tr th {\n",
       "        vertical-align: top;\n",
       "    }\n",
       "\n",
       "    .dataframe thead th {\n",
       "        text-align: right;\n",
       "    }\n",
       "</style>\n",
       "<table border=\"1\" class=\"dataframe\"><caption>Selected Rows from Table SCORED_TABLE</caption>\n",
       "  <thead>\n",
       "    <tr style=\"text-align: right;\">\n",
       "      <th title=\"\"></th>\n",
       "      <th title=\"_Step_\">_Step_</th>\n",
       "      <th title=\"_Episode_\">_Episode_</th>\n",
       "      <th title=\"_State_0\">_State_0</th>\n",
       "      <th title=\"_State_1\">_State_1</th>\n",
       "      <th title=\"_State_2\">_State_2</th>\n",
       "      <th title=\"_State_3\">_State_3</th>\n",
       "      <th title=\"_Action_\">_Action_</th>\n",
       "      <th title=\"_Reward_\">_Reward_</th>\n",
       "      <th title=\"_Done_\">_Done_</th>\n",
       "    </tr>\n",
       "  </thead>\n",
       "  <tbody>\n",
       "    <tr>\n",
       "      <td>0</td>\n",
       "      <td>0.0</td>\n",
       "      <td>1.0</td>\n",
       "      <td>-0.024137</td>\n",
       "      <td>-0.035394</td>\n",
       "      <td>-0.013526</td>\n",
       "      <td>0.010430</td>\n",
       "      <td>0.0</td>\n",
       "      <td>1.0</td>\n",
       "      <td>0.0</td>\n",
       "    </tr>\n",
       "    <tr>\n",
       "      <td>1</td>\n",
       "      <td>1.0</td>\n",
       "      <td>1.0</td>\n",
       "      <td>-0.024845</td>\n",
       "      <td>-0.230319</td>\n",
       "      <td>-0.013317</td>\n",
       "      <td>0.298815</td>\n",
       "      <td>0.0</td>\n",
       "      <td>1.0</td>\n",
       "      <td>0.0</td>\n",
       "    </tr>\n",
       "    <tr>\n",
       "      <td>2</td>\n",
       "      <td>2.0</td>\n",
       "      <td>1.0</td>\n",
       "      <td>-0.029451</td>\n",
       "      <td>-0.425249</td>\n",
       "      <td>-0.007341</td>\n",
       "      <td>0.587268</td>\n",
       "      <td>1.0</td>\n",
       "      <td>1.0</td>\n",
       "      <td>0.0</td>\n",
       "    </tr>\n",
       "    <tr>\n",
       "      <td>3</td>\n",
       "      <td>3.0</td>\n",
       "      <td>1.0</td>\n",
       "      <td>-0.037956</td>\n",
       "      <td>-0.230025</td>\n",
       "      <td>0.004404</td>\n",
       "      <td>0.292281</td>\n",
       "      <td>1.0</td>\n",
       "      <td>1.0</td>\n",
       "      <td>0.0</td>\n",
       "    </tr>\n",
       "    <tr>\n",
       "      <td>4</td>\n",
       "      <td>4.0</td>\n",
       "      <td>1.0</td>\n",
       "      <td>-0.042557</td>\n",
       "      <td>-0.034966</td>\n",
       "      <td>0.010250</td>\n",
       "      <td>0.000991</td>\n",
       "      <td>0.0</td>\n",
       "      <td>1.0</td>\n",
       "      <td>0.0</td>\n",
       "    </tr>\n",
       "    <tr>\n",
       "      <td>...</td>\n",
       "      <td>...</td>\n",
       "      <td>...</td>\n",
       "      <td>...</td>\n",
       "      <td>...</td>\n",
       "      <td>...</td>\n",
       "      <td>...</td>\n",
       "      <td>...</td>\n",
       "      <td>...</td>\n",
       "      <td>...</td>\n",
       "    </tr>\n",
       "    <tr>\n",
       "      <td>195</td>\n",
       "      <td>195.0</td>\n",
       "      <td>1.0</td>\n",
       "      <td>0.002733</td>\n",
       "      <td>0.156469</td>\n",
       "      <td>-0.000149</td>\n",
       "      <td>-0.210347</td>\n",
       "      <td>0.0</td>\n",
       "      <td>1.0</td>\n",
       "      <td>0.0</td>\n",
       "    </tr>\n",
       "    <tr>\n",
       "      <td>196</td>\n",
       "      <td>196.0</td>\n",
       "      <td>1.0</td>\n",
       "      <td>0.005863</td>\n",
       "      <td>-0.038651</td>\n",
       "      <td>-0.004356</td>\n",
       "      <td>0.082289</td>\n",
       "      <td>0.0</td>\n",
       "      <td>1.0</td>\n",
       "      <td>0.0</td>\n",
       "    </tr>\n",
       "    <tr>\n",
       "      <td>197</td>\n",
       "      <td>197.0</td>\n",
       "      <td>1.0</td>\n",
       "      <td>0.005090</td>\n",
       "      <td>-0.233711</td>\n",
       "      <td>-0.002710</td>\n",
       "      <td>0.373595</td>\n",
       "      <td>1.0</td>\n",
       "      <td>1.0</td>\n",
       "      <td>0.0</td>\n",
       "    </tr>\n",
       "    <tr>\n",
       "      <td>198</td>\n",
       "      <td>198.0</td>\n",
       "      <td>1.0</td>\n",
       "      <td>0.000415</td>\n",
       "      <td>-0.038550</td>\n",
       "      <td>0.004762</td>\n",
       "      <td>0.080058</td>\n",
       "      <td>1.0</td>\n",
       "      <td>1.0</td>\n",
       "      <td>0.0</td>\n",
       "    </tr>\n",
       "    <tr>\n",
       "      <td>199</td>\n",
       "      <td>199.0</td>\n",
       "      <td>1.0</td>\n",
       "      <td>-0.000356</td>\n",
       "      <td>0.156503</td>\n",
       "      <td>0.006363</td>\n",
       "      <td>-0.211118</td>\n",
       "      <td>0.0</td>\n",
       "      <td>1.0</td>\n",
       "      <td>1.0</td>\n",
       "    </tr>\n",
       "  </tbody>\n",
       "</table>\n",
       "<p>200 rows × 9 columns</p>\n",
       "</div>"
      ],
      "text/plain": [
       "Selected Rows from Table SCORED_TABLE\n",
       "\n",
       "     _Step_  _Episode_  _State_0  _State_1  _State_2  _State_3  _Action_  _Reward_  _Done_\n",
       "0       0.0        1.0 -0.024137 -0.035394 -0.013526  0.010430       0.0       1.0     0.0\n",
       "1       1.0        1.0 -0.024845 -0.230319 -0.013317  0.298815       0.0       1.0     0.0\n",
       "2       2.0        1.0 -0.029451 -0.425249 -0.007341  0.587268       1.0       1.0     0.0\n",
       "3       3.0        1.0 -0.037956 -0.230025  0.004404  0.292281       1.0       1.0     0.0\n",
       "4       4.0        1.0 -0.042557 -0.034966  0.010250  0.000991       0.0       1.0     0.0\n",
       "5       5.0        1.0 -0.043256 -0.230233  0.010270  0.296890       1.0       1.0     0.0\n",
       "6       6.0        1.0 -0.047861 -0.035259  0.016207  0.007463       0.0       1.0     0.0\n",
       "7       7.0        1.0 -0.048566 -0.230610  0.016357  0.305216       1.0       1.0     0.0\n",
       "8       8.0        1.0 -0.053178 -0.035725  0.022461  0.017736       1.0       1.0     0.0\n",
       "9       9.0        1.0 -0.053892  0.159068  0.022816 -0.267777       0.0       1.0     0.0\n",
       "10     10.0        1.0 -0.050711 -0.036372  0.017460  0.032014       1.0       1.0     0.0\n",
       "11     11.0        1.0 -0.051439  0.158495  0.018100 -0.255109       0.0       1.0     0.0\n",
       "12     12.0        1.0 -0.048269 -0.036881  0.012998  0.043228       1.0       1.0     0.0\n",
       "13     13.0        1.0 -0.049006  0.158053  0.013863 -0.245326       0.0       1.0     0.0\n",
       "14     14.0        1.0 -0.045845 -0.037265  0.008956  0.051697       1.0       1.0     0.0\n",
       "15     15.0        1.0 -0.046590  0.157728  0.009990 -0.238147       0.0       1.0     0.0\n",
       "16     16.0        1.0 -0.043436 -0.037535  0.005227  0.057671       1.0       1.0     0.0\n",
       "17     17.0        1.0 -0.044187  0.157511  0.006381 -0.233358       0.0       1.0     0.0\n",
       "18     18.0        1.0 -0.041036 -0.037701  0.001714  0.061330       1.0       1.0     0.0\n",
       "19     19.0        1.0 -0.041790  0.157396  0.002940 -0.230811       0.0       1.0     0.0\n",
       "20     20.0        1.0 -0.038643 -0.037768 -0.001676  0.062797       0.0       1.0     0.0\n",
       "21     21.0        1.0 -0.039398 -0.232866 -0.000420  0.354951       1.0       1.0     0.0\n",
       "22     22.0        1.0 -0.044055 -0.037738  0.006679  0.062136       1.0       1.0     0.0\n",
       "23     23.0        1.0 -0.044810  0.157288  0.007922 -0.228433       0.0       1.0     0.0\n",
       "24     24.0        1.0 -0.041664 -0.037946  0.003353  0.066739       1.0       1.0     0.0\n",
       "25     25.0        1.0 -0.042423  0.157127  0.004688 -0.224885       0.0       1.0     0.0\n",
       "26     26.0        1.0 -0.039281 -0.038061  0.000190  0.069273       1.0       1.0     0.0\n",
       "27     27.0        1.0 -0.040042  0.157058  0.001576 -0.223350       0.0       1.0     0.0\n",
       "28     28.0        1.0 -0.036901 -0.038087 -0.002891  0.069830       0.0       1.0     0.0\n",
       "29     29.0        1.0 -0.037662 -0.233167 -0.001495  0.361599       1.0       1.0     0.0\n",
       "30     30.0        1.0 -0.042326 -0.038024  0.005737  0.068445       1.0       1.0     0.0\n",
       "31     31.0        1.0 -0.043086  0.157015  0.007106 -0.222422       0.0       1.0     0.0\n",
       "32     32.0        1.0 -0.039946 -0.038207  0.002658  0.072494       1.0       1.0     0.0\n",
       "33     33.0        1.0 -0.040710  0.156876  0.004107 -0.219349       0.0       1.0     0.0\n",
       "34     34.0        1.0 -0.037572 -0.038304 -0.000280  0.074626       1.0       1.0     0.0\n",
       "35     35.0        1.0 -0.038339  0.156822  0.001213 -0.218145       0.0       1.0     0.0\n",
       "36     36.0        1.0 -0.035202 -0.038317 -0.003150  0.074920       1.0       1.0     0.0\n",
       "37     37.0        1.0 -0.035968  0.156850 -0.001652 -0.218755       0.0       1.0     0.0\n",
       "38     38.0        1.0 -0.032831 -0.038249 -0.006027  0.073407       0.0       1.0     0.0\n",
       "39     39.0        1.0 -0.033596 -0.233284 -0.004558  0.364182       1.0       1.0     0.0\n",
       "40     40.0        1.0 -0.038262 -0.038097  0.002725  0.070066       1.0       1.0     0.0\n",
       "41     41.0        1.0 -0.039024  0.156985  0.004126 -0.221756       0.0       1.0     0.0\n",
       "42     42.0        1.0 -0.035884 -0.038195 -0.000309  0.072225       1.0       1.0     0.0\n",
       "43     43.0        1.0 -0.036648  0.156931  0.001136 -0.220555       0.0       1.0     0.0\n",
       "44     44.0        1.0 -0.033510 -0.038207 -0.003275  0.072486       0.0       1.0     0.0\n",
       "45     45.0        1.0 -0.034274 -0.233282 -0.001826  0.364134       1.0       1.0     0.0\n",
       "46     46.0        1.0 -0.038939 -0.038134  0.005457  0.070876       1.0       1.0     0.0\n",
       "47     47.0        1.0 -0.039702  0.156909  0.006875 -0.220080       0.0       1.0     0.0\n",
       "48     48.0        1.0 -0.036564 -0.038310  0.002473  0.074763       1.0       1.0     0.0\n",
       "49     49.0        1.0 -0.037330  0.156776  0.003968 -0.217138       0.0       1.0     0.0\n",
       "50     50.0        1.0 -0.034195 -0.038402 -0.000374  0.076794       1.0       1.0     0.0\n",
       "51     51.0        1.0 -0.034963  0.156725  0.001161 -0.216007       0.0       1.0     0.0\n",
       "52     52.0        1.0 -0.031828 -0.038414 -0.003159  0.077042       1.0       1.0     0.0\n",
       "53     53.0        1.0 -0.032596  0.156754 -0.001618 -0.216636       0.0       1.0     0.0\n",
       "54     54.0        1.0 -0.029461 -0.038345 -0.005951  0.075536       0.0       1.0     0.0\n",
       "55     55.0        1.0 -0.030228 -0.233381 -0.004440  0.366336       1.0       1.0     0.0\n",
       "56     56.0        1.0 -0.034896 -0.038197  0.002887  0.072256       1.0       1.0     0.0\n",
       "57     57.0        1.0 -0.035660  0.156884  0.004332 -0.219515       0.0       1.0     0.0\n",
       "58     58.0        1.0 -0.032522 -0.038300 -0.000058  0.074532       1.0       1.0     0.0\n",
       "59     59.0        1.0 -0.033288  0.156823  0.001432 -0.218170       0.0       1.0     0.0\n",
       "60     60.0        1.0 -0.030152 -0.038319 -0.002931  0.074965       1.0       1.0     0.0\n",
       "61     61.0        1.0 -0.030918  0.156844 -0.001432 -0.218642       0.0       1.0     0.0\n",
       "62     62.0        1.0 -0.027781 -0.038257 -0.005805  0.073589       0.0       1.0     0.0\n",
       "63     63.0        1.0 -0.028546 -0.233295 -0.004333  0.364435       1.0       1.0     0.0\n",
       "64     64.0        1.0 -0.033212 -0.038112  0.002956  0.070389       1.0       1.0     0.0\n",
       "65     65.0        1.0 -0.033974  0.156967  0.004364 -0.221360       0.0       1.0     0.0\n",
       "66     66.0        1.0 -0.030835 -0.038217 -0.000064  0.072697       1.0       1.0     0.0\n",
       "67     67.0        1.0 -0.031599  0.156906  0.001390 -0.220006       0.0       1.0     0.0\n",
       "68     68.0        1.0 -0.028461 -0.038235 -0.003010  0.073115       0.0       1.0     0.0\n",
       "69     69.0        1.0 -0.029226 -0.233314 -0.001547  0.364847       1.0       1.0     0.0\n",
       "70     70.0        1.0 -0.033892 -0.038170  0.005750  0.071676       1.0       1.0     0.0\n",
       "71     71.0        1.0 -0.034656  0.156869  0.007183 -0.219187       0.0       1.0     0.0\n",
       "72     72.0        1.0 -0.031518 -0.038355  0.002799  0.075753       1.0       1.0     0.0\n",
       "73     73.0        1.0 -0.032285  0.156727  0.004314 -0.216045       0.0       1.0     0.0\n",
       "74     74.0        1.0 -0.029151 -0.038457 -0.000007  0.077995       1.0       1.0     0.0\n",
       "75     75.0        1.0 -0.029920  0.156665  0.001553 -0.214690       0.0       1.0     0.0\n",
       "76     76.0        1.0 -0.026787 -0.038479 -0.002740  0.078483       1.0       1.0     0.0\n",
       "77     77.0        1.0 -0.027556  0.156682 -0.001171 -0.215063       0.0       1.0     0.0\n",
       "78     78.0        1.0 -0.024423 -0.038423 -0.005472  0.077250       0.0       1.0     0.0\n",
       "79     79.0        1.0 -0.025191 -0.233466 -0.003927  0.368201       1.0       1.0     0.0\n",
       "80     80.0        1.0 -0.029860 -0.038288  0.003437  0.074283       1.0       1.0     0.0\n",
       "81     81.0        1.0 -0.030626  0.156784  0.004923 -0.217314       0.0       1.0     0.0\n",
       "82     82.0        1.0 -0.027491 -0.038408  0.000576  0.076918       1.0       1.0     0.0\n",
       "83     83.0        1.0 -0.028259  0.156706  0.002115 -0.215583       0.0       1.0     0.0\n",
       "84     84.0        1.0 -0.025125 -0.038446 -0.002197  0.077766       1.0       1.0     0.0\n",
       "85     85.0        1.0 -0.025893  0.156707 -0.000642 -0.215609       0.0       1.0     0.0\n",
       "86     86.0        1.0 -0.022759 -0.038406 -0.004954  0.076871       0.0       1.0     0.0\n",
       "87     87.0        1.0 -0.023527 -0.233456 -0.003416  0.367987       1.0       1.0     0.0\n",
       "88     88.0        1.0 -0.028197 -0.038286  0.003943  0.074229       1.0       1.0     0.0\n",
       "89     89.0        1.0 -0.028962  0.156779  0.005428 -0.217207       0.0       1.0     0.0\n",
       "90     90.0        1.0 -0.025827 -0.038420  0.001084  0.077183       1.0       1.0     0.0\n",
       "91     91.0        1.0 -0.026595  0.156686  0.002627 -0.215158       0.0       1.0     0.0\n",
       "92     92.0        1.0 -0.023461 -0.038473 -0.001676  0.078353       1.0       1.0     0.0\n",
       "93     93.0        1.0 -0.024231  0.156673 -0.000109 -0.214858       0.0       1.0     0.0\n",
       "94     94.0        1.0 -0.021097 -0.038447 -0.004406  0.077790       0.0       1.0     0.0\n",
       "95     95.0        1.0 -0.021866 -0.233506 -0.002850  0.369080       1.0       1.0     0.0\n",
       "96     96.0        1.0 -0.026536 -0.038344  0.004532  0.075500       1.0       1.0     0.0\n",
       "97     97.0        1.0 -0.027303  0.156713  0.006042 -0.215750       0.0       1.0     0.0\n",
       "98     98.0        1.0 -0.024169 -0.038495  0.001727  0.078833       1.0       1.0     0.0\n",
       "99     99.0        1.0 -0.024939  0.156602  0.003303 -0.213305       0.0       1.0     0.0\n",
       "100   100.0        1.0 -0.021807 -0.038567 -0.000963  0.080418       1.0       1.0     0.0\n",
       "101   101.0        1.0 -0.022578  0.156569  0.000646 -0.212569       0.0       1.0     0.0\n",
       "102   102.0        1.0 -0.019447 -0.038562 -0.003606  0.080318       1.0       1.0     0.0\n",
       "103   103.0        1.0 -0.020218  0.156611 -0.002000 -0.213500       0.0       1.0     0.0\n",
       "104   104.0        1.0 -0.017086 -0.038482 -0.006270  0.078551       0.0       1.0     0.0\n",
       "105   105.0        1.0 -0.017856 -0.233513 -0.004698  0.369249       1.0       1.0     0.0\n",
       "106   106.0        1.0 -0.022526 -0.038325  0.002686  0.075089       1.0       1.0     0.0\n",
       "107   107.0        1.0 -0.023292  0.156758  0.004188 -0.216746       0.0       1.0     0.0\n",
       "108   108.0        1.0 -0.020157 -0.038423 -0.000147  0.077256       1.0       1.0     0.0\n",
       "109   109.0        1.0 -0.020926  0.156701  0.001398 -0.215474       0.0       1.0     0.0\n",
       "110   110.0        1.0 -0.017792 -0.038441 -0.002911  0.077650       1.0       1.0     0.0\n",
       "111   111.0        1.0 -0.018560  0.156722 -0.001358 -0.215950       0.0       1.0     0.0\n",
       "112   112.0        1.0 -0.015426 -0.038380 -0.005677  0.076304       0.0       1.0     0.0\n",
       "113   113.0        1.0 -0.016194 -0.233420 -0.004151  0.367191       1.0       1.0     0.0\n",
       "114   114.0        1.0 -0.020862 -0.038239  0.003193  0.073202       1.0       1.0     0.0\n",
       "115   115.0        1.0 -0.021627  0.156837  0.004657 -0.218472       0.0       1.0     0.0\n",
       "116   116.0        1.0 -0.018490 -0.038352  0.000288  0.075676       1.0       1.0     0.0\n",
       "117   117.0        1.0 -0.019257  0.156766  0.001801 -0.216916       0.0       1.0     0.0\n",
       "118   118.0        1.0 -0.016122 -0.038381 -0.002537  0.076335       1.0       1.0     0.0\n",
       "119   119.0        1.0 -0.016889  0.156777 -0.001011 -0.217148       0.0       1.0     0.0\n",
       "120   120.0        1.0 -0.013754 -0.038331 -0.005354  0.075216       0.0       1.0     0.0\n",
       "121   121.0        1.0 -0.014520 -0.233375 -0.003849  0.366205       1.0       1.0     0.0\n",
       "122   122.0        1.0 -0.019188 -0.038199  0.003475  0.072311       1.0       1.0     0.0\n",
       "123   123.0        1.0 -0.019952  0.156873  0.004921 -0.219273       0.0       1.0     0.0\n",
       "124   124.0        1.0 -0.016814 -0.038319  0.000536  0.074958       1.0       1.0     0.0\n",
       "125   125.0        1.0 -0.017581  0.156795  0.002035 -0.217556       0.0       1.0     0.0\n",
       "126   126.0        1.0 -0.014445 -0.038356 -0.002316  0.075768       1.0       1.0     0.0\n",
       "127   127.0        1.0 -0.015212  0.156799 -0.000801 -0.217645       0.0       1.0     0.0\n",
       "128   128.0        1.0 -0.012076 -0.038311 -0.005154  0.074785       0.0       1.0     0.0\n",
       "129   129.0        1.0 -0.012842 -0.233359 -0.003658  0.365838       1.0       1.0     0.0\n",
       "130   130.0        1.0 -0.017509 -0.038185  0.003659  0.072004       1.0       1.0     0.0\n",
       "131   131.0        1.0 -0.018273  0.156884  0.005099 -0.219523       0.0       1.0     0.0\n",
       "132   132.0        1.0 -0.015135 -0.038310  0.000708  0.074764       1.0       1.0     0.0\n",
       "133   133.0        1.0 -0.015902  0.156802  0.002204 -0.217695       0.0       1.0     0.0\n",
       "134   134.0        1.0 -0.012766 -0.038352 -0.002150  0.075682       1.0       1.0     0.0\n",
       "135   135.0        1.0 -0.013533  0.156801 -0.000637 -0.217678       0.0       1.0     0.0\n",
       "136   136.0        1.0 -0.010397 -0.038312 -0.004990  0.074804       0.0       1.0     0.0\n",
       "137   137.0        1.0 -0.011163 -0.233362 -0.003494  0.365908       1.0       1.0     0.0\n",
       "138   138.0        1.0 -0.015830 -0.038191  0.003824  0.072125       1.0       1.0     0.0\n",
       "139   139.0        1.0 -0.016594  0.156876  0.005266 -0.219349       0.0       1.0     0.0\n",
       "140   140.0        1.0 -0.013456 -0.038321  0.000879  0.074991       1.0       1.0     0.0\n",
       "141   141.0        1.0 -0.014223  0.156789  0.002379 -0.217415       0.0       1.0     0.0\n",
       "142   142.0        1.0 -0.011087 -0.038367 -0.001969  0.076018       1.0       1.0     0.0\n",
       "143   143.0        1.0 -0.011854  0.156783 -0.000449 -0.217286       0.0       1.0     0.0\n",
       "144   144.0        1.0 -0.008719 -0.038332 -0.004794  0.075256       0.0       1.0     0.0\n",
       "145   145.0        1.0 -0.009485 -0.233385 -0.003289  0.366422       1.0       1.0     0.0\n",
       "146   146.0        1.0 -0.014153 -0.038217  0.004039  0.072704       1.0       1.0     0.0\n",
       "147   147.0        1.0 -0.014917  0.156847  0.005493 -0.218702       0.0       1.0     0.0\n",
       "148   148.0        1.0 -0.011780 -0.038353  0.001119  0.075709       1.0       1.0     0.0\n",
       "149   149.0        1.0 -0.012548  0.156753  0.002633 -0.216621       0.0       1.0     0.0\n",
       "150   150.0        1.0 -0.009413 -0.038407 -0.001699  0.076892       1.0       1.0     0.0\n",
       "151   151.0        1.0 -0.010181  0.156740 -0.000161 -0.216327       0.0       1.0     0.0\n",
       "152   152.0        1.0 -0.007046 -0.038380 -0.004488  0.076305       0.0       1.0     0.0\n",
       "153   153.0        1.0 -0.007813 -0.233437 -0.002962  0.367569       1.0       1.0     0.0\n",
       "154   154.0        1.0 -0.012482 -0.038273  0.004390  0.073954       1.0       1.0     0.0\n",
       "155   155.0        1.0 -0.013248  0.156785  0.005869 -0.217341       0.0       1.0     0.0\n",
       "156   156.0        1.0 -0.010112 -0.038420  0.001522  0.077187       1.0       1.0     0.0\n",
       "157   157.0        1.0 -0.010880  0.156680  0.003066 -0.215015       0.0       1.0     0.0\n",
       "158   158.0        1.0 -0.007747 -0.038486 -0.001234  0.078634       1.0       1.0     0.0\n",
       "159   159.0        1.0 -0.008516  0.156654  0.000338 -0.214439       0.0       1.0     0.0\n",
       "160   160.0        1.0 -0.005383 -0.038473 -0.003951  0.078351       0.0       1.0     0.0\n",
       "161   161.0        1.0 -0.006153 -0.233538 -0.002384  0.369785       1.0       1.0     0.0\n",
       "162   162.0        1.0 -0.010824 -0.038382  0.005012  0.076351       1.0       1.0     0.0\n",
       "163   163.0        1.0 -0.011591  0.156668  0.006539 -0.214746       0.0       1.0     0.0\n",
       "164   164.0        1.0 -0.008458 -0.038547  0.002244  0.079992       1.0       1.0     0.0\n",
       "165   165.0        1.0 -0.009229  0.156542  0.003844 -0.211982       0.0       1.0     0.0\n",
       "166   166.0        1.0 -0.006098 -0.038634 -0.000396  0.081912       1.0       1.0     0.0\n",
       "167   167.0        1.0 -0.006871  0.156493  0.001243 -0.210896       0.0       1.0     0.0\n",
       "168   168.0        1.0 -0.003741 -0.038646 -0.002975  0.082179       1.0       1.0     0.0\n",
       "169   169.0        1.0 -0.004514  0.156518 -0.001332 -0.211442       0.0       1.0     0.0\n",
       "170   170.0        1.0 -0.001383 -0.038585 -0.005560  0.080821       0.0       1.0     0.0\n",
       "171   171.0        1.0 -0.002155 -0.233627 -0.003944  0.371744       1.0       1.0     0.0\n",
       "172   172.0        1.0 -0.006828 -0.038449  0.003491  0.077820       1.0       1.0     0.0\n",
       "173   173.0        1.0 -0.007597  0.156623  0.005047 -0.213759       0.0       1.0     0.0\n",
       "174   174.0        1.0 -0.004464 -0.038571  0.000772  0.080512       1.0       1.0     0.0\n",
       "175   175.0        1.0 -0.005236  0.156540  0.002382 -0.211928       0.0       1.0     0.0\n",
       "176   176.0        1.0 -0.002105 -0.038616 -0.001856  0.081506       1.0       1.0     0.0\n",
       "177   177.0        1.0 -0.002877  0.156533 -0.000226 -0.211762       0.0       1.0     0.0\n",
       "178   178.0        1.0  0.000254 -0.038586 -0.004461  0.080849       0.0       1.0     0.0\n",
       "179   179.0        1.0 -0.000518 -0.233644 -0.002844  0.372121       1.0       1.0     0.0\n",
       "180   180.0        1.0 -0.005191 -0.038482  0.004598  0.078543       1.0       1.0     0.0\n",
       "181   181.0        1.0 -0.005961  0.156574  0.006169 -0.212686       0.0       1.0     0.0\n",
       "182   182.0        1.0 -0.002829 -0.038635  0.001915  0.081937       1.0       1.0     0.0\n",
       "183   183.0        1.0 -0.003602  0.156459  0.003554 -0.210141       0.0       1.0     0.0\n",
       "184   184.0        1.0 -0.000473 -0.038714 -0.000649  0.083661       1.0       1.0     0.0\n",
       "185   185.0        1.0 -0.001247  0.156418  0.001024 -0.209227       0.0       1.0     0.0\n",
       "186   186.0        1.0  0.001881 -0.038719 -0.003160  0.083779       1.0       1.0     0.0\n",
       "187   187.0        1.0  0.001107  0.156448 -0.001485 -0.209899       0.0       1.0     0.0\n",
       "188   188.0        1.0  0.004236 -0.038652 -0.005683  0.082315       0.0       1.0     0.0\n",
       "189   189.0        1.0  0.003463 -0.233692 -0.004036  0.373199       1.0       1.0     0.0\n",
       "190   190.0        1.0 -0.001211 -0.038513  0.003428  0.079246       1.0       1.0     0.0\n",
       "191   191.0        1.0 -0.001981  0.156559  0.005013 -0.212353       0.0       1.0     0.0\n",
       "192   192.0        1.0  0.001150 -0.038634  0.000765  0.081907       1.0       1.0     0.0\n",
       "193   193.0        1.0  0.000377  0.156477  0.002404 -0.210534       0.0       1.0     0.0\n",
       "194   194.0        1.0  0.003507 -0.038679 -0.001807  0.082906       1.0       1.0     0.0\n",
       "195   195.0        1.0  0.002733  0.156469 -0.000149 -0.210347       0.0       1.0     0.0\n",
       "196   196.0        1.0  0.005863 -0.038651 -0.004356  0.082289       0.0       1.0     0.0\n",
       "197   197.0        1.0  0.005090 -0.233711 -0.002710  0.373595       1.0       1.0     0.0\n",
       "198   198.0        1.0  0.000415 -0.038550  0.004762  0.080058       1.0       1.0     0.0\n",
       "199   199.0        1.0 -0.000356  0.156503  0.006363 -0.211118       0.0       1.0     1.0"
      ]
     },
     "execution_count": 19,
     "metadata": {},
     "output_type": "execute_result"
    }
   ],
   "source": [
    "scored_table = conn.CASTable(name = \"scored_table\")\n",
    "df = scored_table.to_frame()\n",
    "df"
   ]
  },
  {
   "cell_type": "code",
   "execution_count": 20,
   "metadata": {},
   "outputs": [
    {
     "data": {
      "image/png": "[encoded data removed]",
      "text/plain": [
       "<Figure size 432x288 with 1 Axes>"
      ]
     },
     "metadata": {
      "needs_background": "light"
     },
     "output_type": "display_data"
    }
   ],
   "source": [
    "plt.plot(df[\"_Action_\"][:50], color=\"blue\")\n",
    "plt.title(\"Cart Pole Action\", fontsize=20)\n",
    "plt.xlabel(\"Step\", fontsize=15)\n",
    "plt.ylabel(\"Action\", fontsize=15)\n",
    "plt.ylim(-0.1,1.1)\n",
    "plt.text(0,-0.06,\"Left\", color=\"red\", fontsize=12)\n",
    "plt.text(0,1.03,\"Right\", color=\"red\", fontsize=12)\n",
    "plt.show()"
   ]
  },
  {
   "cell_type": "code",
   "execution_count": 21,
   "metadata": {},
   "outputs": [
    {
     "data": {
      "image/png": "[encoded data removed]",
      "text/plain": [
       "<Figure size 432x288 with 1 Axes>"
      ]
     },
     "metadata": {
      "needs_background": "light"
     },
     "output_type": "display_data"
    }
   ],
   "source": [
    "plt.plot(df[\"_State_1\"], color=\"blue\")\n",
    "plt.title(\"Cart Velocity\", fontsize=20)\n",
    "plt.xlabel(\"Step\", fontsize=15)\n",
    "plt.ylabel(\"Velocity\", fontsize=15)\n",
    "plt.show()"
   ]
  },
  {
   "cell_type": "code",
   "execution_count": 22,
   "metadata": {},
   "outputs": [
    {
     "data": {
      "image/png": "[encoded data removed]",
      "text/plain": [
       "<Figure size 432x288 with 1 Axes>"
      ]
     },
     "metadata": {
      "needs_background": "light"
     },
     "output_type": "display_data"
    }
   ],
   "source": [
    "plt.plot(df[\"_State_2\"], color=\"blue\")\n",
    "plt.title(\"Cart Pole Angle\", fontsize=20)\n",
    "plt.xlabel(\"Step\", fontsize=15)\n",
    "plt.ylabel(\"Angle\", fontsize=15)\n",
    "plt.show()"
   ]
  },
  {
   "cell_type": "markdown",
   "metadata": {},
   "source": [
    "# End the Session"
   ]
  },
  {
   "cell_type": "code",
   "execution_count": 23,
   "metadata": {},
   "outputs": [
    {
     "data": {
      "text/html": [
       "<div class=\"cas-output-area\"></div>\n",
       "<p class=\"cas-results-performance\"><small><span class=\"cas-elapsed\">elapsed 0.000352s</span> &#183; <span class=\"cas-user\">user 0.000286s</span> &#183; <span class=\"cas-sys\">sys 2e-05s</span> &#183; <span class=\"cas-memory\">mem 0.203MB</span></small></p>"
      ],
      "text/plain": [
       "+ Elapsed: 0.000352s, user: 0.000286s, sys: 2e-05s, mem: 0.203mb"
      ]
     },
     "execution_count": 23,
     "metadata": {},
     "output_type": "execute_result"
    }
   ],
   "source": [
    "conn.session.endSession()"
   ]
  }
 ],
 "metadata": {
  "kernelspec": {
   "display_name": "Python 3",
   "language": "python",
   "name": "python3"
  },
  "language_info": {
   "codemirror_mode": {
    "name": "ipython",
    "version": 3
   },
   "file_extension": ".py",
   "mimetype": "text/x-python",
   "name": "python",
   "nbconvert_exporter": "python",
   "pygments_lexer": "ipython3",
   "version": "3.8.5"
  }
 },
 "nbformat": 4,
 "nbformat_minor": 4
}
