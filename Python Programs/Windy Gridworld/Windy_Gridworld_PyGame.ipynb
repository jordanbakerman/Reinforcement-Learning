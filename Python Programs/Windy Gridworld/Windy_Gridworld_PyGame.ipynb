{
 "cells": [
  {
   "cell_type": "markdown",
   "metadata": {},
   "source": [
    "# Windy Gridworld PyGame"
   ]
  },
  {
   "cell_type": "markdown",
   "metadata": {},
   "source": [
    "![title](windy_gridworld_pic.png)"
   ]
  },
  {
   "cell_type": "markdown",
   "metadata": {},
   "source": [
    "# Load Packages"
   ]
  },
  {
   "cell_type": "code",
   "execution_count": 1,
   "metadata": {},
   "outputs": [],
   "source": [
    "import gym\n",
    "from gym import error, spaces, utils\n",
    "import pygame\n",
    "from io import StringIO\n",
    "import sys\n",
    "import time\n",
    "import numpy as np\n",
    "import matplotlib.pyplot as plt"
   ]
  },
  {
   "cell_type": "markdown",
   "metadata": {},
   "source": [
    "# Class Object "
   ]
  },
  {
   "cell_type": "code",
   "execution_count": 2,
   "metadata": {},
   "outputs": [],
   "source": [
    "class WindygwEnv():\n",
    "    \n",
    "    metadata = {'render.modes': ['human']}\n",
    "    \n",
    "    def __init__(self):\n",
    "        \n",
    "        # Grid size\n",
    "        self.grid_rows = 7\n",
    "        self.grid_cols = 10\n",
    "\n",
    "        # Locations\n",
    "        self.start = [3, 0]\n",
    "        self.goal = [3, 7]\n",
    "        \n",
    "        # Wind Strength \n",
    "        self.wind = [0, 0, 0, 1, 1, 1, 2, 2, 1, 0]\n",
    "        \n",
    "        # Grid matrix\n",
    "        self.grid = np.full((7, 10), \"-\")\n",
    "        self.grid[self.start[0],self.start[1]] = \"S\"\n",
    "        self.grid[self.goal[0],self.goal[1]] = \"G\"\n",
    "\n",
    "        # Action set 0=Up 1=Down 2=Left 3=Right\n",
    "        self.actions = range(4)\n",
    "        self.action_letters = [\"Up\",\"Down\",\"Left\",\"Right\"]\n",
    "\n",
    "        # Reward at Each Step\n",
    "        self.reward = -1\n",
    "        \n",
    "        # Action space\n",
    "        self.action_space =  spaces.Discrete(len(self.actions))\n",
    "        \n",
    "        # Observation space\n",
    "        self.observation_space = spaces.Tuple((spaces.Discrete(self.grid_rows),\n",
    "                                              spaces.Discrete(self.grid_cols)))\n",
    "        \n",
    "    # Initialize state location\n",
    "    def reset(self):\n",
    "        \n",
    "        self.state = self.start\n",
    "        return self.state\n",
    "    \n",
    "    # Function to move through environment\n",
    "    def step(self, action):\n",
    "        \n",
    "        self.lasta = action\n",
    "        rownum, colnum = self.state\n",
    "    \n",
    "        # 0=Up\n",
    "        if action==0:\n",
    "            rownum = max( rownum -1 -self.wind[colnum], 0 )\n",
    "    \n",
    "        # 1=Down\n",
    "        elif action==1:\n",
    "            rownum = max( min( rownum +1 -self.wind[colnum], self.grid_rows-1 ), 0 )\n",
    "    \n",
    "        # 2=Left\n",
    "        elif action==2:\n",
    "            rownum = max( rownum -self.wind[colnum], 0 )\n",
    "            colnum = max( colnum -1, 0 )\n",
    "    \n",
    "        # 3=Right\n",
    "        else:\n",
    "            rownum = max( rownum -self.wind[colnum], 0 )\n",
    "            colnum = min( colnum +1, self.grid_cols-1 )\n",
    "        \n",
    "        # Update internal state location\n",
    "        self.state = [rownum, colnum]\n",
    "        \n",
    "        # Indicator for episode end\n",
    "        if self.state == self.goal:\n",
    "            done = True\n",
    "        else:\n",
    "            done = False\n",
    "            \n",
    "        # Return new state, reward received, episode end indicator, additional information\n",
    "        return self.state, self.reward, done, {}\n",
    "    \n",
    "    # Initialize Rendering\n",
    "    def init_render(self):\n",
    "        \n",
    "        # Define Colors\n",
    "        self.black = (0, 0, 0)\n",
    "        self.white = (255, 255, 255)\n",
    "        self.red = (255, 0, 0)\n",
    "        self.green = (0, 255, 0)\n",
    "        self.blue = (0, 0, 255)\n",
    "\n",
    "        # Define Grid\n",
    "        self.box_width = 40\n",
    "        self.box_height = 40\n",
    "        self.box_margin = 5\n",
    "\n",
    "        # Initialize window\n",
    "        pygame.init()\n",
    "        self.window_size = [(self.box_width+self.box_margin)*self.grid_cols + self.box_margin, \n",
    "                            (self.box_height+self.box_margin)*self.grid_rows + self.box_margin+100]\n",
    "        self.screen = pygame.display.set_mode(self.window_size)\n",
    "        \n",
    "        # Get Caption, Text, Images...\n",
    "        pygame.display.set_caption(\"Windy Grid World\")\n",
    "        self.text_font = pygame.font.Font(None, 60)\n",
    "        self.text_start = self.text_font.render('S', False, 'blue')\n",
    "        self.text_goal = self.text_font.render('G', False, 'blue')\n",
    "        self.eagle_image = pygame.image.load('eagle.png')\n",
    "        \n",
    "        # Initialize clock for fps\n",
    "        self.clock = pygame.time.Clock()\n",
    "        \n",
    "    # Print the state of the agent in the environment\n",
    "    def render(self, ep_num, step_num, mode=\"human\"):\n",
    "        \n",
    "        # Render the screen\n",
    "        self.screen.fill(self.black)\n",
    "        self.text_episode = self.text_font.render('Episode '+str(ep_num), False, 'white')\n",
    "        self.text_steps = self.text_font.render('Steps '+str(step_num), False, 'white')\n",
    "        \n",
    "        for row in range(self.grid_rows):\n",
    "            for column in range(self.grid_cols):\n",
    "            \n",
    "                color = self.white\n",
    "                if [row,column] == self.start or [row,column] == self.goal:\n",
    "                    color = self.red\n",
    "                \n",
    "                # Draw rectangles on screen for grid\n",
    "                pygame.draw.rect(self.screen, color,\n",
    "                                 [(self.box_margin + self.box_width) * column + self.box_margin, (self.box_margin + self.box_height) * row + self.box_margin,\n",
    "                                  self.box_width, self.box_height])\n",
    "        \n",
    "        # Add Text, Images...\n",
    "        self.screen.blit(self.text_start,((self.box_width+self.box_margin)*self.start[1] + self.box_margin+3, (self.box_height+self.box_margin)*self.start[0] + self.box_margin+3))\n",
    "        self.screen.blit(self.text_goal,((self.box_width+self.box_margin)*self.goal[1] + self.box_margin+3, (self.box_height+self.box_margin)*self.goal[0] + self.box_margin+3))\n",
    "        self.screen.blit(self.text_episode,((100, self.box_height* self.grid_rows + 50)))\n",
    "        self.screen.blit(self.text_steps,((100, self.box_height* self.grid_rows + 100)))\n",
    "        self.screen.blit(self.eagle_image,((self.box_margin + self.box_width) * self.state[1] + self.box_margin, (self.box_margin + self.box_height) * self.state[0] + self.box_margin))\n",
    "    \n",
    "        # Specify fps and update method\n",
    "        self.clock.tick(10)\n",
    "        pygame.display.update()"
   ]
  },
  {
   "cell_type": "markdown",
   "metadata": {},
   "source": [
    "# Make Environment"
   ]
  },
  {
   "cell_type": "code",
   "execution_count": 3,
   "metadata": {},
   "outputs": [],
   "source": [
    "env = WindygwEnv()"
   ]
  },
  {
   "cell_type": "markdown",
   "metadata": {},
   "source": [
    "# House Keeping"
   ]
  },
  {
   "cell_type": "code",
   "execution_count": 4,
   "metadata": {},
   "outputs": [],
   "source": [
    "# Set a Seed\n",
    "np.random.seed(802)\n",
    "\n",
    "# Grid size\n",
    "grid_rows = env.observation_space[0].n\n",
    "grid_cols = env.observation_space[1].n\n",
    "\n",
    "# Action set 0=Up 1=Down 2=Left 3=Right\n",
    "actions = range(env.action_space.n)\n",
    "\n",
    "# Step Size\n",
    "alpha = 0.5\n",
    "\n",
    "# Exploration Rate\n",
    "epsilon = 0.1\n",
    "\n",
    "# Set number of episodes to run\n",
    "episodes = 150"
   ]
  },
  {
   "cell_type": "markdown",
   "metadata": {},
   "source": [
    "# Q Table"
   ]
  },
  {
   "cell_type": "code",
   "execution_count": 5,
   "metadata": {},
   "outputs": [],
   "source": [
    "q_table = np.zeros([grid_rows, grid_cols, len(actions)])"
   ]
  },
  {
   "cell_type": "markdown",
   "metadata": {},
   "source": [
    "# Greedy Action Function"
   ]
  },
  {
   "cell_type": "code",
   "execution_count": 6,
   "metadata": {},
   "outputs": [],
   "source": [
    "def greedy(state, q_table, epsilon):\n",
    "    \n",
    "    # Randomly select action with probability epsilon\n",
    "    if np.random.uniform() < epsilon:\n",
    "        g_action = np.random.choice(actions)\n",
    "        \n",
    "    # Select the best action for the given state with probability 1-epsilon\n",
    "    else:\n",
    "        q_vals = q_table[state[0], state[1], :]\n",
    "        q_vals_max = np.where(q_vals==q_vals.max())[0]\n",
    "        g_action = np.random.choice(q_vals_max)\n",
    "    \n",
    "    return g_action"
   ]
  },
  {
   "cell_type": "markdown",
   "metadata": {},
   "source": [
    "# Q-Learning"
   ]
  },
  {
   "cell_type": "code",
   "execution_count": 7,
   "metadata": {},
   "outputs": [],
   "source": [
    "# Store the steps to reach the goal for each episode\n",
    "steps_vec = []\n",
    "\n",
    "# Initialize Rendering\n",
    "env.init_render()\n",
    "\n",
    "# Q-Learning\n",
    "for i in range(episodes):\n",
    "    \n",
    "    # Count steps per episode\n",
    "    steps_count = 0\n",
    "    \n",
    "    # Always start in the same position\n",
    "    state = env.reset()\n",
    "    \n",
    "    # Goal reached indicator to end episode\n",
    "    episode_end = False\n",
    "    \n",
    "    # Loop until the goal is reached\n",
    "    while episode_end != True:\n",
    "        \n",
    "        # PyGame\n",
    "        for event in pygame.event.get(): \n",
    "            if event.type == pygame.QUIT: \n",
    "                episode_end = True\n",
    "                \n",
    "        # Choose action based on epsilon-greedy\n",
    "        action = greedy(state, q_table, epsilon)\n",
    "        \n",
    "        # Find next state given current state and action\n",
    "        new_state, reward, episode_end, info = env.step(action)\n",
    "        \n",
    "        # Update the q-table with Q-Learning\n",
    "        q_table[state[0],state[1],action] =  q_table[state[0],state[1],action] + \\\n",
    "            alpha * ( reward + max(q_table[new_state[0],new_state[1],]) - \\\n",
    "            q_table[state[0],state[1],action] )\n",
    "\n",
    "        # Set new state to current state\n",
    "        state = new_state\n",
    "        \n",
    "        # Update steps count\n",
    "        steps_count += 1\n",
    "        \n",
    "        # Render Agent\n",
    "        if (i+1) % 10 == 0: \n",
    "            env.render(ep_num=i+1, step_num=steps_count)\n",
    "            \n",
    "            # Pause at goal state\n",
    "            if episode_end == True:\n",
    "                time.sleep(1)\n",
    "        \n",
    "    steps_vec.append(steps_count)\n",
    "\n",
    "# Close Window\n",
    "pygame.quit()"
   ]
  },
  {
   "cell_type": "markdown",
   "metadata": {},
   "source": [
    "# View Results"
   ]
  },
  {
   "cell_type": "code",
   "execution_count": 8,
   "metadata": {},
   "outputs": [
    {
     "data": {
      "image/png": "[encoded data removed]",
      "text/plain": [
       "<Figure size 640x480 with 1 Axes>"
      ]
     },
     "metadata": {},
     "output_type": "display_data"
    }
   ],
   "source": [
    "min_steps = min(steps_vec)\n",
    "plt.plot(steps_vec, color=\"blue\")\n",
    "plt.title(\"Q-Learning Total Steps Per Episode\", fontsize=20)\n",
    "plt.xlabel(\"Episode\", fontsize=15)\n",
    "plt.ylabel(\"Steps to Reach Goal\", fontsize=15)\n",
    "plt.text(steps_vec.index(min_steps),150,\"First Optimal Path\", fontsize=12)\n",
    "plt.vlines(x=steps_vec.index(min_steps), ymin=25, ymax=100, color='red', lw=2)\n",
    "plt.show()"
   ]
  },
  {
   "cell_type": "markdown",
   "metadata": {},
   "source": [
    "# Render Agent and Environment"
   ]
  },
  {
   "cell_type": "code",
   "execution_count": 9,
   "metadata": {},
   "outputs": [
    {
     "data": {
      "text/plain": [
       "array([['-', '-', '-', '-', '-', '-', 'A', 'A', 'A', 'A'],\n",
       "       ['-', '-', '-', '-', '-', 'A', '-', '-', '-', 'A'],\n",
       "       ['-', '-', '-', '-', 'A', '-', '-', '-', '-', 'A'],\n",
       "       ['S', 'A', 'A', 'A', '-', '-', '-', 'A', '-', 'A'],\n",
       "       ['-', '-', '-', '-', '-', '-', '-', '-', 'A', 'A'],\n",
       "       ['-', '-', '-', '-', '-', '-', '-', '-', '-', '-'],\n",
       "       ['-', '-', '-', '-', '-', '-', '-', '-', '-', '-']], dtype='<U1')"
      ]
     },
     "execution_count": 9,
     "metadata": {},
     "output_type": "execute_result"
    }
   ],
   "source": [
    "# Initialize environment\n",
    "state = env.reset()\n",
    "grid = env.grid\n",
    "\n",
    "episode_end = False\n",
    "# View optimal agent path\n",
    "while episode_end != True:\n",
    "    \n",
    "    # Use optimal action from q-table\n",
    "    action = np.argmax(q_table[state[0],state[1],:])\n",
    "    state, reward, episode_end, info = env.step(action)\n",
    "    grid[state[0],state[1]] = \"A\"\n",
    "    \n",
    "grid"
   ]
  }
 ],
 "metadata": {
  "kernelspec": {
   "display_name": "Python 3 (ipykernel)",
   "language": "python",
   "name": "python3"
  },
  "language_info": {
   "codemirror_mode": {
    "name": "ipython",
    "version": 3
   },
   "file_extension": ".py",
   "mimetype": "text/x-python",
   "name": "python",
   "nbconvert_exporter": "python",
   "pygments_lexer": "ipython3",
   "version": "3.9.13"
  }
 },
 "nbformat": 4,
 "nbformat_minor": 2
}
