{
 "cells": [
  {
   "cell_type": "markdown",
   "metadata": {},
   "source": [
    "# Cliff Walking Class"
   ]
  },
  {
   "cell_type": "markdown",
   "metadata": {},
   "source": [
    "![title](cliff_walking_pic.png)"
   ]
  },
  {
   "cell_type": "markdown",
   "metadata": {},
   "source": [
    "# Load Packages"
   ]
  },
  {
   "cell_type": "code",
   "execution_count": 1,
   "metadata": {},
   "outputs": [],
   "source": [
    "import gym\n",
    "from gym import error, spaces, utils\n",
    "from io import StringIO\n",
    "import sys\n",
    "import numpy as np\n",
    "import matplotlib.pyplot as plt"
   ]
  },
  {
   "cell_type": "markdown",
   "metadata": {},
   "source": [
    "# Class Object "
   ]
  },
  {
   "cell_type": "code",
   "execution_count": 2,
   "metadata": {},
   "outputs": [],
   "source": [
    "class CliffWalkingEnv():\n",
    "    \n",
    "    metadata = {'render.modes': ['human']}\n",
    "    \n",
    "    def __init__(self):\n",
    "        \n",
    "        # Grid size\n",
    "        self.grid_rows = 4\n",
    "        self.grid_cols = 12\n",
    "\n",
    "        # Locations\n",
    "        self.start = [3, 0]\n",
    "        self.goal = [3, 11]\n",
    "        \n",
    "        # Grid matrix\n",
    "        self.grid = np.full((self.grid_rows, self.grid_cols), \"-\")\n",
    "        self.grid[self.start[0],self.start[1]] = \"S\"\n",
    "        self.grid[self.goal[0],self.goal[1]] = \"G\"\n",
    "\n",
    "        # Action set 0=Up 1=Down 2=Left 3=Right\n",
    "        self.actions = range(4)\n",
    "        self.action_letters = [\"Up\",\"Down\",\"Left\",\"Right\"]\n",
    "\n",
    "        # Reward at Each Step\n",
    "        self.reward = -1\n",
    "        \n",
    "        # Action space\n",
    "        self.action_space =  spaces.Discrete(len(self.actions))\n",
    "        \n",
    "        # Observation space\n",
    "        self.observation_space = spaces.Tuple((spaces.Discrete(self.grid_rows),\n",
    "                                              spaces.Discrete(self.grid_cols)))\n",
    "    \n",
    "    # Initialize state location\n",
    "    def reset(self):\n",
    "        \n",
    "        self.state = self.start\n",
    "        return self.state\n",
    "    \n",
    "    # Function to move through environment\n",
    "    def step(self, action):\n",
    "        \n",
    "        self.lasta = action\n",
    "        rownum, colnum = self.state\n",
    "        self.reward = -1\n",
    "    \n",
    "        # 0=Up\n",
    "        if action==0:\n",
    "            rownum = max( rownum -1, 0 )\n",
    "    \n",
    "        # 1=Down\n",
    "        elif action==1:\n",
    "            rownum = min( rownum +1, self.grid_rows-1 )\n",
    "    \n",
    "        # 2=Left\n",
    "        elif action==2:\n",
    "            colnum = max( colnum -1, 0 )\n",
    "    \n",
    "        # 3=Right\n",
    "        else:\n",
    "            colnum = min( colnum +1, self.grid_cols-1 )\n",
    "        \n",
    "        # Restart Position if Agent Moves Off Cliff\n",
    "        if ( rownum==(self.grid_rows-1) ) & ( colnum in range(1,self.grid_cols-1) ):\n",
    "            rownum = self.start[0]\n",
    "            colnum = self.start[1]\n",
    "            self.reward = -100\n",
    "        \n",
    "        # Update internal state location\n",
    "        self.state = [rownum, colnum]\n",
    "        \n",
    "        # Indicator for episode end\n",
    "        if self.state == self.goal:\n",
    "            done = True\n",
    "        else:\n",
    "            done = False\n",
    "            \n",
    "        # Return new state, reward received, episode end indicator, additional information\n",
    "        return self.state, self.reward, done, {}\n",
    "       \n",
    "    # Print the state of the agent in the environment\n",
    "    def render(self, mode=\"human\"):\n",
    "        \n",
    "        # Initialize streaming file\n",
    "        outfile = StringIO() if mode == \"ansi\" else sys.stdout\n",
    "\n",
    "        # convert grid to list\n",
    "        agent_loc = self.grid.copy()\n",
    "        agent_loc[self.state[0],self.state[1]] = \"A\"\n",
    "        agent_loc = agent_loc.tolist()\n",
    "\n",
    "        # Specify colors\n",
    "        agent_loc[self.start[0]][self.start[1]] = utils.colorize(agent_loc[self.start[0]][self.start[1]], color=\"blue\", highlight=False)\n",
    "        agent_loc[self.goal[0]][self.goal[1]] = utils.colorize(agent_loc[self.goal[0]][self.goal[1]], color=\"red\", highlight=False)\n",
    "        agent_loc[self.state[0]][self.state[1]] = utils.colorize(agent_loc[self.state[0]][self.state[1]], color=\"green\", highlight=True)\n",
    "\n",
    "        # Print action and environment\n",
    "        outfile.write(\"\\n\"+str(self.action_letters[self.lasta])+\"\\n\")\n",
    "        outfile.write(\"\\n\".join(\"\".join(line) for line in agent_loc) + \"\\n\")"
   ]
  },
  {
   "cell_type": "markdown",
   "metadata": {},
   "source": [
    "# Make Environment"
   ]
  },
  {
   "cell_type": "code",
   "execution_count": 3,
   "metadata": {},
   "outputs": [],
   "source": [
    "env = CliffWalkingEnv()"
   ]
  },
  {
   "cell_type": "markdown",
   "metadata": {},
   "source": [
    "# House Keeping"
   ]
  },
  {
   "cell_type": "code",
   "execution_count": 4,
   "metadata": {},
   "outputs": [],
   "source": [
    "# Set a Seed\n",
    "np.random.seed(802)\n",
    "\n",
    "# Grid size\n",
    "grid_rows = env.observation_space[0].n\n",
    "grid_cols = env.observation_space[1].n\n",
    "\n",
    "# Action set 0=Up 1=Down 2=Left 3=Right\n",
    "actions = range(env.action_space.n)\n",
    "\n",
    "# Step Size\n",
    "alpha = 0.5\n",
    "\n",
    "# Exploration Rate\n",
    "epsilon = 0.1\n",
    "\n",
    "# Set number of episodes to run\n",
    "episodes = 500"
   ]
  },
  {
   "cell_type": "markdown",
   "metadata": {},
   "source": [
    "# Q Table"
   ]
  },
  {
   "cell_type": "code",
   "execution_count": 5,
   "metadata": {},
   "outputs": [],
   "source": [
    "q_table = np.zeros([grid_rows, grid_cols, len(actions)])"
   ]
  },
  {
   "cell_type": "markdown",
   "metadata": {},
   "source": [
    "# Greedy Action Function"
   ]
  },
  {
   "cell_type": "code",
   "execution_count": 6,
   "metadata": {},
   "outputs": [],
   "source": [
    "def greedy(state, q_table, epsilon):\n",
    "    \n",
    "    # Randomly select action with probability epsilon\n",
    "    if np.random.uniform() < epsilon:\n",
    "        g_action = np.random.choice(actions)\n",
    "        \n",
    "    # Select the best action for the given state with probability 1-epsilon\n",
    "    else:\n",
    "        q_vals = q_table[state[0], state[1], :]\n",
    "        q_vals_max = np.where(q_vals==q_vals.max())[0]\n",
    "        g_action = np.random.choice(q_vals_max)\n",
    "    \n",
    "    return g_action"
   ]
  },
  {
   "cell_type": "markdown",
   "metadata": {},
   "source": [
    "# Q-Learning"
   ]
  },
  {
   "cell_type": "code",
   "execution_count": 7,
   "metadata": {},
   "outputs": [],
   "source": [
    "# Store the steps to reach the goal for each episode\n",
    "steps_vec = []\n",
    "\n",
    "# Q-Learning\n",
    "for i in range(episodes):\n",
    "    \n",
    "    # Count steps per episode\n",
    "    steps_count = 0\n",
    "    \n",
    "    # Always start in the same position\n",
    "    state = env.reset()\n",
    "    \n",
    "    # Goal reached indicator to end episode\n",
    "    episode_end = False\n",
    "    \n",
    "    # Loop until the goal is reached\n",
    "    while episode_end != True:\n",
    "        \n",
    "        # Choose action based on epsilon-greedy\n",
    "        action = greedy(state, q_table, epsilon)\n",
    "        \n",
    "        # Find next state given current state and action\n",
    "        new_state, reward, episode_end, info = env.step(action)\n",
    "        \n",
    "        # Update the q-table with Q-Learning\n",
    "        q_table[state[0],state[1],action] =  q_table[state[0],state[1],action] + \\\n",
    "            alpha * ( reward + max(q_table[new_state[0],new_state[1],]) - \\\n",
    "            q_table[state[0],state[1],action] )\n",
    "\n",
    "        # Set new state to current state\n",
    "        state = new_state\n",
    "        \n",
    "        # Update steps count\n",
    "        steps_count += 1\n",
    "        \n",
    "    steps_vec.append(steps_count)"
   ]
  },
  {
   "cell_type": "markdown",
   "metadata": {},
   "source": [
    "# View Results"
   ]
  },
  {
   "cell_type": "code",
   "execution_count": 8,
   "metadata": {},
   "outputs": [
    {
     "name": "stdout",
     "output_type": "stream",
     "text": [
      "The agent followed the optimal path 31.0 % of the time with Q-Learning.\n"
     ]
    }
   ],
   "source": [
    "min_steps = min(steps_vec)\n",
    "optimal_path_count = sum(np.array(steps_vec)==min_steps)\n",
    "print(\"The agent followed the optimal path\", 100*optimal_path_count/episodes, \"% of the time with Q-Learning.\")"
   ]
  },
  {
   "cell_type": "code",
   "execution_count": 9,
   "metadata": {},
   "outputs": [
    {
     "data": {
      "image/png": "[encoded data removed]",
      "text/plain": [
       "<Figure size 640x480 with 1 Axes>"
      ]
     },
     "metadata": {},
     "output_type": "display_data"
    }
   ],
   "source": [
    "plt.plot(steps_vec, color=\"blue\")\n",
    "plt.title(\"Q-Learning Total Steps Per Episode\", fontsize=20)\n",
    "plt.xlabel(\"Episode\", fontsize=15)\n",
    "plt.ylabel(\"Steps to Reach Goal\", fontsize=15)\n",
    "plt.text(steps_vec.index(min_steps),150,\"First Optimal Path\", fontsize=12)\n",
    "plt.vlines(x=steps_vec.index(min_steps), ymin=25, ymax=100, color='red', lw=2)\n",
    "plt.show()"
   ]
  },
  {
   "cell_type": "markdown",
   "metadata": {},
   "source": [
    "# Render Agent and Environment"
   ]
  },
  {
   "cell_type": "code",
   "execution_count": 10,
   "metadata": {},
   "outputs": [
    {
     "name": "stdout",
     "output_type": "stream",
     "text": [
      "\n",
      "Up\n",
      "------------\n",
      "------------\n",
      "\u001b[42mA\u001b[0m-----------\n",
      "\u001b[34mS\u001b[0m----------\u001b[31mG\u001b[0m\n",
      "\n",
      "Right\n",
      "------------\n",
      "------------\n",
      "-\u001b[42mA\u001b[0m----------\n",
      "\u001b[34mS\u001b[0m----------\u001b[31mG\u001b[0m\n",
      "\n",
      "Right\n",
      "------------\n",
      "------------\n",
      "--\u001b[42mA\u001b[0m---------\n",
      "\u001b[34mS\u001b[0m----------\u001b[31mG\u001b[0m\n",
      "\n",
      "Right\n",
      "------------\n",
      "------------\n",
      "---\u001b[42mA\u001b[0m--------\n",
      "\u001b[34mS\u001b[0m----------\u001b[31mG\u001b[0m\n",
      "\n",
      "Right\n",
      "------------\n",
      "------------\n",
      "----\u001b[42mA\u001b[0m-------\n",
      "\u001b[34mS\u001b[0m----------\u001b[31mG\u001b[0m\n",
      "\n",
      "Right\n",
      "------------\n",
      "------------\n",
      "-----\u001b[42mA\u001b[0m------\n",
      "\u001b[34mS\u001b[0m----------\u001b[31mG\u001b[0m\n",
      "\n",
      "Right\n",
      "------------\n",
      "------------\n",
      "------\u001b[42mA\u001b[0m-----\n",
      "\u001b[34mS\u001b[0m----------\u001b[31mG\u001b[0m\n",
      "\n",
      "Right\n",
      "------------\n",
      "------------\n",
      "-------\u001b[42mA\u001b[0m----\n",
      "\u001b[34mS\u001b[0m----------\u001b[31mG\u001b[0m\n",
      "\n",
      "Right\n",
      "------------\n",
      "------------\n",
      "--------\u001b[42mA\u001b[0m---\n",
      "\u001b[34mS\u001b[0m----------\u001b[31mG\u001b[0m\n",
      "\n",
      "Right\n",
      "------------\n",
      "------------\n",
      "---------\u001b[42mA\u001b[0m--\n",
      "\u001b[34mS\u001b[0m----------\u001b[31mG\u001b[0m\n",
      "\n",
      "Right\n",
      "------------\n",
      "------------\n",
      "----------\u001b[42mA\u001b[0m-\n",
      "\u001b[34mS\u001b[0m----------\u001b[31mG\u001b[0m\n",
      "\n",
      "Right\n",
      "------------\n",
      "------------\n",
      "-----------\u001b[42mA\u001b[0m\n",
      "\u001b[34mS\u001b[0m----------\u001b[31mG\u001b[0m\n",
      "\n",
      "Down\n",
      "------------\n",
      "------------\n",
      "------------\n",
      "\u001b[34mS\u001b[0m----------\u001b[42m\u001b[31mA\u001b[0m\u001b[0m\n"
     ]
    }
   ],
   "source": [
    "# Initialize environment\n",
    "state = env.reset()\n",
    "episode_end = False\n",
    "\n",
    "# View optimal agent path\n",
    "while episode_end != True:\n",
    "    \n",
    "    # Use optimal action from q-table\n",
    "    action = np.argmax(q_table[state[0],state[1],:])\n",
    "    state, reward, episode_end, info = env.step(action)\n",
    "    env.render()"
   ]
  }
 ],
 "metadata": {
  "kernelspec": {
   "display_name": "Python 3 (ipykernel)",
   "language": "python",
   "name": "python3"
  },
  "language_info": {
   "codemirror_mode": {
    "name": "ipython",
    "version": 3
   },
   "file_extension": ".py",
   "mimetype": "text/x-python",
   "name": "python",
   "nbconvert_exporter": "python",
   "pygments_lexer": "ipython3",
   "version": "3.9.13"
  }
 },
 "nbformat": 4,
 "nbformat_minor": 2
}
